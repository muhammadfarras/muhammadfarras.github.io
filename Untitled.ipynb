{
 "cells": [
  {
   "cell_type": "code",
   "execution_count": 361,
   "id": "a098ea64-b240-4dac-8885-fe6d066e7a37",
   "metadata": {},
   "outputs": [
    {
     "name": "stdout",
     "output_type": "stream",
     "text": [
      "Bismillah.\n",
      "Dengan menyebut nama Allah\n",
      "\n"
     ]
    }
   ],
   "source": [
    "import io\n",
    "\n",
    "stream = io.StringIO()\n",
    "\n",
    "# Menggunakan method write\n",
    "stream.write(\"Bismillah.\\n\")\n",
    "\n",
    "# Menggunakan parameter file dengan nilai stream pada function print\n",
    "print('Dengan menyebut nama Allah', file=stream)\n",
    "\n",
    "print(stream.getvalue())\n",
    "stream.close()\n"
   ]
  },
  {
   "cell_type": "code",
   "execution_count": null,
   "id": "f05f8950-2a0b-4e28-b588-ebe40c16023e",
   "metadata": {},
   "outputs": [
    {
     "name": "stdout",
     "output_type": "stream",
     "text": [
      "Bismillah.\n",
      "Dengan menyebut nama Allah\n",
      "\n"
     ]
    }
   ],
   "source": [
    "import io\n",
    "\n",
    "def read_from_io():\n",
    "    with io.StringIO() as st:\n",
    "        # Menggunakan method write\n",
    "        st.write(\"Bismillah.\\n\")\n",
    "\n",
    "        # Menggunakan parameter file dengan nilai stream pada function print\n",
    "        print('Dengan menyebut nama Allah', file=st)\n",
    "\n",
    "        return st.getvalue()\n",
    "    \n",
    "print(read_from_io())"
   ]
  },
  {
   "cell_type": "code",
   "execution_count": 26,
   "id": "1c860e9d-c1c1-4bed-b114-a3a1e2276300",
   "metadata": {},
   "outputs": [
    {
     "name": "stdout",
     "output_type": "stream",
     "text": [
      "Request for get\n",
      "{'args': {'t': 'learn python programming'}, 'headers': {'Accept': '*/*', 'Accept-Encoding': 'gzip, deflate, br', 'Host': 'httpbin.org', 'User-Agent': 'python-requests/2.27.1', 'X-Amzn-Trace-Id': 'Root=1-6498e2e6-0a209958522fd24b68f6dc8d'}, 'origin': '140.213.134.96', 'url': 'https://httpbin.org/get?t=learn+python+programming'}\n",
      "type(rsp)=<class 'dict'>\n",
      "------------------------------\n",
      "Request for headers\n",
      "{'headers': {'Accept': '*/*', 'Accept-Encoding': 'gzip, deflate, br', 'Host': 'httpbin.org', 'User-Agent': 'python-requests/2.27.1', 'X-Amzn-Trace-Id': 'Root=1-6498e2e7-320394a203f804d672c40689'}}\n",
      "type(rsp)=<class 'dict'>\n",
      "------------------------------\n",
      "Request for ip\n",
      "{'origin': '140.213.136.102'}\n",
      "type(rsp)=<class 'dict'>\n",
      "------------------------------\n",
      "Request for user-agent\n",
      "{'user-agent': 'python-requests/2.27.1'}\n",
      "type(rsp)=<class 'dict'>\n",
      "------------------------------\n",
      "Request for UUID\n",
      "{'uuid': 'a89a1d04-5d0d-45fd-b2fc-74949ba7f75a'}\n",
      "type(rsp)=<class 'dict'>\n",
      "------------------------------\n",
      "Request for JSON\n",
      "{'slideshow': {'author': 'Yours Truly', 'date': 'date of publication', 'slides': [{'title': 'Wake up to WonderWidgets!', 'type': 'all'}, {'items': ['Why <em>WonderWidgets</em> are great', 'Who <em>buys</em> WonderWidgets'], 'title': 'Overview', 'type': 'all'}], 'title': 'Sample Slide Show'}}\n",
      "type(rsp)=<class 'dict'>\n",
      "------------------------------\n"
     ]
    }
   ],
   "source": [
    "from requests import request\n",
    "\n",
    "urls = {\n",
    "    \"get\": \"https://httpbin.org/get?t=learn+python+programming\",\n",
    "    \"headers\": \"https://httpbin.org/headers\",\n",
    "    \"ip\": \"https://httpbin.org/ip\",\n",
    "    \"user-agent\": \"https://httpbin.org/user-agent\",\n",
    "    \"UUID\": \"https://httpbin.org/uuid\",\n",
    "    \"JSON\": \"https://httpbin.org/json\",\n",
    "}\n",
    "\n",
    "\n",
    "def get_content(title,url):\n",
    "    print(f'Request for {title}')    \n",
    "    rsp = request('GET',url).json()\n",
    "    print(rsp)\n",
    "    print(f'{type(rsp)=}') # check type\n",
    "    print('-'*30)\n",
    "\n",
    "for title, url in urls.items():\n",
    "    get_content(title,url)"
   ]
  },
  {
   "cell_type": "code",
   "execution_count": 31,
   "id": "0ea5b4b4-82f1-46e5-ac05-574d862bf202",
   "metadata": {},
   "outputs": [
    {
     "name": "stdout",
     "output_type": "stream",
     "text": [
      "{'args': {}, 'data': '', 'files': {}, 'form': {'title': 'Mulia dengan manhaj salaf'}, 'headers': {'Accept': '*/*', 'Accept-Encoding': 'gzip, deflate, br', 'Content-Length': '31', 'Content-Type': 'application/x-www-form-urlencoded', 'Host': 'httpbin.org', 'User-Agent': 'python-requests/2.27.1', 'X-Amzn-Trace-Id': 'Root=1-6498e50e-4579f68554ba761a646f5d26'}, 'json': None, 'origin': '140.213.136.102', 'url': 'http://httpbin.org/post'}\n"
     ]
    }
   ],
   "source": [
    "url = 'http://httpbin.org/post'\n",
    "data = {'title':'Mulia dengan manhaj salaf'}\n",
    "\n",
    "rsp = request('POST',url, data=data)\n",
    "\n",
    "print(rsp.json())"
   ]
  },
  {
   "cell_type": "code",
   "execution_count": 27,
   "id": "52bd25ee-1dc6-4e78-be98-ae9fa61d4778",
   "metadata": {},
   "outputs": [
    {
     "name": "stdout",
     "output_type": "stream",
     "text": [
      "Help on function request in module requests.api:\n",
      "\n",
      "request(method, url, **kwargs)\n",
      "    Constructs and sends a :class:`Request <Request>`.\n",
      "    \n",
      "    :param method: method for the new :class:`Request` object: ``GET``, ``OPTIONS``, ``HEAD``, ``POST``, ``PUT``, ``PATCH``, or ``DELETE``.\n",
      "    :param url: URL for the new :class:`Request` object.\n",
      "    :param params: (optional) Dictionary, list of tuples or bytes to send\n",
      "        in the query string for the :class:`Request`.\n",
      "    :param data: (optional) Dictionary, list of tuples, bytes, or file-like\n",
      "        object to send in the body of the :class:`Request`.\n",
      "    :param json: (optional) A JSON serializable Python object to send in the body of the :class:`Request`.\n",
      "    :param headers: (optional) Dictionary of HTTP Headers to send with the :class:`Request`.\n",
      "    :param cookies: (optional) Dict or CookieJar object to send with the :class:`Request`.\n",
      "    :param files: (optional) Dictionary of ``'name': file-like-objects`` (or ``{'name': file-tuple}``) for multipart encoding upload.\n",
      "        ``file-tuple`` can be a 2-tuple ``('filename', fileobj)``, 3-tuple ``('filename', fileobj, 'content_type')``\n",
      "        or a 4-tuple ``('filename', fileobj, 'content_type', custom_headers)``, where ``'content-type'`` is a string\n",
      "        defining the content type of the given file and ``custom_headers`` a dict-like object containing additional headers\n",
      "        to add for the file.\n",
      "    :param auth: (optional) Auth tuple to enable Basic/Digest/Custom HTTP Auth.\n",
      "    :param timeout: (optional) How many seconds to wait for the server to send data\n",
      "        before giving up, as a float, or a :ref:`(connect timeout, read\n",
      "        timeout) <timeouts>` tuple.\n",
      "    :type timeout: float or tuple\n",
      "    :param allow_redirects: (optional) Boolean. Enable/disable GET/OPTIONS/POST/PUT/PATCH/DELETE/HEAD redirection. Defaults to ``True``.\n",
      "    :type allow_redirects: bool\n",
      "    :param proxies: (optional) Dictionary mapping protocol to the URL of the proxy.\n",
      "    :param verify: (optional) Either a boolean, in which case it controls whether we verify\n",
      "            the server's TLS certificate, or a string, in which case it must be a path\n",
      "            to a CA bundle to use. Defaults to ``True``.\n",
      "    :param stream: (optional) if ``False``, the response content will be immediately downloaded.\n",
      "    :param cert: (optional) if String, path to ssl client cert file (.pem). If Tuple, ('cert', 'key') pair.\n",
      "    :return: :class:`Response <Response>` object\n",
      "    :rtype: requests.Response\n",
      "    \n",
      "    Usage::\n",
      "    \n",
      "      >>> import requests\n",
      "      >>> req = requests.request('GET', 'https://httpbin.org/get')\n",
      "      >>> req\n",
      "      <Response [200]>\n",
      "\n"
     ]
    }
   ],
   "source": [
    "help(request)"
   ]
  },
  {
   "cell_type": "code",
   "execution_count": 70,
   "id": "d0c56b5c-7f40-48e4-bacb-3f1540fca2fa",
   "metadata": {},
   "outputs": [
    {
     "name": "stdout",
     "output_type": "stream",
     "text": [
      "Assalamualiakum, my name is Muhamad Farras and my id number is 27\n",
      "Assalamualiakum, my name is Tania Dwi and my id number is 11\n",
      "Assalamualiakum, my name is Muhamad Faris and my id number is 5\n",
      "Assalamualiakum, my name is Nu'man Noah and my id number is 13\n"
     ]
    }
   ],
   "source": [
    "from dataclasses import dataclass\n",
    "import pickle\n",
    "\n",
    "@dataclass\n",
    "class Person:\n",
    "    first_name:str\n",
    "    last_name:str\n",
    "    _id:int\n",
    "    \n",
    "    def greets(self):\n",
    "        print(f'Assalamualiakum, my name is {self.first_name} {self.last_name} and my id number is {self._id}')\n",
    "\n",
    "people = [\n",
    "    Person('Muhamad','Farras',27),\n",
    "    Person('Tania','Dwi',11),\n",
    "    Person('Muhamad','Faris',5),\n",
    "    Person('Nu\\'man','Noah',13)\n",
    "]\n",
    "\n",
    "# Writting to binnary\n",
    "with open('my_fam.pickle', mode='wb') as stream:\n",
    "    pickle.dump(people, stream)\n",
    "        \n",
    "# Load the data\n",
    "with open('my_fam.pickle', mode='rb') as stream:\n",
    "    loaded_data = pickle.load(stream)\n",
    "        \n",
    "for a in loaded_data:\n",
    "    a.greets()"
   ]
  },
  {
   "cell_type": "code",
   "execution_count": 116,
   "id": "c181260b-b857-4a0e-a810-53a1e56789a4",
   "metadata": {},
   "outputs": [
    {
     "name": "stdout",
     "output_type": "stream",
     "text": [
      "[1, 2, 3, 4, 5]\n",
      "['frs', 'tna', 'list']\n"
     ]
    }
   ],
   "source": [
    "import shelve\n",
    "\n",
    "class Student:\n",
    "    def __init__(self, id, name):\n",
    "        self.id = id\n",
    "        self.name = name\n",
    "    \n",
    "    def information(self):\n",
    "        print(f'Id\\'s {self.name} is {self.id}')\n",
    "        \n",
    "        \n",
    "with shelve.open('my_data.shelve') as db:\n",
    "    db['frs'] = Student(27,'Farras')\n",
    "    db['tna'] = Student(11,'Tania')\n",
    "    db['list'] = [1,2,3,4,5]\n",
    "    db['delete'] = 'We have to delete this one latter'\n",
    "    \n",
    "    del db['delete']\n",
    "    db['list'].extend((5,6,7,8,9)) # Doesny work\n",
    "    print(db['list'])\n",
    "    print(list(db.keys()))"
   ]
  },
  {
   "cell_type": "code",
   "execution_count": 114,
   "id": "fe043bcc-93d6-4526-8601-1efe5984adad",
   "metadata": {},
   "outputs": [
    {
     "name": "stdout",
     "output_type": "stream",
     "text": [
      "[1, 2, 3, 4, 5, 5, 6, 7, 8, 9]\n",
      "['frs', 'tna', 'list']\n"
     ]
    }
   ],
   "source": [
    "import shelve\n",
    "\n",
    "class Student:\n",
    "    def __init__(self, id, name):\n",
    "        self.id = id\n",
    "        self.name = name\n",
    "    \n",
    "    def information(self):\n",
    "        print(f'Id\\'s {self.name} is {self.id}')\n",
    "        \n",
    "        \n",
    "with shelve.open('my_data.shelve', writeback=True) as db:\n",
    "    db['frs'] = Student(27,'Farras')\n",
    "    db['tna'] = Student(11,'Tania')\n",
    "    db['list'] = [1,2,3,4,5]\n",
    "    db['delete'] = 'We have to delete this one latter'\n",
    "    \n",
    "    del db['delete']\n",
    "    db['list'].extend((5,6,7,8,9)) # work\n",
    "    print(db['list'])\n",
    "    print(list(db.keys()))"
   ]
  },
  {
   "cell_type": "code",
   "execution_count": 112,
   "id": "1ca017cd-23f6-4dd0-af50-b8b8905000cc",
   "metadata": {},
   "outputs": [
    {
     "name": "stdout",
     "output_type": "stream",
     "text": [
      "[1, 2, 3, 4, 5, 5, 6, 7, 8, 9]\n",
      "['frs', 'tna', 'list']\n"
     ]
    }
   ],
   "source": [
    "import shelve\n",
    "\n",
    "class Student:\n",
    "    def __init__(self, id, name):\n",
    "        self.id = id\n",
    "        self.name = name\n",
    "    \n",
    "    def information(self):\n",
    "        print(f'Id\\'s {self.name} is {self.id}')\n",
    "        \n",
    "        \n",
    "with shelve.open('my_data.shelve') as db:\n",
    "    db['frs'] = Student(27,'Farras')\n",
    "    db['tna'] = Student(11,'Tania')\n",
    "    db['list'] = [1,2,3,4,5]\n",
    "    db['delete'] = 'We have to delete this one latter'\n",
    "    \n",
    "    del db['delete']\n",
    "    list_1 = db['list']\n",
    "    list_1.extend((5,6,7,8,9))\n",
    "    db['list'] = list_1\n",
    "    print(db['list'])\n",
    "    print(list(db.keys()))"
   ]
  }
 ],
 "metadata": {
  "kernelspec": {
   "display_name": "Python 3 (ipykernel)",
   "language": "python",
   "name": "python3"
  },
  "language_info": {
   "codemirror_mode": {
    "name": "ipython",
    "version": 3
   },
   "file_extension": ".py",
   "mimetype": "text/x-python",
   "name": "python",
   "nbconvert_exporter": "python",
   "pygments_lexer": "ipython3",
   "version": "3.9.12"
  },
  "toc": {
   "base_numbering": 1,
   "nav_menu": {},
   "number_sections": true,
   "sideBar": true,
   "skip_h1_title": false,
   "title_cell": "Table of Contents",
   "title_sidebar": "Contents",
   "toc_cell": false,
   "toc_position": {},
   "toc_section_display": true,
   "toc_window_display": true
  }
 },
 "nbformat": 4,
 "nbformat_minor": 5
}
