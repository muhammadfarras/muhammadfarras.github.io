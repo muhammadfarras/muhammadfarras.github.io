{
 "cells": [
  {
   "cell_type": "code",
   "execution_count": 1,
   "id": "b64d48e7",
   "metadata": {},
   "outputs": [],
   "source": [
    "from datetime import date"
   ]
  },
  {
   "cell_type": "code",
   "execution_count": 2,
   "id": "f9918e21",
   "metadata": {},
   "outputs": [],
   "source": [
    "today = date.today()"
   ]
  },
  {
   "cell_type": "code",
   "execution_count": 3,
   "id": "87b41075",
   "metadata": {},
   "outputs": [
    {
     "name": "stdout",
     "output_type": "stream",
     "text": [
      "Return time tuple, compatible with time.localtime().\n"
     ]
    }
   ],
   "source": [
    "print(today.timetuple.__doc__)"
   ]
  },
  {
   "cell_type": "code",
   "execution_count": 4,
   "id": "c24164f2",
   "metadata": {},
   "outputs": [
    {
     "data": {
      "text/plain": [
       "time.struct_time(tm_year=2023, tm_mon=2, tm_mday=16, tm_hour=0, tm_min=0, tm_sec=0, tm_wday=3, tm_yday=47, tm_isdst=-1)"
      ]
     },
     "execution_count": 4,
     "metadata": {},
     "output_type": "execute_result"
    }
   ],
   "source": [
    "today.timetuple()"
   ]
  },
  {
   "cell_type": "code",
   "execution_count": 5,
   "id": "12e0947a",
   "metadata": {},
   "outputs": [
    {
     "data": {
      "text/plain": [
       "2023"
      ]
     },
     "execution_count": 5,
     "metadata": {},
     "output_type": "execute_result"
    }
   ],
   "source": [
    "today.timetuple().tm_year"
   ]
  },
  {
   "cell_type": "code",
   "execution_count": 6,
   "id": "fff81fff",
   "metadata": {},
   "outputs": [
    {
     "data": {
      "text/plain": [
       "'Return the day of the week represented by the date.\\nMonday == 0 ... Sunday == 6'"
      ]
     },
     "execution_count": 6,
     "metadata": {},
     "output_type": "execute_result"
    }
   ],
   "source": [
    "today.weekday.__doc__"
   ]
  },
  {
   "cell_type": "code",
   "execution_count": 7,
   "id": "55369b01",
   "metadata": {},
   "outputs": [
    {
     "data": {
      "text/plain": [
       "3"
      ]
     },
     "execution_count": 7,
     "metadata": {},
     "output_type": "execute_result"
    }
   ],
   "source": [
    "today.weekday()"
   ]
  },
  {
   "cell_type": "code",
   "execution_count": 8,
   "id": "06eced33",
   "metadata": {},
   "outputs": [],
   "source": [
    "import calendar"
   ]
  },
  {
   "cell_type": "code",
   "execution_count": 9,
   "id": "cb327f4f",
   "metadata": {},
   "outputs": [
    {
     "ename": "AttributeError",
     "evalue": "module 'calendar' has no attribute 'day_'",
     "output_type": "error",
     "traceback": [
      "\u001b[0;31m---------------------------------------------------------------------------\u001b[0m",
      "\u001b[0;31mAttributeError\u001b[0m                            Traceback (most recent call last)",
      "Input \u001b[0;32mIn [9]\u001b[0m, in \u001b[0;36m<cell line: 1>\u001b[0;34m()\u001b[0m\n\u001b[0;32m----> 1\u001b[0m \u001b[43mcalendar\u001b[49m\u001b[38;5;241;43m.\u001b[39;49m\u001b[43mday_\u001b[49m\n",
      "\u001b[0;31mAttributeError\u001b[0m: module 'calendar' has no attribute 'day_'"
     ]
    }
   ],
   "source": [
    "calendar.day_"
   ]
  },
  {
   "cell_type": "code",
   "execution_count": null,
   "id": "81844835",
   "metadata": {},
   "outputs": [],
   "source": [
    "import calendar\n",
    "\n",
    "calendar.day_name[today.weekday()]\n"
   ]
  },
  {
   "cell_type": "code",
   "execution_count": null,
   "id": "267d704e",
   "metadata": {},
   "outputs": [],
   "source": [
    "import time"
   ]
  },
  {
   "cell_type": "code",
   "execution_count": null,
   "id": "7e43c767",
   "metadata": {},
   "outputs": [],
   "source": [
    "print(time.__doc__)"
   ]
  },
  {
   "cell_type": "code",
   "execution_count": null,
   "id": "61c5302c",
   "metadata": {},
   "outputs": [],
   "source": [
    "print(time.ctime.__doc__)"
   ]
  },
  {
   "cell_type": "code",
   "execution_count": null,
   "id": "cbcdc5d9",
   "metadata": {},
   "outputs": [],
   "source": [
    "time.ctime()"
   ]
  },
  {
   "cell_type": "code",
   "execution_count": null,
   "id": "0d333307",
   "metadata": {},
   "outputs": [],
   "source": [
    "time.daylight"
   ]
  },
  {
   "cell_type": "code",
   "execution_count": null,
   "id": "d041861a",
   "metadata": {},
   "outputs": [],
   "source": [
    "help(time.gmtime)"
   ]
  },
  {
   "cell_type": "code",
   "execution_count": null,
   "id": "2b809282",
   "metadata": {},
   "outputs": [],
   "source": [
    "time.gmtime()"
   ]
  },
  {
   "cell_type": "code",
   "execution_count": null,
   "id": "3f6147f8",
   "metadata": {},
   "outputs": [],
   "source": [
    "time.gmtime(1999999999)"
   ]
  },
  {
   "cell_type": "code",
   "execution_count": null,
   "id": "162e1937",
   "metadata": {},
   "outputs": [],
   "source": [
    "print(time.struct_time.__doc__)"
   ]
  },
  {
   "cell_type": "code",
   "execution_count": null,
   "id": "ca49d94e",
   "metadata": {},
   "outputs": [],
   "source": [
    "time.time()"
   ]
  },
  {
   "cell_type": "code",
   "execution_count": null,
   "id": "bd00806c",
   "metadata": {},
   "outputs": [],
   "source": [
    "help(time.localtime)"
   ]
  },
  {
   "cell_type": "code",
   "execution_count": null,
   "id": "0dc36f37",
   "metadata": {},
   "outputs": [],
   "source": [
    "help(time.gmtime)"
   ]
  },
  {
   "cell_type": "code",
   "execution_count": null,
   "id": "4653d438",
   "metadata": {},
   "outputs": [],
   "source": [
    "time.localtime()"
   ]
  },
  {
   "cell_type": "code",
   "execution_count": null,
   "id": "aa192313",
   "metadata": {},
   "outputs": [],
   "source": [
    "time.gmtime()"
   ]
  },
  {
   "cell_type": "code",
   "execution_count": null,
   "id": "776e956a",
   "metadata": {},
   "outputs": [],
   "source": [
    "from datetime import datetime\n",
    "print(datetime.__doc__)"
   ]
  },
  {
   "cell_type": "code",
   "execution_count": null,
   "id": "435e8d7f",
   "metadata": {},
   "outputs": [],
   "source": [
    "print(datetime.__doc__)"
   ]
  },
  {
   "cell_type": "code",
   "execution_count": null,
   "id": "a12d02e6",
   "metadata": {},
   "outputs": [],
   "source": [
    "datetime.now()"
   ]
  },
  {
   "cell_type": "code",
   "execution_count": null,
   "id": "042aa96b",
   "metadata": {},
   "outputs": [],
   "source": [
    "datetime.utcnow()"
   ]
  },
  {
   "cell_type": "code",
   "execution_count": null,
   "id": "bc1dbeef",
   "metadata": {},
   "outputs": [],
   "source": [
    "datetime(2023,12,10)"
   ]
  },
  {
   "cell_type": "code",
   "execution_count": null,
   "id": "d16b10b7",
   "metadata": {},
   "outputs": [],
   "source": [
    "from zoneinfo import ZoneInfo\n",
    "dt_f = datetime(year=2021, month=10, day = 13, hour=0, minute=23, tzinfo=ZoneInfo(\"Asia/Jakarta\"))\n",
    "dt_n = datetime(year=2020, month=5, day = 11, hour=11, minute=30, tzinfo=ZoneInfo(\"Asia/Jakarta\"))"
   ]
  },
  {
   "cell_type": "code",
   "execution_count": null,
   "id": "15e5d074",
   "metadata": {},
   "outputs": [],
   "source": [
    "diff = dt_f - dt_n"
   ]
  },
  {
   "cell_type": "code",
   "execution_count": null,
   "id": "7bed00ed",
   "metadata": {},
   "outputs": [],
   "source": [
    "print(dir(diff))"
   ]
  },
  {
   "cell_type": "code",
   "execution_count": null,
   "id": "934e2869",
   "metadata": {},
   "outputs": [],
   "source": [
    "diff.days"
   ]
  },
  {
   "cell_type": "code",
   "execution_count": null,
   "id": "585df562",
   "metadata": {},
   "outputs": [],
   "source": [
    "from zoneinfo import ZoneInfo\n",
    "dt_f = datetime(year=2021, month=10, day = 13, hour=0, minute=23, tzinfo=ZoneInfo(\"Asia/Jakarta\"))\n",
    "dt_n = datetime(year=2020, month=5, day = 11, hour=11, minute=30, tzinfo=ZoneInfo(\"Asia/Jakarta\"))\n",
    "\n",
    "diff = dt_f - dt_n\n",
    "\n",
    "print(f'Selisih hari lahir Faris dan Noah {diff.days} hari')\n",
    "print(f'Selisih detik lahir Faris dan Noah {diff.total_seconds()} hari')\n"
   ]
  },
  {
   "cell_type": "code",
   "execution_count": null,
   "id": "f46c80d7",
   "metadata": {},
   "outputs": [],
   "source": [
    "print(type(dt_f))\n",
    "print(type(dt_n))\n",
    "print(type(diff))"
   ]
  },
  {
   "cell_type": "code",
   "execution_count": null,
   "id": "7d6c7f4a",
   "metadata": {},
   "outputs": [],
   "source": [
    "from datetime import timedelta"
   ]
  },
  {
   "cell_type": "code",
   "execution_count": null,
   "id": "2cd73ee0",
   "metadata": {},
   "outputs": [],
   "source": [
    "td = datetime.now(tz=ZoneInfo(\"Asia/Jakarta\"))\n",
    "td"
   ]
  },
  {
   "cell_type": "code",
   "execution_count": null,
   "id": "47157005",
   "metadata": {},
   "outputs": [],
   "source": [
    "help(date)"
   ]
  },
  {
   "cell_type": "code",
   "execution_count": null,
   "id": "5253ed87",
   "metadata": {},
   "outputs": [],
   "source": [
    "limaRibuHari = timedelta(days=5000)\n",
    "umurFaris = (datetime.now(tz=ZoneInfo(\"Asia/Jakarta\")) - dt_f) + limaRibuHari\n",
    "help(umurFaris)"
   ]
  },
  {
   "cell_type": "code",
   "execution_count": null,
   "id": "bb4f33e9",
   "metadata": {},
   "outputs": [],
   "source": [
    "limaRibuHari = timedelta(days=5000)\n",
    "umurFaris = dt_f + limaRibuHari\n",
    "print(umurFaris)"
   ]
  },
  {
   "cell_type": "code",
   "execution_count": null,
   "id": "b8fb77a6",
   "metadata": {},
   "outputs": [],
   "source": [
    "iso_date = '1977-11-24T19:30:13+01:00'\n",
    "print(datetime.fromisoformat(iso_date))"
   ]
  },
  {
   "cell_type": "code",
   "execution_count": null,
   "id": "d440ff57",
   "metadata": {},
   "outputs": [],
   "source": [
    "time_stamp_now = time.time()\n",
    "print(datetime.fromtimestamp(time_stamp_now, tz=ZoneInfo(\"Asia/Jakarta\")))"
   ]
  },
  {
   "cell_type": "code",
   "execution_count": null,
   "id": "c547f354",
   "metadata": {},
   "outputs": [],
   "source": [
    "order_total = 247\n",
    "\n",
    "if order_total > 100:\n",
    "    discount = 25  # GBP\n",
    "else:\n",
    "    discount = 0  # GBP\n",
    "print(f'Jumlah order {order_total}, mendapatkan diskon {discount}')"
   ]
  },
  {
   "cell_type": "code",
   "execution_count": null,
   "id": "b830591d",
   "metadata": {},
   "outputs": [],
   "source": [
    "order_total = 247\n",
    "discount = 25 if order_total > 100 else 0\n",
    "print(f'Jumlah order {order_total}, mendapatkan diskon {discount}')"
   ]
  },
  {
   "cell_type": "code",
   "execution_count": null,
   "id": "5e47fc5b",
   "metadata": {},
   "outputs": [],
   "source": [
    "for number in [0, 1, 2, 3, 4]:\n",
    "    print(number)"
   ]
  },
  {
   "cell_type": "code",
   "execution_count": null,
   "id": "ca7b17eb",
   "metadata": {},
   "outputs": [],
   "source": [
    "for number in range(5):\n",
    "    print(number)"
   ]
  },
  {
   "cell_type": "code",
   "execution_count": null,
   "id": "b47cd0bf",
   "metadata": {},
   "outputs": [],
   "source": [
    "nama = 'farras', 'tania', 'faris', 'noah'\n",
    "for position in range (len (nama) ):\n",
    "    print(f'Nomor urut {position} adalah {nama[position]}')\n"
   ]
  },
  {
   "cell_type": "code",
   "execution_count": null,
   "id": "c82bbe77",
   "metadata": {},
   "outputs": [],
   "source": [
    "nama = 'farras', 'tania', 'faris', 'noah'\n",
    "for positions, value in enumerate (nama, start = 2): \n",
    "    print(f'Nomor {positions} disini oleh {value}')\n"
   ]
  },
  {
   "cell_type": "code",
   "execution_count": null,
   "id": "cdfa2035",
   "metadata": {},
   "outputs": [],
   "source": [
    "nama = 'farras', 'faris', 'noah'\n",
    "print(type (nama))\n",
    "\n",
    "iter_nama = iter(nama)\n",
    "print(type (iter_nama))\n"
   ]
  },
  {
   "cell_type": "code",
   "execution_count": null,
   "id": "dbd9dd89-f37c-4808-9694-b854a4e9331a",
   "metadata": {},
   "outputs": [],
   "source": [
    "print(next(iter_nama)) #(1)\n",
    "print(next(iter_nama)) #(2)\n",
    "print(next(iter_nama)) #(3)\n",
    "print(next(iter_nama)) #(4)"
   ]
  },
  {
   "cell_type": "code",
   "execution_count": null,
   "id": "5bf9be52-00f8-43eb-8a17-4e494cb70b4b",
   "metadata": {},
   "outputs": [],
   "source": [
    "for a in iter_nama:\n",
    "    print (a)"
   ]
  },
  {
   "cell_type": "code",
   "execution_count": null,
   "id": "99a35b8d-1ea4-48c1-8866-7579e983d9d9",
   "metadata": {},
   "outputs": [],
   "source": []
  },
  {
   "cell_type": "code",
   "execution_count": null,
   "id": "93269cd1-0402-4e8e-a468-a97e4b64eba9",
   "metadata": {},
   "outputs": [],
   "source": [
    "data = range(3)\n",
    "print(\"Pemanggilan pertaman\")\n",
    "for a in data:\n",
    "    print (a)\n",
    "print(\"Pemanggialan kedua\")\n",
    "for a in data:\n",
    "    print (a)"
   ]
  },
  {
   "cell_type": "code",
   "execution_count": null,
   "id": "559fc9aa-7c39-4e0d-b341-c2a69e96d929",
   "metadata": {},
   "outputs": [],
   "source": [
    "data_iter = iter(range(3))\n",
    "print(\"Pemanggilan pertaman\")\n",
    "for a in data_iter:\n",
    "    print (a)\n",
    "print(\"Pemanggialan kedua\")\n",
    "for a in data_iter:\n",
    "    print (a)"
   ]
  },
  {
   "cell_type": "code",
   "execution_count": null,
   "id": "53d47a39-5b66-4854-9bfd-61e1800af272",
   "metadata": {},
   "outputs": [],
   "source": [
    "nama = [\"Farras\", \"Tania\", \"Faris\", \"Noah\"]\n",
    "umur = [26, 23, 2, 1]\n",
    "tl = [\"Jakarta\", \"Depok\", \"Bogor\", \"Bogor\"]"
   ]
  },
  {
   "cell_type": "code",
   "execution_count": null,
   "id": "dcfdad10-cb4f-4f5d-8ce0-90c793b5ff3e",
   "metadata": {},
   "outputs": [],
   "source": [
    "for position in range (0,4):\n",
    "    print (f'{nama[position]} berumur {umur[position]} lahir di {tl[position]} ') "
   ]
  },
  {
   "cell_type": "code",
   "execution_count": null,
   "id": "41177b7d-f0f1-418c-a9d4-20a38e03cd1b",
   "metadata": {},
   "outputs": [],
   "source": [
    "for nilai_nama, nilai_umur, nilai_tl in zip (nama, umur, tl):\n",
    "    print (f'{nilai_nama} berumur {nilai_umur} lahir di {nilai_tl} ')"
   ]
  },
  {
   "cell_type": "code",
   "execution_count": null,
   "id": "c9846d1b-b6a3-4294-bf03-8fd2472528d5",
   "metadata": {},
   "outputs": [],
   "source": [
    "for data in zip (nama, umur, tl):\n",
    "    nilai_nama, nilai_umur, nilai_tl = data\n",
    "    print (f'{nilai_nama} berumur {nilai_umur} lahir di {nilai_tl} ')"
   ]
  },
  {
   "cell_type": "code",
   "execution_count": null,
   "id": "3dbc3b2c-d366-457b-9073-00e75db3a225",
   "metadata": {},
   "outputs": [],
   "source": [
    "def int_to_bin(number):\n",
    "    n = number\n",
    "    binnary = []\n",
    "    while n > 0:\n",
    "        binnary.append( n % 2)\n",
    "        n //= 2\n",
    "    \n",
    "    binnary.reverse()\n",
    "    return binnary;"
   ]
  },
  {
   "cell_type": "code",
   "execution_count": null,
   "id": "a573be6e-266b-4227-9ac4-0f1773ba8ec7",
   "metadata": {},
   "outputs": [],
   "source": [
    "print(int_to_bin(9))"
   ]
  },
  {
   "cell_type": "code",
   "execution_count": null,
   "id": "42398580-2800-4914-b1b9-a3f10b838b30",
   "metadata": {},
   "outputs": [],
   "source": [
    "def int_to_bin_div_mod(number):\n",
    "    n = number\n",
    "    binnary = []\n",
    "    while n > 0:\n",
    "        n, bins = divmod(n,2)\n",
    "        binnary.append(bins)\n",
    "    \n",
    "    binnary.reverse()\n",
    "    return binnary;"
   ]
  },
  {
   "cell_type": "code",
   "execution_count": null,
   "id": "0830560c-0664-4c6e-ab0e-0268a20c014c",
   "metadata": {},
   "outputs": [],
   "source": [
    "print(int_to_bin_div_mod(11))"
   ]
  },
  {
   "cell_type": "code",
   "execution_count": null,
   "id": "f7bcb5bb-7a2d-4173-b76e-c3955b985a5b",
   "metadata": {},
   "outputs": [],
   "source": [
    "from datetime import date, timedelta\n",
    "\n",
    "today = date.today()\n",
    "tommorow = today + timedelta(days=1)\n",
    "\n",
    "products = [\n",
    "{'id':'1', 'exparation_date':today, 'name':'Nasi Padang', 'price':15000},\n",
    "{'id':'2', 'exparation_date':tommorow, 'name':'Jus Jeruk', 'price':20000},\n",
    "{'id':'3', 'exparation_date':today, 'name':'Soto Lamongan', 'price':35000}\n",
    "]\n",
    "\n",
    "for product in products:\n",
    "        if product['exparation_date'] != today:\n",
    "                continue\n",
    "        product['price'] *= 0.8\n",
    "        print(f\"Price for ${product['name']} is {product['price']:,.0f}\")"
   ]
  },
  {
   "cell_type": "code",
   "execution_count": null,
   "id": "09a63468-8781-4600-943c-366039c2f841",
   "metadata": {},
   "outputs": [],
   "source": [
    "print(\"Input number here : \", end=\"\")\n",
    "\n",
    "while (True):\n",
    "    print(\"Keep enter the number here : \", end=\"\")\n",
    "    number = int(input())\n",
    "    if (number%7 != 0):\n",
    "\n",
    "            print(\"Iterating is still working\")\n",
    "            print(\"-------------\");\n",
    "    else:\n",
    "            print(\"opps you entered boom number, breaking soon\")\n",
    "            break\n",
    "\n",
    "print (\"the game has ended\")"
   ]
  },
  {
   "cell_type": "code",
   "execution_count": null,
   "id": "30f4a442-8114-4097-838c-0756e67e3968",
   "metadata": {},
   "outputs": [],
   "source": [
    "class DriverException(Exception):\n",
    "        pass\n",
    "\n",
    "\n",
    "nama = (\"farras\",\"tania\",\"faris\", \"noah\")\n",
    "umur = (17,14,0,0)\n",
    "\n",
    "for data in zip(nama,umur):\n",
    "        nama, umur = data\n",
    "        if umur >= 18:\n",
    "                driver = (nama,umur)\n",
    "                print(driver)\n",
    "                break\n",
    "else :\n",
    "        raise DriverException(\"Driver not found\")"
   ]
  },
  {
   "cell_type": "code",
   "execution_count": null,
   "id": "b4f73022-e748-47cf-aceb-69ddb40fd122",
   "metadata": {},
   "outputs": [],
   "source": [
    "if lulus := True:\n",
    "    print(\"Lulus\")\n",
    "else:\n",
    "    print(\"Tidak lulus\")"
   ]
  },
  {
   "cell_type": "code",
   "execution_count": null,
   "id": "ea924779-1436-45ce-9bec-42a105809548",
   "metadata": {},
   "outputs": [],
   "source": [
    "lulus = True\n",
    "if lulus:\n",
    "        print (\"lulus\")\n",
    "else:\n",
    "        print(\"Tidak lulus\")\n"
   ]
  },
  {
   "cell_type": "code",
   "execution_count": null,
   "id": "4ccf8a9f-556f-4551-a163-739a581a370a",
   "metadata": {},
   "outputs": [],
   "source": [
    "while (True):\n",
    "    print(\"Input the number here : \", end=\"\")\n",
    "    \n",
    "    if (number := int(input())%7 != 0):\n",
    "\n",
    "            print(\"Iterating is still working\")\n",
    "            print(\"-------------\");\n",
    "    else:\n",
    "            print(\"opps you entered boom number, breaking soon\")\n",
    "            break\n",
    "\n",
    "print (\"the game has ended\")"
   ]
  },
  {
   "cell_type": "code",
   "execution_count": null,
   "id": "bbf4f0d6-1616-4094-a8a8-f3fec32f5d8e",
   "metadata": {},
   "outputs": [],
   "source": [
    "# scoping.level.1.py\n",
    "def my_function():\n",
    "    # test = 1 # this is defined in the local scope of the function\n",
    "    print('my_function:', test)\n",
    "\n",
    "test = 0 # this is defined in the global scope\n",
    "my_function()\n",
    "print('global:', test)"
   ]
  },
  {
   "cell_type": "code",
   "execution_count": null,
   "id": "7adae116-e3d4-4dc6-87db-0973bd7ca1cd",
   "metadata": {},
   "outputs": [],
   "source": [
    "def outer():\n",
    "    test = 1\n",
    "\n",
    "    def inner():\n",
    "        # test = 2\n",
    "\n",
    "        def deep_inner():\n",
    "            test = 3\n",
    "            print(f'Deeper inner : {test}')\n",
    "\n",
    "        deep_inner()\n",
    "        print(f'Inner : {test}')\n",
    "    inner()\n",
    "    print(f'Outer : {test}')\n",
    "\n",
    "test = 0\n",
    "outer()\n",
    "print(f'Global : {test}')\n"
   ]
  },
  {
   "cell_type": "code",
   "execution_count": null,
   "id": "8b9cde58-d004-4a75-ae80-2daec563a9fa",
   "metadata": {},
   "outputs": [],
   "source": [
    "def outer():\n",
    "    test = 1\n",
    "    \n",
    "    \n",
    "    def inner():\n",
    "        test = 2\n",
    "        \n",
    "        \n",
    "        def deep_inner():\n",
    "            test = 3\n",
    "            print(f'Deeper inner : {test}')\n",
    "        \n",
    "        deep_inner()\n",
    "        print(f'Inner : {test}')\n",
    "    inner()\n",
    "    print(f'Outer : {test}')\n",
    "\n",
    "\n",
    "test = 0\n",
    "outer()\n",
    "print(f'Global : {test}')"
   ]
  },
  {
   "cell_type": "markdown",
   "id": "608fcbb3-7c2c-4752-a55a-789f450b5f4c",
   "metadata": {},
   "source": [
    "---"
   ]
  },
  {
   "cell_type": "code",
   "execution_count": null,
   "id": "d9dad242-acc6-4f0a-ac58-2bdc27c488ca",
   "metadata": {},
   "outputs": [],
   "source": [
    "def outer():\n",
    "    test = 1\n",
    "    \n",
    "    \n",
    "    def inner():\n",
    "        nonlocal test\n",
    "        test = 2\n",
    "        \n",
    "        \n",
    "        def deep_inner():\n",
    "            test = 3\n",
    "            print(f'Deeper inner : {test}')\n",
    "        \n",
    "        deep_inner()\n",
    "        print(f'Inner : {test}')\n",
    "    inner()\n",
    "    print(f'Outer : {test}') #(1)!\n",
    "\n",
    "\n",
    "test = 0            \n",
    "outer()\n",
    "print(f'Global : {test}')"
   ]
  },
  {
   "cell_type": "code",
   "execution_count": null,
   "id": "bbdbd1ce-4cb1-4670-b3f2-8e3eb3afce19",
   "metadata": {},
   "outputs": [],
   "source": [
    "def outer():\n",
    "    test = 1\n",
    "    \n",
    "    def inner():\n",
    "        test = 2\n",
    "        \n",
    "        def deep_inner():\n",
    "            nonlocal test\n",
    "            test = 3\n",
    "            print(f'Deeper inner : {test}')\n",
    "        \n",
    "        deep_inner()#(1)!\n",
    "        print(f'Inner : {test}') #(2)!\n",
    "    inner()\n",
    "    print(f'Outer : {test}')\n",
    "\n",
    "test = 0\n",
    "outer()\n",
    "print(f'Global : {test}')"
   ]
  },
  {
   "cell_type": "code",
   "execution_count": null,
   "id": "a2265bdc-47e7-4458-807a-83d66f0434ad",
   "metadata": {},
   "outputs": [],
   "source": [
    "def outer():\n",
    "    test = 1\n",
    "    \n",
    "    def inner():\n",
    "        nonlocal test\n",
    "        test = 2\n",
    "        \n",
    "        def deep_inner():\n",
    "            nonlocal test\n",
    "            test = 3\n",
    "            print(f'Deeper inner : {test}')\n",
    "        \n",
    "        deep_inner()#(1)!\n",
    "        print(f'Inner : {test}') #(2)!\n",
    "    inner()\n",
    "    print(f'Outer : {test}')\n",
    "\n",
    "test = 0\n",
    "outer()\n",
    "print(f'Global : {test}')"
   ]
  },
  {
   "cell_type": "code",
   "execution_count": null,
   "id": "087c16ff-958f-4c3c-b80d-1849047bfa48",
   "metadata": {},
   "outputs": [],
   "source": [
    "from numpy.random import standard_normal"
   ]
  },
  {
   "cell_type": "code",
   "execution_count": null,
   "id": "a72a2f22-080c-47a7-a2d9-14bd4ad940cf",
   "metadata": {},
   "outputs": [],
   "source": [
    "standard_normal([4,4])"
   ]
  },
  {
   "cell_type": "code",
   "execution_count": null,
   "id": "a23dcba2-b1e8-4628-90d1-0ce3cc34a656",
   "metadata": {},
   "outputs": [],
   "source": [
    "def outer():\n",
    "    nonlocal test\n",
    "    test = 1\n",
    "    \n",
    "    def inner():\n",
    "        test = 2\n",
    "        \n",
    "        def deep_inner():\n",
    "            test = 3\n",
    "            print(f'Deeper inner : {test}')\n",
    "        \n",
    "        deep_inner()#(1)!\n",
    "        print(f'Inner : {test}') #(2)!\n",
    "    inner()\n",
    "    print(f'Outer : {test}')\n",
    "\n",
    "test = 0\n",
    "outer()\n",
    "print(f'Global : {test}')"
   ]
  },
  {
   "cell_type": "code",
   "execution_count": null,
   "id": "e50dc0a4-2cb5-4330-a768-176a19692f4e",
   "metadata": {},
   "outputs": [],
   "source": [
    "def outer():\n",
    "    test = 1\n",
    "    \n",
    "    def inner():\n",
    "        # test = 2\n",
    "        \n",
    "        def deep_inner():\n",
    "            test = 3\n",
    "            print(f'Deeper inner : {test}')\n",
    "        \n",
    "        deep_inner()#(1)!\n",
    "        print(f'Inner : {test}') #(2)!\n",
    "    inner()\n",
    "    print(f'Outer : {test}')\n",
    "\n",
    "test = 0\n",
    "outer()\n",
    "print(f'Global : {test}')"
   ]
  },
  {
   "cell_type": "code",
   "execution_count": null,
   "id": "d08f71e6-7726-4e57-8b4f-cb3dcc52cbaf",
   "metadata": {},
   "outputs": [],
   "source": [
    "def outer():\n",
    "    test = 1\n",
    "    \n",
    "    def inner():\n",
    "        global test\n",
    "        # test = 2\n",
    "        \n",
    "        def deep_inner():\n",
    "            test = 3\n",
    "            print(f'Deeper inner : {test}')\n",
    "        \n",
    "        deep_inner()#(1)!\n",
    "        print(f'Inner : {test}') #(2)!\n",
    "    inner()\n",
    "    print(f'Outer : {test}')\n",
    "\n",
    "test = 0\n",
    "outer()\n",
    "print(f'Global : {test}')"
   ]
  },
  {
   "cell_type": "code",
   "execution_count": null,
   "id": "4c7d4aee-ab2d-42f6-aa1e-e3567ea60721",
   "metadata": {},
   "outputs": [],
   "source": [
    "def outer():\n",
    "    test = 1\n",
    "    \n",
    "    def inner():\n",
    "        global test\n",
    "        test = 2\n",
    "        \n",
    "        def deep_inner():\n",
    "            test = 3\n",
    "            print(f'Deeper inner : {test}')\n",
    "        \n",
    "        deep_inner()#(1)!\n",
    "        print(f'Inner : {test}')\n",
    "    inner()\n",
    "    print(f'Outer : {test}')\n",
    "\n",
    "test = 0\n",
    "outer()\n",
    "print(f'Global : {test}')"
   ]
  },
  {
   "cell_type": "code",
   "execution_count": null,
   "id": "a6224b03-c8dc-4b47-9c42-b80eafe97384",
   "metadata": {},
   "outputs": [],
   "source": [
    "x = 10\n",
    "def ganda(x):\n",
    "    x = 2 #(1)!\n",
    "    print(x*2) \n",
    "\n",
    "ganda(x)\n",
    "print(x) #(2)!"
   ]
  },
  {
   "cell_type": "code",
   "execution_count": null,
   "id": "853eced3-2c59-4bf7-a89b-9426855ef278",
   "metadata": {},
   "outputs": [],
   "source": [
    "lst = [1,2,3,4,5]\n",
    "def func(x):\n",
    "    for a,b in enumerate(x):\n",
    "        lst[a] = b**2\n",
    "        \n",
    "func(lst)\n",
    "print(lst)\n",
    "        "
   ]
  },
  {
   "cell_type": "code",
   "execution_count": null,
   "id": "9e67879c-a858-4bb4-8cf4-525949aa2268",
   "metadata": {},
   "outputs": [],
   "source": [
    "lst = [1,2,3,4,5]\n",
    "def func(x):\n",
    "    for a,b in enumerate(x):\n",
    "        lst[a] = b**2\n",
    "        \n",
    "    x = [0,0,0,0,0] #(1)! Tidak dapat mengganti nilai caller, `lst` pada global scope yang sudah dimodifikasi.\n",
    "func(lst)\n",
    "print(lst) #(2)! Tetap mengambil nilai `lst` pada global scope yang sudah dimodifikasi oleh fungsi `#!python func`.\n",
    "        "
   ]
  },
  {
   "cell_type": "code",
   "execution_count": null,
   "id": "06bd212d-17b9-4a66-a8b5-4b1c858dc90b",
   "metadata": {},
   "outputs": [],
   "source": [
    "def func (satu, dua, tiga):\n",
    "    print(satu, dua ,tiga)\n",
    "    \n",
    "func (10,20,30)"
   ]
  },
  {
   "cell_type": "code",
   "execution_count": null,
   "id": "ef2bfdf7-1ce9-4377-a875-5e10730fe88c",
   "metadata": {},
   "outputs": [],
   "source": [
    "def func (satu, dua, tiga):\n",
    "    print(satu, dua ,tiga)\n",
    "    \n",
    "func (tiga=30, satu=10, dua=20)"
   ]
  },
  {
   "cell_type": "code",
   "execution_count": null,
   "id": "801f4ab0-a584-497a-a045-ed8c04d1a639",
   "metadata": {},
   "outputs": [],
   "source": [
    "def func (satu, dua, tiga):\n",
    "    print(satu, dua ,tiga)\n",
    "    \n",
    "func (10, tiga=30,  dua=20)"
   ]
  },
  {
   "cell_type": "code",
   "execution_count": null,
   "id": "e2897aae-e27b-4f2e-9eb4-d6c9ac694e24",
   "metadata": {},
   "outputs": [],
   "source": [
    "def func (satu, dua, tiga):\n",
    "    print(satu, dua ,tiga)\n",
    "    \n",
    "func (dua= 20, satu=10,  30)"
   ]
  },
  {
   "cell_type": "code",
   "execution_count": null,
   "id": "d416a967-1606-40cd-abc9-61a0eb448371",
   "metadata": {},
   "outputs": [],
   "source": [
    "deret = (10,20,30)\n",
    "def func (satu, dua, tiga):\n",
    "    print(satu, dua ,tiga)\n",
    "\n",
    "func(*deret)"
   ]
  },
  {
   "cell_type": "code",
   "execution_count": null,
   "id": "984bdc33-99c5-4db7-bd5a-55dd2daeed25",
   "metadata": {},
   "outputs": [],
   "source": [
    "deret = [10,20,30]\n",
    "def func (satu, dua, tiga):\n",
    "    print(satu, dua ,tiga)\n",
    "    \n",
    "func(*deret)"
   ]
  },
  {
   "cell_type": "code",
   "execution_count": null,
   "id": "5585b2bf-d4d6-4410-93ba-501a77436621",
   "metadata": {},
   "outputs": [],
   "source": [
    "deret = {'satu':10,'dua':20,'tiga':30}\n",
    "def func (satu, dua, tiga):\n",
    "    deret[\"satu\"] = 50\n",
    "    print(satu, dua ,tiga)\n",
    "    \n",
    "func(**deret)"
   ]
  },
  {
   "cell_type": "code",
   "execution_count": null,
   "id": "ab84c391-601d-4b33-9438-59bd8b2daa5f",
   "metadata": {},
   "outputs": [],
   "source": [
    "def func (a,b,c,d,e,f,g):\n",
    "    print(a,b,c,d,e,f,g)\n",
    "    \n",
    "    \n",
    "func(1,*(2,3,4,5), **{'f':6,'g':7})\n",
    "func(c = 3, d= 4, *(1,2), e=5,f=6,**{'g':7})\n",
    "func(*(1,2), d=4, c=3,  **{'f':6,'g':7}, e=5)"
   ]
  },
  {
   "cell_type": "code",
   "execution_count": null,
   "id": "4b23f47d-c5f8-41b8-8cc6-ec24e6e05ccb",
   "metadata": {},
   "outputs": [],
   "source": [
    "def func (a,b=2,c=3):\n",
    "    print(a,b,c)\n",
    "    \n",
    "func (1)\n",
    "func (b=4,c=6,a=2)\n",
    "func(*(4,5),6)\n",
    "func(2,3)"
   ]
  },
  {
   "cell_type": "code",
   "execution_count": null,
   "id": "ea7755db-4cb2-49d8-ace1-18e8bff791ea",
   "metadata": {},
   "outputs": [],
   "source": [
    "def func (a,b=2,c):\n",
    "    print(a,b,c)\n",
    "\n",
    "func (1)\n",
    "func (b=4,c=6,a=2)\n",
    "func(*(4,5),6)\n",
    "func(2,3)\n"
   ]
  },
  {
   "cell_type": "code",
   "execution_count": null,
   "id": "465d66b4-57b5-43b6-802c-20201e5383b3",
   "metadata": {},
   "outputs": [],
   "source": [
    "def terkecil (*post):\n",
    "    if post:\n",
    "        terkecil = post[0] # Terkecil sementara\n",
    "        for a in post[1:]:\n",
    "            if a < terkecil:\n",
    "                terkecil = a\n",
    "        return terkecil\n",
    "    \n",
    "print(terkecil(1,-2,4,-5,6))\n"
   ]
  },
  {
   "cell_type": "code",
   "execution_count": null,
   "id": "8d3238de-1033-4952-a262-fc2c241692ce",
   "metadata": {},
   "outputs": [],
   "source": [
    "def dua_positional_parameter (*post, *post2):\n",
    "    print(type(post), type(post2))"
   ]
  },
  {
   "cell_type": "code",
   "execution_count": null,
   "id": "f0b83f57-1b09-419b-9e3b-83433c10e4ff",
   "metadata": {},
   "outputs": [],
   "source": [
    "def dua_positional_parameter (*post = (1,2,3)):\n",
    "    print(type(post))"
   ]
  },
  {
   "cell_type": "code",
   "execution_count": null,
   "id": "aa1cd72c-41a2-4ac1-bd8f-70fa11663807",
   "metadata": {},
   "outputs": [],
   "source": [
    "deret = {'a':1,'b':2,'c':3,'d':4}\n",
    "def func (**kwargs):\n",
    "    print(type(kwargs))\n",
    "    print(kwargs)\n",
    "    \n",
    "func(**deret)"
   ]
  },
  {
   "cell_type": "code",
   "execution_count": null,
   "id": "6a9a967a-a367-4f4f-a7d3-899dccc82ae9",
   "metadata": {},
   "outputs": [],
   "source": [
    "def terkecil (*post): #(1)!\n",
    "    if post:\n",
    "        terkecil = post[0] # Terkecil sementara\n",
    "        for a in post[1:]:\n",
    "            if a < terkecil:\n",
    "                terkecil = a\n",
    "        return terkecil\n",
    "\n",
    "deret = [1,-2,3,-4,5,6]\n",
    "print(terkecil(*deret)) #(2)!"
   ]
  },
  {
   "cell_type": "code",
   "execution_count": null,
   "id": "668e5ae1-73b1-4774-8f6b-594cb6265b55",
   "metadata": {},
   "outputs": [],
   "source": [
    "deret.get.__doc__"
   ]
  },
  {
   "cell_type": "code",
   "execution_count": null,
   "id": "3df88021-1589-40ad-818b-1594de513abc",
   "metadata": {},
   "outputs": [],
   "source": [
    "def connect(**options):\n",
    "    conn_params = {\n",
    "    'host': options.get('host', '127.0.0.1'),\n",
    "    'port': options.get('port', 5432),\n",
    "    'user': options.get('user', ''),\n",
    "    'pwd': options.get('pwd', ''),\n",
    "    }\n",
    "    print(conn_params)\n",
    "    # we then connect to the db (commented out)\n",
    "    # db.connect(**conn_params)\n",
    "connect()\n",
    "connect(host='127.0.0.42', port=5433)\n",
    "connect(port=5431, user='fab', pwd='gandalf')"
   ]
  },
  {
   "cell_type": "code",
   "execution_count": null,
   "id": "55e01f44-2366-4f03-bf5d-128800722f1c",
   "metadata": {},
   "outputs": [],
   "source": [
    "def func(a,b,/,c):\n",
    "    print(a,b,c)\n",
    "\n",
    "func(1,2,c=3)\n",
    "func(*(2,4), 8)\n",
    "func(a=1,b=2,c=3)"
   ]
  },
  {
   "cell_type": "code",
   "execution_count": null,
   "id": "0684fe88-1198-4d6e-a090-149e0079fb1c",
   "metadata": {},
   "outputs": [],
   "source": [
    "def func (a,b=2,/):\n",
    "    print(a,b)\n",
    "    \n",
    "func(1,3)\n",
    "func(8)\n"
   ]
  },
  {
   "cell_type": "code",
   "execution_count": null,
   "id": "f9d012cd-0305-498b-abeb-284a254ff2fd",
   "metadata": {},
   "outputs": [],
   "source": [
    "def func (a,b,/,c,d,e,f,*args,**kwargs):\n",
    "    print (f'a,b : {a,b}')\n",
    "    print(f'c,d,e : {c,d,e}')\n",
    "    print(f'f : {f}')\n",
    "    print(args)\n",
    "    print(kwargs)"
   ]
  },
  {
   "cell_type": "code",
   "execution_count": null,
   "id": "603098b4-fdf2-4c88-8592-b13ccc4b3232",
   "metadata": {},
   "outputs": [],
   "source": [
    "func(0,1,*(4,5,6,7,8),*(9,10,11,12,13,14,15,16,17,18), detail=\"test\", more=\"more-detail\")"
   ]
  },
  {
   "cell_type": "code",
   "execution_count": null,
   "id": "6cd5d0d2-e7d8-4274-a4e0-8156a1837815",
   "metadata": {},
   "outputs": [],
   "source": [
    "def func(a=[],b={}):\n",
    "    print(f'{\"-\"*6}start{\"-\"*6}')\n",
    "    b[len(a)] = a\n",
    "    a.append(len(a))\n",
    "    print(a)\n",
    "    print(b)\n",
    "    print()"
   ]
  },
  {
   "cell_type": "code",
   "execution_count": null,
   "id": "bf19e67d-fca4-40f4-b6bd-5d9415ccaf71",
   "metadata": {},
   "outputs": [],
   "source": [
    "func()\n",
    "func()\n",
    "func()"
   ]
  },
  {
   "cell_type": "code",
   "execution_count": null,
   "id": "cc0c7541-596e-4c27-9d84-75239721de74",
   "metadata": {},
   "outputs": [],
   "source": [
    "def func(a=None,b=None):\n",
    "    if a is None:\n",
    "        a = []\n",
    "        \n",
    "    if b is None:\n",
    "        b = {}\n",
    "    print(f'{\"-\"*6}start{\"-\"*6}')\n",
    "    b[len(a)] = a\n",
    "    a.append(len(a))\n",
    "    print(a)\n",
    "    print(b)\n",
    "    print()\n",
    "    \n",
    "func()\n",
    "func()\n",
    "func()"
   ]
  },
  {
   "cell_type": "code",
   "execution_count": null,
   "id": "08da12b6-0d46-4247-b3c7-bc56218d4873",
   "metadata": {},
   "outputs": [],
   "source": [
    "def func (a,b):\n",
    "    return (a+b)\n",
    "hasil = func(1,2)\n",
    "print(hasil)"
   ]
  },
  {
   "cell_type": "code",
   "execution_count": 73,
   "id": "66a9ad39-b707-4b12-be0b-929740b816d4",
   "metadata": {},
   "outputs": [
    {
     "name": "stdout",
     "output_type": "stream",
     "text": [
      "1\n",
      "2\n"
     ]
    }
   ],
   "source": [
    "def func_mul (a,b):\n",
    "    return (a,b)\n",
    "hasil_1, hasil_2 = func_mul(1,2)\n",
    "print(hasil_1)\n",
    "print(hasil_2)"
   ]
  },
  {
   "cell_type": "code",
   "execution_count": 71,
   "id": "462861a0-cc3c-4317-b3c9-9318d6775cb5",
   "metadata": {},
   "outputs": [
    {
     "name": "stdout",
     "output_type": "stream",
     "text": [
      "awal : 4\n",
      "Sini lagi masih perulangan 3\n",
      "awal : 3\n",
      "Sini lagi masih perulangan 2\n",
      "awal : 2\n",
      "Sini lagi masih perulangan 1\n",
      "awal : 1\n",
      "sini setelah satu : n = 1\n",
      "l: 1 m : 3 N 2 Hasil 1 Akhir 2\n",
      "l: 1 m : 2 N 3 Hasil 2 Akhir 6\n",
      "l: 1 m : 1 N 4 Hasil 6 Akhir 24\n",
      "24\n"
     ]
    }
   ],
   "source": [
    "def factorial(n, l,m):\n",
    "    print(f'awal : {n}')\n",
    "    if n in (0, 1): # base case\n",
    "        print(f'sini setelah satu : n = {n}')\n",
    "        return 1\n",
    "    m = m + 1\n",
    "    print(f\"Sini lagi masih perulangan {n-1}\")\n",
    "    hasil = factorial(n - 1,l,m)\n",
    "    \n",
    "    l+=1 # Kesini cuman 1 kali\n",
    "    print(f'l: {l} m : {m} N {n} Hasil {hasil} Akhir {hasil * n}')\n",
    "    \n",
    "    return hasil * n # recursive case\\\\\n",
    "\n",
    "print(factorial(4,0,0))"
   ]
  },
  {
   "cell_type": "code",
   "execution_count": null,
   "id": "79ec71cd-f6d4-41fb-861a-d11ee7320256",
   "metadata": {},
   "outputs": [],
   "source": [
    "def faktorial (n):\n",
    "    # base, kondisi stop recursive function\n",
    "    if n in (0,1):\n",
    "        return 1\n",
    "    \n",
    "    return faktorial (n-1) * n\n",
    "\n",
    "faktorial (4)"
   ]
  },
  {
   "cell_type": "code",
   "execution_count": 49,
   "id": "f598f643",
   "metadata": {},
   "outputs": [
    {
     "data": {
      "text/plain": [
       "[2, 4, 6, 8]"
      ]
     },
     "execution_count": 49,
     "metadata": {},
     "output_type": "execute_result"
    }
   ],
   "source": [
    "ambil_genap = lambda *lists : [a for a in lists if a%2 == 0]\n",
    "\n",
    "jumlah(1,3,2,4,5,6,7,8,11)"
   ]
  },
  {
   "cell_type": "code",
   "execution_count": 59,
   "id": "97dee09e-12ef-4f81-b814-79b3b799f015",
   "metadata": {},
   "outputs": [
    {
     "data": {
      "text/plain": [
       "['chr',\n",
       " 'classmethod',\n",
       " 'compile',\n",
       " 'complex',\n",
       " 'copyright',\n",
       " 'credits',\n",
       " 'delattr',\n",
       " 'dict',\n",
       " 'dir',\n",
       " 'display']"
      ]
     },
     "execution_count": 59,
     "metadata": {},
     "output_type": "execute_result"
    }
   ],
   "source": [
    "[a for a in dir(__builtins__) if a[0].islower()][10:20]"
   ]
  },
  {
   "cell_type": "code",
   "execution_count": 106,
   "id": "b73e67dc-edfc-4ab1-952d-9633b290782f",
   "metadata": {},
   "outputs": [
    {
     "name": "stdout",
     "output_type": "stream",
     "text": [
      "Equivalent to base**exp with 2 arguments or base**exp % mod with 3 arguments\n",
      "\n",
      "Some types, such as ints, are able to use a more efficient algorithm when\n",
      "invoked using the three argument form.\n",
      "Equivalent to base**exp with 2 arguments or base**exp % mod with 3 arguments\n",
      "\n",
      "Some types, such as ints, are able to use a more efficient algorithm when\n",
      "invoked using the three argument form.\n"
     ]
    }
   ],
   "source": [
    "import numpy as np\n",
    "print(getattr(pow,\"__doc__\"))\n",
    "print(pow.__doc__)"
   ]
  },
  {
   "cell_type": "code",
   "execution_count": 103,
   "id": "f2117e78-e1a6-48fb-8171-a30b2232318c",
   "metadata": {},
   "outputs": [],
   "source": [
    "def contoh_doc(nama, tempat):\n",
    "    \"\"\" Contoh dokumentasi\n",
    "\n",
    "    Ini adalah dokumentasi yang berisikan penjelasan tentang fungsi ini. Fungsi ini, Fungsi ini,Fungsi ini,Fungsi ini,Fungsi ini,Fungsi ini.\n",
    "\n",
    "    :param nama: Pembuat dokumentasi\n",
    "    :param tempat: Tempat membuat dokumentasi\n",
    "    :return: String detail hasil fungsi ini\n",
    "    \"\"\"\n",
    "\n",
    "    return f'Nama {nama}, tempat {tempat}'"
   ]
  },
  {
   "cell_type": "code",
   "execution_count": 107,
   "id": "f66de6d9-79e4-4669-80f6-1928d314acce",
   "metadata": {},
   "outputs": [
    {
     "name": "stdout",
     "output_type": "stream",
     "text": [
      "Help on function contoh_doc in module __main__:\n",
      "\n",
      "contoh_doc(nama, tempat)\n",
      "    Contoh dokumentasi\n",
      "    \n",
      "    Ini adalah dokumentasi yang berisikan penjelasan tentang fungsi ini. Fungsi ini, Fungsi ini,Fungsi ini,Fungsi ini,Fungsi ini,Fungsi ini.\n",
      "    \n",
      "    :param nama: Pembuat dokumentasi\n",
      "    :param tempat: Tempat membuat dokumentasi\n",
      "    :return: String detail hasil fungsi ini\n",
      "\n"
     ]
    }
   ],
   "source": [
    "help(contoh_doc)"
   ]
  },
  {
   "cell_type": "code",
   "execution_count": 108,
   "id": "32891559-d2d5-4973-a318-ea42bfa03fa2",
   "metadata": {},
   "outputs": [
    {
     "name": "stdout",
     "output_type": "stream",
     "text": [
      " Contoh dokumentasi\n",
      "\n",
      "    Ini adalah dokumentasi yang berisikan penjelasan tentang fungsi ini. Fungsi ini, Fungsi ini,Fungsi ini,Fungsi ini,Fungsi ini,Fungsi ini.\n",
      "\n",
      "    :param nama: Pembuat dokumentasi\n",
      "    :param tempat: Tempat membuat dokumentasi\n",
      "    :return: String detail hasil fungsi ini\n",
      "    \n"
     ]
    }
   ],
   "source": [
    "print(contoh_doc.__doc__)"
   ]
  },
  {
   "cell_type": "code",
   "execution_count": null,
   "id": "0ebdd0e5-6e21-4a2c-8352-07b6cc78fb06",
   "metadata": {},
   "outputs": [],
   "source": []
  }
 ],
 "metadata": {
  "kernelspec": {
   "display_name": "Python 3 (ipykernel)",
   "language": "python",
   "name": "python3"
  },
  "language_info": {
   "codemirror_mode": {
    "name": "ipython",
    "version": 3
   },
   "file_extension": ".py",
   "mimetype": "text/x-python",
   "name": "python",
   "nbconvert_exporter": "python",
   "pygments_lexer": "ipython3",
   "version": "3.9.12"
  },
  "toc": {
   "base_numbering": 1,
   "nav_menu": {},
   "number_sections": true,
   "sideBar": true,
   "skip_h1_title": false,
   "title_cell": "Table of Contents",
   "title_sidebar": "Contents",
   "toc_cell": false,
   "toc_position": {},
   "toc_section_display": true,
   "toc_window_display": true
  }
 },
 "nbformat": 4,
 "nbformat_minor": 5
}
