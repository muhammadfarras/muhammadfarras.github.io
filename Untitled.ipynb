{
 "cells": [
  {
   "cell_type": "code",
   "execution_count": 1,
   "id": "b64d48e7",
   "metadata": {},
   "outputs": [],
   "source": [
    "from datetime import date"
   ]
  },
  {
   "cell_type": "code",
   "execution_count": 2,
   "id": "f9918e21",
   "metadata": {},
   "outputs": [],
   "source": [
    "today = date.today()"
   ]
  },
  {
   "cell_type": "code",
   "execution_count": 3,
   "id": "87b41075",
   "metadata": {},
   "outputs": [
    {
     "name": "stdout",
     "output_type": "stream",
     "text": [
      "Return time tuple, compatible with time.localtime().\n"
     ]
    }
   ],
   "source": [
    "print(today.timetuple.__doc__)"
   ]
  },
  {
   "cell_type": "code",
   "execution_count": 12,
   "id": "c24164f2",
   "metadata": {},
   "outputs": [
    {
     "data": {
      "text/plain": [
       "time.struct_time(tm_year=2023, tm_mon=2, tm_mday=11, tm_hour=0, tm_min=0, tm_sec=0, tm_wday=5, tm_yday=42, tm_isdst=-1)"
      ]
     },
     "execution_count": 12,
     "metadata": {},
     "output_type": "execute_result"
    }
   ],
   "source": [
    "today.timetuple()"
   ]
  },
  {
   "cell_type": "code",
   "execution_count": 13,
   "id": "12e0947a",
   "metadata": {},
   "outputs": [
    {
     "data": {
      "text/plain": [
       "2023"
      ]
     },
     "execution_count": 13,
     "metadata": {},
     "output_type": "execute_result"
    }
   ],
   "source": [
    "today.timetuple().tm_year"
   ]
  },
  {
   "cell_type": "code",
   "execution_count": 14,
   "id": "fff81fff",
   "metadata": {},
   "outputs": [
    {
     "data": {
      "text/plain": [
       "'Return the day of the week represented by the date.\\nMonday == 0 ... Sunday == 6'"
      ]
     },
     "execution_count": 14,
     "metadata": {},
     "output_type": "execute_result"
    }
   ],
   "source": [
    "today.weekday.__doc__"
   ]
  },
  {
   "cell_type": "code",
   "execution_count": 15,
   "id": "55369b01",
   "metadata": {},
   "outputs": [
    {
     "data": {
      "text/plain": [
       "5"
      ]
     },
     "execution_count": 15,
     "metadata": {},
     "output_type": "execute_result"
    }
   ],
   "source": [
    "today.weekday()"
   ]
  },
  {
   "cell_type": "code",
   "execution_count": 19,
   "id": "06eced33",
   "metadata": {},
   "outputs": [],
   "source": [
    "import calendar"
   ]
  },
  {
   "cell_type": "code",
   "execution_count": 23,
   "id": "cb327f4f",
   "metadata": {},
   "outputs": [
    {
     "data": {
      "text/plain": [
       "calendar._localized_day"
      ]
     },
     "execution_count": 23,
     "metadata": {},
     "output_type": "execute_result"
    }
   ],
   "source": [
    "calendar.day_"
   ]
  },
  {
   "cell_type": "code",
   "execution_count": 27,
   "id": "81844835",
   "metadata": {},
   "outputs": [
    {
     "data": {
      "text/plain": [
       "'Saturday'"
      ]
     },
     "execution_count": 27,
     "metadata": {},
     "output_type": "execute_result"
    }
   ],
   "source": [
    "import calendar\n",
    "\n",
    "calendar.day_name[today.weekday()]\n"
   ]
  },
  {
   "cell_type": "code",
   "execution_count": 28,
   "id": "267d704e",
   "metadata": {},
   "outputs": [],
   "source": [
    "import time"
   ]
  },
  {
   "cell_type": "code",
   "execution_count": 30,
   "id": "7e43c767",
   "metadata": {},
   "outputs": [
    {
     "name": "stdout",
     "output_type": "stream",
     "text": [
      "This module provides various functions to manipulate time values.\n",
      "\n",
      "There are two standard representations of time.  One is the number\n",
      "of seconds since the Epoch, in UTC (a.k.a. GMT).  It may be an integer\n",
      "or a floating point number (to represent fractions of seconds).\n",
      "The Epoch is system-defined; on Unix, it is generally January 1st, 1970.\n",
      "The actual value can be retrieved by calling gmtime(0).\n",
      "\n",
      "The other representation is a tuple of 9 integers giving local time.\n",
      "The tuple items are:\n",
      "  year (including century, e.g. 1998)\n",
      "  month (1-12)\n",
      "  day (1-31)\n",
      "  hours (0-23)\n",
      "  minutes (0-59)\n",
      "  seconds (0-59)\n",
      "  weekday (0-6, Monday is 0)\n",
      "  Julian day (day in the year, 1-366)\n",
      "  DST (Daylight Savings Time) flag (-1, 0 or 1)\n",
      "If the DST flag is 0, the time is given in the regular time zone;\n",
      "if it is 1, the time is given in the DST time zone;\n",
      "if it is -1, mktime() should guess based on the date and time.\n",
      "\n"
     ]
    }
   ],
   "source": [
    "print(time.__doc__)"
   ]
  },
  {
   "cell_type": "code",
   "execution_count": 32,
   "id": "61c5302c",
   "metadata": {},
   "outputs": [
    {
     "name": "stdout",
     "output_type": "stream",
     "text": [
      "ctime(seconds) -> string\n",
      "\n",
      "Convert a time in seconds since the Epoch to a string in local time.\n",
      "This is equivalent to asctime(localtime(seconds)). When the time tuple is\n",
      "not present, current time as returned by localtime() is used.\n"
     ]
    }
   ],
   "source": [
    "print(time.ctime.__doc__)"
   ]
  },
  {
   "cell_type": "code",
   "execution_count": 35,
   "id": "cbcdc5d9",
   "metadata": {},
   "outputs": [
    {
     "data": {
      "text/plain": [
       "'Sat Feb 11 22:24:04 2023'"
      ]
     },
     "execution_count": 35,
     "metadata": {},
     "output_type": "execute_result"
    }
   ],
   "source": [
    "time.ctime()"
   ]
  },
  {
   "cell_type": "code",
   "execution_count": 46,
   "id": "0d333307",
   "metadata": {},
   "outputs": [
    {
     "data": {
      "text/plain": [
       "0"
      ]
     },
     "execution_count": 46,
     "metadata": {},
     "output_type": "execute_result"
    }
   ],
   "source": [
    "time.daylight"
   ]
  },
  {
   "cell_type": "code",
   "execution_count": 47,
   "id": "d041861a",
   "metadata": {},
   "outputs": [
    {
     "name": "stdout",
     "output_type": "stream",
     "text": [
      "Help on built-in function gmtime in module time:\n",
      "\n",
      "gmtime(...)\n",
      "    gmtime([seconds]) -> (tm_year, tm_mon, tm_mday, tm_hour, tm_min,\n",
      "                           tm_sec, tm_wday, tm_yday, tm_isdst)\n",
      "    \n",
      "    Convert seconds since the Epoch to a time tuple expressing UTC (a.k.a.\n",
      "    GMT).  When 'seconds' is not passed in, convert the current time instead.\n",
      "    \n",
      "    If the platform supports the tm_gmtoff and tm_zone, they are available as\n",
      "    attributes only.\n",
      "\n"
     ]
    }
   ],
   "source": [
    "help(time.gmtime)"
   ]
  },
  {
   "cell_type": "code",
   "execution_count": 48,
   "id": "2b809282",
   "metadata": {},
   "outputs": [
    {
     "data": {
      "text/plain": [
       "time.struct_time(tm_year=2023, tm_mon=2, tm_mday=11, tm_hour=15, tm_min=36, tm_sec=16, tm_wday=5, tm_yday=42, tm_isdst=0)"
      ]
     },
     "execution_count": 48,
     "metadata": {},
     "output_type": "execute_result"
    }
   ],
   "source": [
    "time.gmtime()"
   ]
  },
  {
   "cell_type": "code",
   "execution_count": 60,
   "id": "3f6147f8",
   "metadata": {},
   "outputs": [
    {
     "data": {
      "text/plain": [
       "time.struct_time(tm_year=2033, tm_mon=5, tm_mday=18, tm_hour=3, tm_min=33, tm_sec=19, tm_wday=2, tm_yday=138, tm_isdst=0)"
      ]
     },
     "execution_count": 60,
     "metadata": {},
     "output_type": "execute_result"
    }
   ],
   "source": [
    "time.gmtime(1999999999)"
   ]
  },
  {
   "cell_type": "code",
   "execution_count": 67,
   "id": "162e1937",
   "metadata": {},
   "outputs": [
    {
     "name": "stdout",
     "output_type": "stream",
     "text": [
      "The time value as returned by gmtime(), localtime(), and strptime(), and\n",
      " accepted by asctime(), mktime() and strftime().  May be considered as a\n",
      " sequence of 9 integers.\n",
      "\n",
      " Note that several fields' values are not the same as those defined by\n",
      " the C language standard for struct tm.  For example, the value of the\n",
      " field tm_year is the actual year, not year - 1900.  See individual\n",
      " fields' descriptions for details.\n"
     ]
    }
   ],
   "source": [
    "print(time.struct_time.__doc__)"
   ]
  },
  {
   "cell_type": "code",
   "execution_count": 69,
   "id": "ca49d94e",
   "metadata": {},
   "outputs": [
    {
     "ename": "TypeError",
     "evalue": "time.time() takes no arguments (1 given)",
     "output_type": "error",
     "traceback": [
      "\u001b[0;31m---------------------------------------------------------------------------\u001b[0m",
      "\u001b[0;31mTypeError\u001b[0m                                 Traceback (most recent call last)",
      "Input \u001b[0;32mIn [69]\u001b[0m, in \u001b[0;36m<cell line: 1>\u001b[0;34m()\u001b[0m\n\u001b[0;32m----> 1\u001b[0m \u001b[43mtime\u001b[49m\u001b[38;5;241;43m.\u001b[39;49m\u001b[43mtime\u001b[49m\u001b[43m(\u001b[49m\u001b[38;5;241;43m0\u001b[39;49m\u001b[43m)\u001b[49m\n",
      "\u001b[0;31mTypeError\u001b[0m: time.time() takes no arguments (1 given)"
     ]
    }
   ],
   "source": [
    "time.time()"
   ]
  },
  {
   "cell_type": "code",
   "execution_count": 70,
   "id": "bd00806c",
   "metadata": {},
   "outputs": [
    {
     "name": "stdout",
     "output_type": "stream",
     "text": [
      "Help on built-in function localtime in module time:\n",
      "\n",
      "localtime(...)\n",
      "    localtime([seconds]) -> (tm_year,tm_mon,tm_mday,tm_hour,tm_min,\n",
      "                              tm_sec,tm_wday,tm_yday,tm_isdst)\n",
      "    \n",
      "    Convert seconds since the Epoch to a time tuple expressing local time.\n",
      "    When 'seconds' is not passed in, convert the current time instead.\n",
      "\n"
     ]
    }
   ],
   "source": [
    "help(time.localtime)"
   ]
  },
  {
   "cell_type": "code",
   "execution_count": 71,
   "id": "0dc36f37",
   "metadata": {},
   "outputs": [
    {
     "name": "stdout",
     "output_type": "stream",
     "text": [
      "Help on built-in function gmtime in module time:\n",
      "\n",
      "gmtime(...)\n",
      "    gmtime([seconds]) -> (tm_year, tm_mon, tm_mday, tm_hour, tm_min,\n",
      "                           tm_sec, tm_wday, tm_yday, tm_isdst)\n",
      "    \n",
      "    Convert seconds since the Epoch to a time tuple expressing UTC (a.k.a.\n",
      "    GMT).  When 'seconds' is not passed in, convert the current time instead.\n",
      "    \n",
      "    If the platform supports the tm_gmtoff and tm_zone, they are available as\n",
      "    attributes only.\n",
      "\n"
     ]
    }
   ],
   "source": [
    "help(time.gmtime)"
   ]
  },
  {
   "cell_type": "code",
   "execution_count": 73,
   "id": "4653d438",
   "metadata": {},
   "outputs": [
    {
     "data": {
      "text/plain": [
       "time.struct_time(tm_year=2023, tm_mon=2, tm_mday=11, tm_hour=22, tm_min=52, tm_sec=9, tm_wday=5, tm_yday=42, tm_isdst=0)"
      ]
     },
     "execution_count": 73,
     "metadata": {},
     "output_type": "execute_result"
    }
   ],
   "source": [
    "time.localtime()"
   ]
  },
  {
   "cell_type": "code",
   "execution_count": 74,
   "id": "aa192313",
   "metadata": {},
   "outputs": [
    {
     "data": {
      "text/plain": [
       "time.struct_time(tm_year=2023, tm_mon=2, tm_mday=11, tm_hour=15, tm_min=52, tm_sec=9, tm_wday=5, tm_yday=42, tm_isdst=0)"
      ]
     },
     "execution_count": 74,
     "metadata": {},
     "output_type": "execute_result"
    }
   ],
   "source": [
    "time.gmtime()"
   ]
  },
  {
   "cell_type": "code",
   "execution_count": 77,
   "id": "776e956a",
   "metadata": {},
   "outputs": [
    {
     "name": "stdout",
     "output_type": "stream",
     "text": [
      "datetime(year, month, day[, hour[, minute[, second[, microsecond[,tzinfo]]]]])\n",
      "\n",
      "The year, month and day arguments are required. tzinfo may be None, or an\n",
      "instance of a tzinfo subclass. The remaining arguments may be ints.\n",
      "\n"
     ]
    }
   ],
   "source": [
    "from datetime import datetime\n",
    "print(datetime.__doc__)"
   ]
  },
  {
   "cell_type": "code",
   "execution_count": 79,
   "id": "435e8d7f",
   "metadata": {},
   "outputs": [
    {
     "name": "stdout",
     "output_type": "stream",
     "text": [
      "datetime(year, month, day[, hour[, minute[, second[, microsecond[,tzinfo]]]]])\n",
      "\n",
      "The year, month and day arguments are required. tzinfo may be None, or an\n",
      "instance of a tzinfo subclass. The remaining arguments may be ints.\n",
      "\n"
     ]
    }
   ],
   "source": [
    "print(datetime.__doc__)"
   ]
  },
  {
   "cell_type": "code",
   "execution_count": 85,
   "id": "a12d02e6",
   "metadata": {},
   "outputs": [
    {
     "data": {
      "text/plain": [
       "datetime.datetime(2023, 2, 11, 23, 16, 34, 533686)"
      ]
     },
     "execution_count": 85,
     "metadata": {},
     "output_type": "execute_result"
    }
   ],
   "source": [
    "datetime.now()"
   ]
  },
  {
   "cell_type": "code",
   "execution_count": 86,
   "id": "042aa96b",
   "metadata": {},
   "outputs": [
    {
     "data": {
      "text/plain": [
       "datetime.datetime(2023, 2, 11, 16, 16, 34, 733540)"
      ]
     },
     "execution_count": 86,
     "metadata": {},
     "output_type": "execute_result"
    }
   ],
   "source": [
    "datetime.utcnow()"
   ]
  },
  {
   "cell_type": "code",
   "execution_count": 81,
   "id": "bc1dbeef",
   "metadata": {},
   "outputs": [
    {
     "data": {
      "text/plain": [
       "datetime.datetime(2023, 12, 10, 0, 0)"
      ]
     },
     "execution_count": 81,
     "metadata": {},
     "output_type": "execute_result"
    }
   ],
   "source": [
    "datetime(2023,12,10)"
   ]
  },
  {
   "cell_type": "code",
   "execution_count": 92,
   "id": "d16b10b7",
   "metadata": {},
   "outputs": [],
   "source": [
    "from zoneinfo import ZoneInfo\n",
    "dt_f = datetime(year=2021, month=10, day = 13, hour=0, minute=23, tzinfo=ZoneInfo(\"Asia/Jakarta\"))\n",
    "dt_n = datetime(year=2020, month=5, day = 11, hour=11, minute=30, tzinfo=ZoneInfo(\"Asia/Jakarta\"))"
   ]
  },
  {
   "cell_type": "code",
   "execution_count": 93,
   "id": "15e5d074",
   "metadata": {},
   "outputs": [],
   "source": [
    "diff = dt_f - dt_n"
   ]
  },
  {
   "cell_type": "code",
   "execution_count": 99,
   "id": "7bed00ed",
   "metadata": {},
   "outputs": [
    {
     "name": "stdout",
     "output_type": "stream",
     "text": [
      "['__abs__', '__add__', '__bool__', '__class__', '__delattr__', '__dir__', '__divmod__', '__doc__', '__eq__', '__floordiv__', '__format__', '__ge__', '__getattribute__', '__gt__', '__hash__', '__init__', '__init_subclass__', '__le__', '__lt__', '__mod__', '__mul__', '__ne__', '__neg__', '__new__', '__pos__', '__radd__', '__rdivmod__', '__reduce__', '__reduce_ex__', '__repr__', '__rfloordiv__', '__rmod__', '__rmul__', '__rsub__', '__rtruediv__', '__setattr__', '__sizeof__', '__str__', '__sub__', '__subclasshook__', '__truediv__', 'days', 'max', 'microseconds', 'min', 'resolution', 'seconds', 'total_seconds']\n"
     ]
    }
   ],
   "source": [
    "print(dir(diff))"
   ]
  },
  {
   "cell_type": "code",
   "execution_count": 122,
   "id": "934e2869",
   "metadata": {},
   "outputs": [
    {
     "data": {
      "text/plain": [
       "519"
      ]
     },
     "execution_count": 122,
     "metadata": {},
     "output_type": "execute_result"
    }
   ],
   "source": [
    "diff.days"
   ]
  },
  {
   "cell_type": "code",
   "execution_count": 123,
   "id": "585df562",
   "metadata": {},
   "outputs": [
    {
     "name": "stdout",
     "output_type": "stream",
     "text": [
      "Selisih hari lahir Faris dan Noah 519 hari\n",
      "Selisih detik lahir Faris dan Noah 44887980.0 hari\n"
     ]
    }
   ],
   "source": [
    "from zoneinfo import ZoneInfo\n",
    "dt_f = datetime(year=2021, month=10, day = 13, hour=0, minute=23, tzinfo=ZoneInfo(\"Asia/Jakarta\"))\n",
    "dt_n = datetime(year=2020, month=5, day = 11, hour=11, minute=30, tzinfo=ZoneInfo(\"Asia/Jakarta\"))\n",
    "\n",
    "diff = dt_f - dt_n\n",
    "\n",
    "print(f'Selisih hari lahir Faris dan Noah {diff.days} hari')\n",
    "print(f'Selisih detik lahir Faris dan Noah {diff.total_seconds()} hari')\n"
   ]
  },
  {
   "cell_type": "code",
   "execution_count": 107,
   "id": "f46c80d7",
   "metadata": {},
   "outputs": [
    {
     "name": "stdout",
     "output_type": "stream",
     "text": [
      "<class 'datetime.datetime'>\n",
      "<class 'datetime.datetime'>\n",
      "<class 'datetime.timedelta'>\n"
     ]
    }
   ],
   "source": [
    "print(type(dt_f))\n",
    "print(type(dt_n))\n",
    "print(type(diff))"
   ]
  },
  {
   "cell_type": "code",
   "execution_count": 110,
   "id": "7d6c7f4a",
   "metadata": {},
   "outputs": [],
   "source": [
    "from datetime import timedelta"
   ]
  },
  {
   "cell_type": "code",
   "execution_count": 135,
   "id": "2cd73ee0",
   "metadata": {},
   "outputs": [
    {
     "data": {
      "text/plain": [
       "datetime.datetime(2023, 2, 11, 23, 52, 34, 995062, tzinfo=zoneinfo.ZoneInfo(key='Asia/Jakarta'))"
      ]
     },
     "execution_count": 135,
     "metadata": {},
     "output_type": "execute_result"
    }
   ],
   "source": [
    "td = datetime.now(tz=ZoneInfo(\"Asia/Jakarta\"))\n",
    "td"
   ]
  },
  {
   "cell_type": "code",
   "execution_count": 161,
   "id": "47157005",
   "metadata": {},
   "outputs": [
    {
     "name": "stdout",
     "output_type": "stream",
     "text": [
      "Help on class date in module datetime:\n",
      "\n",
      "class date(builtins.object)\n",
      " |  date(year, month, day) --> date object\n",
      " |  \n",
      " |  Methods defined here:\n",
      " |  \n",
      " |  __add__(self, value, /)\n",
      " |      Return self+value.\n",
      " |  \n",
      " |  __eq__(self, value, /)\n",
      " |      Return self==value.\n",
      " |  \n",
      " |  __format__(...)\n",
      " |      Formats self with strftime.\n",
      " |  \n",
      " |  __ge__(self, value, /)\n",
      " |      Return self>=value.\n",
      " |  \n",
      " |  __getattribute__(self, name, /)\n",
      " |      Return getattr(self, name).\n",
      " |  \n",
      " |  __gt__(self, value, /)\n",
      " |      Return self>value.\n",
      " |  \n",
      " |  __hash__(self, /)\n",
      " |      Return hash(self).\n",
      " |  \n",
      " |  __le__(self, value, /)\n",
      " |      Return self<=value.\n",
      " |  \n",
      " |  __lt__(self, value, /)\n",
      " |      Return self<value.\n",
      " |  \n",
      " |  __ne__(self, value, /)\n",
      " |      Return self!=value.\n",
      " |  \n",
      " |  __radd__(self, value, /)\n",
      " |      Return value+self.\n",
      " |  \n",
      " |  __reduce__(...)\n",
      " |      __reduce__() -> (cls, state)\n",
      " |  \n",
      " |  __repr__(self, /)\n",
      " |      Return repr(self).\n",
      " |  \n",
      " |  __rsub__(self, value, /)\n",
      " |      Return value-self.\n",
      " |  \n",
      " |  __str__(self, /)\n",
      " |      Return str(self).\n",
      " |  \n",
      " |  __sub__(self, value, /)\n",
      " |      Return self-value.\n",
      " |  \n",
      " |  ctime(...)\n",
      " |      Return ctime() style string.\n",
      " |  \n",
      " |  isocalendar(...)\n",
      " |      Return a named tuple containing ISO year, week number, and weekday.\n",
      " |  \n",
      " |  isoformat(...)\n",
      " |      Return string in ISO 8601 format, YYYY-MM-DD.\n",
      " |  \n",
      " |  isoweekday(...)\n",
      " |      Return the day of the week represented by the date.\n",
      " |      Monday == 1 ... Sunday == 7\n",
      " |  \n",
      " |  replace(...)\n",
      " |      Return date with new specified fields.\n",
      " |  \n",
      " |  strftime(...)\n",
      " |      format -> strftime() style string.\n",
      " |  \n",
      " |  timetuple(...)\n",
      " |      Return time tuple, compatible with time.localtime().\n",
      " |  \n",
      " |  toordinal(...)\n",
      " |      Return proleptic Gregorian ordinal.  January 1 of year 1 is day 1.\n",
      " |  \n",
      " |  weekday(...)\n",
      " |      Return the day of the week represented by the date.\n",
      " |      Monday == 0 ... Sunday == 6\n",
      " |  \n",
      " |  ----------------------------------------------------------------------\n",
      " |  Class methods defined here:\n",
      " |  \n",
      " |  fromisocalendar(...) from builtins.type\n",
      " |      int, int, int -> Construct a date from the ISO year, week number and weekday.\n",
      " |      \n",
      " |      This is the inverse of the date.isocalendar() function\n",
      " |  \n",
      " |  fromisoformat(...) from builtins.type\n",
      " |      str -> Construct a date from the output of date.isoformat()\n",
      " |  \n",
      " |  fromordinal(...) from builtins.type\n",
      " |      int -> date corresponding to a proleptic Gregorian ordinal.\n",
      " |  \n",
      " |  fromtimestamp(timestamp, /) from builtins.type\n",
      " |      Create a date from a POSIX timestamp.\n",
      " |      \n",
      " |      The timestamp is a number, e.g. created via time.time(), that is interpreted\n",
      " |      as local time.\n",
      " |  \n",
      " |  today(...) from builtins.type\n",
      " |      Current date or datetime:  same as self.__class__.fromtimestamp(time.time()).\n",
      " |  \n",
      " |  ----------------------------------------------------------------------\n",
      " |  Static methods defined here:\n",
      " |  \n",
      " |  __new__(*args, **kwargs) from builtins.type\n",
      " |      Create and return a new object.  See help(type) for accurate signature.\n",
      " |  \n",
      " |  ----------------------------------------------------------------------\n",
      " |  Data descriptors defined here:\n",
      " |  \n",
      " |  day\n",
      " |  \n",
      " |  month\n",
      " |  \n",
      " |  year\n",
      " |  \n",
      " |  ----------------------------------------------------------------------\n",
      " |  Data and other attributes defined here:\n",
      " |  \n",
      " |  max = datetime.date(9999, 12, 31)\n",
      " |  \n",
      " |  min = datetime.date(1, 1, 1)\n",
      " |  \n",
      " |  resolution = datetime.timedelta(days=1)\n",
      "\n"
     ]
    }
   ],
   "source": [
    "help(date)"
   ]
  },
  {
   "cell_type": "code",
   "execution_count": 165,
   "id": "5253ed87",
   "metadata": {},
   "outputs": [
    {
     "name": "stdout",
     "output_type": "stream",
     "text": [
      "Help on timedelta object:\n",
      "\n",
      "class timedelta(builtins.object)\n",
      " |  Difference between two datetime values.\n",
      " |  \n",
      " |  timedelta(days=0, seconds=0, microseconds=0, milliseconds=0, minutes=0, hours=0, weeks=0)\n",
      " |  \n",
      " |  All arguments are optional and default to 0.\n",
      " |  Arguments may be integers or floats, and may be positive or negative.\n",
      " |  \n",
      " |  Methods defined here:\n",
      " |  \n",
      " |  __abs__(self, /)\n",
      " |      abs(self)\n",
      " |  \n",
      " |  __add__(self, value, /)\n",
      " |      Return self+value.\n",
      " |  \n",
      " |  __bool__(self, /)\n",
      " |      True if self else False\n",
      " |  \n",
      " |  __divmod__(self, value, /)\n",
      " |      Return divmod(self, value).\n",
      " |  \n",
      " |  __eq__(self, value, /)\n",
      " |      Return self==value.\n",
      " |  \n",
      " |  __floordiv__(self, value, /)\n",
      " |      Return self//value.\n",
      " |  \n",
      " |  __ge__(self, value, /)\n",
      " |      Return self>=value.\n",
      " |  \n",
      " |  __getattribute__(self, name, /)\n",
      " |      Return getattr(self, name).\n",
      " |  \n",
      " |  __gt__(self, value, /)\n",
      " |      Return self>value.\n",
      " |  \n",
      " |  __hash__(self, /)\n",
      " |      Return hash(self).\n",
      " |  \n",
      " |  __le__(self, value, /)\n",
      " |      Return self<=value.\n",
      " |  \n",
      " |  __lt__(self, value, /)\n",
      " |      Return self<value.\n",
      " |  \n",
      " |  __mod__(self, value, /)\n",
      " |      Return self%value.\n",
      " |  \n",
      " |  __mul__(self, value, /)\n",
      " |      Return self*value.\n",
      " |  \n",
      " |  __ne__(self, value, /)\n",
      " |      Return self!=value.\n",
      " |  \n",
      " |  __neg__(self, /)\n",
      " |      -self\n",
      " |  \n",
      " |  __pos__(self, /)\n",
      " |      +self\n",
      " |  \n",
      " |  __radd__(self, value, /)\n",
      " |      Return value+self.\n",
      " |  \n",
      " |  __rdivmod__(self, value, /)\n",
      " |      Return divmod(value, self).\n",
      " |  \n",
      " |  __reduce__(...)\n",
      " |      __reduce__() -> (cls, state)\n",
      " |  \n",
      " |  __repr__(self, /)\n",
      " |      Return repr(self).\n",
      " |  \n",
      " |  __rfloordiv__(self, value, /)\n",
      " |      Return value//self.\n",
      " |  \n",
      " |  __rmod__(self, value, /)\n",
      " |      Return value%self.\n",
      " |  \n",
      " |  __rmul__(self, value, /)\n",
      " |      Return value*self.\n",
      " |  \n",
      " |  __rsub__(self, value, /)\n",
      " |      Return value-self.\n",
      " |  \n",
      " |  __rtruediv__(self, value, /)\n",
      " |      Return value/self.\n",
      " |  \n",
      " |  __str__(self, /)\n",
      " |      Return str(self).\n",
      " |  \n",
      " |  __sub__(self, value, /)\n",
      " |      Return self-value.\n",
      " |  \n",
      " |  __truediv__(self, value, /)\n",
      " |      Return self/value.\n",
      " |  \n",
      " |  total_seconds(...)\n",
      " |      Total seconds in the duration.\n",
      " |  \n",
      " |  ----------------------------------------------------------------------\n",
      " |  Static methods defined here:\n",
      " |  \n",
      " |  __new__(*args, **kwargs) from builtins.type\n",
      " |      Create and return a new object.  See help(type) for accurate signature.\n",
      " |  \n",
      " |  ----------------------------------------------------------------------\n",
      " |  Data descriptors defined here:\n",
      " |  \n",
      " |  days\n",
      " |      Number of days.\n",
      " |  \n",
      " |  microseconds\n",
      " |      Number of microseconds (>= 0 and less than 1 second).\n",
      " |  \n",
      " |  seconds\n",
      " |      Number of seconds (>= 0 and less than 1 day).\n",
      " |  \n",
      " |  ----------------------------------------------------------------------\n",
      " |  Data and other attributes defined here:\n",
      " |  \n",
      " |  max = datetime.timedelta(days=999999999, seconds=86399, microseconds=9...\n",
      " |  \n",
      " |  min = datetime.timedelta(days=-999999999)\n",
      " |  \n",
      " |  resolution = datetime.timedelta(microseconds=1)\n",
      "\n"
     ]
    }
   ],
   "source": [
    "limaRibuHari = timedelta(days=5000)\n",
    "umurFaris = (datetime.now(tz=ZoneInfo(\"Asia/Jakarta\")) - dt_f) + limaRibuHari\n",
    "help(umurFaris)"
   ]
  },
  {
   "cell_type": "code",
   "execution_count": 167,
   "id": "bb4f33e9",
   "metadata": {},
   "outputs": [
    {
     "name": "stdout",
     "output_type": "stream",
     "text": [
      "2035-06-22 00:23:00+07:00\n"
     ]
    }
   ],
   "source": [
    "limaRibuHari = timedelta(days=5000)\n",
    "umurFaris = dt_f + limaRibuHari\n",
    "print(umurFaris)"
   ]
  },
  {
   "cell_type": "code",
   "execution_count": 168,
   "id": "b8fb77a6",
   "metadata": {},
   "outputs": [
    {
     "name": "stdout",
     "output_type": "stream",
     "text": [
      "1977-11-24 19:30:13+01:00\n"
     ]
    }
   ],
   "source": [
    "iso_date = '1977-11-24T19:30:13+01:00'\n",
    "print(datetime.fromisoformat(iso_date))"
   ]
  },
  {
   "cell_type": "code",
   "execution_count": 171,
   "id": "d440ff57",
   "metadata": {},
   "outputs": [
    {
     "name": "stdout",
     "output_type": "stream",
     "text": [
      "2023-02-12 00:15:26.170209+07:00\n"
     ]
    }
   ],
   "source": [
    "time_stamp_now = time.time()\n",
    "print(datetime.fromtimestamp(time_stamp_now, tz=ZoneInfo(\"Asia/Jakarta\")))"
   ]
  },
  {
   "cell_type": "code",
   "execution_count": 5,
   "id": "c547f354",
   "metadata": {},
   "outputs": [
    {
     "name": "stdout",
     "output_type": "stream",
     "text": [
      "Jumlah order 247, mendapatkan diskon 25\n"
     ]
    }
   ],
   "source": [
    "order_total = 247\n",
    "\n",
    "if order_total > 100:\n",
    "    discount = 25  # GBP\n",
    "else:\n",
    "    discount = 0  # GBP\n",
    "print(f'Jumlah order {order_total}, mendapatkan diskon {discount}')"
   ]
  },
  {
   "cell_type": "code",
   "execution_count": 6,
   "id": "b830591d",
   "metadata": {},
   "outputs": [
    {
     "name": "stdout",
     "output_type": "stream",
     "text": [
      "Jumlah order 247, mendapatkan diskon 25\n"
     ]
    }
   ],
   "source": [
    "order_total = 247\n",
    "discount = 25 if order_total > 100 else 0\n",
    "print(f'Jumlah order {order_total}, mendapatkan diskon {discount}')"
   ]
  },
  {
   "cell_type": "code",
   "execution_count": 7,
   "id": "5e47fc5b",
   "metadata": {},
   "outputs": [
    {
     "name": "stdout",
     "output_type": "stream",
     "text": [
      "0\n",
      "1\n",
      "2\n",
      "3\n",
      "4\n"
     ]
    }
   ],
   "source": [
    "for number in [0, 1, 2, 3, 4]:\n",
    "    print(number)"
   ]
  },
  {
   "cell_type": "code",
   "execution_count": 8,
   "id": "ca7b17eb",
   "metadata": {},
   "outputs": [
    {
     "name": "stdout",
     "output_type": "stream",
     "text": [
      "0\n",
      "1\n",
      "2\n",
      "3\n",
      "4\n"
     ]
    }
   ],
   "source": [
    "for number in range(5):\n",
    "    print(number)"
   ]
  },
  {
   "cell_type": "code",
   "execution_count": 9,
   "id": "b47cd0bf",
   "metadata": {},
   "outputs": [
    {
     "name": "stdout",
     "output_type": "stream",
     "text": [
      "Nomor urut 0 adalah farras\n",
      "Nomor urut 1 adalah tania\n",
      "Nomor urut 2 adalah faris\n",
      "Nomor urut 3 adalah noah\n"
     ]
    }
   ],
   "source": [
    "nama = 'farras', 'tania', 'faris', 'noah'\n",
    "for position in range (len (nama) ):\n",
    "    print(f'Nomor urut {position} adalah {nama[position]}')\n"
   ]
  },
  {
   "cell_type": "code",
   "execution_count": 10,
   "id": "c82bbe77",
   "metadata": {},
   "outputs": [
    {
     "name": "stdout",
     "output_type": "stream",
     "text": [
      "Nomor 2 disini oleh farras\n",
      "Nomor 3 disini oleh tania\n",
      "Nomor 4 disini oleh faris\n",
      "Nomor 5 disini oleh noah\n"
     ]
    }
   ],
   "source": [
    "nama = 'farras', 'tania', 'faris', 'noah'\n",
    "for positions, value in enumerate (nama, start = 2): \n",
    "    print(f'Nomor {positions} disini oleh {value}')\n"
   ]
  },
  {
   "cell_type": "code",
   "execution_count": 12,
   "id": "cdfa2035",
   "metadata": {},
   "outputs": [
    {
     "name": "stdout",
     "output_type": "stream",
     "text": [
      "<class 'tuple'>\n",
      "<class 'tuple_iterator'>\n"
     ]
    }
   ],
   "source": [
    "nama = 'farras', 'faris', 'noah'\n",
    "print(type (nama))\n",
    "\n",
    "iter_nama = iter(nama)\n",
    "print(type (iter_nama))\n"
   ]
  },
  {
   "cell_type": "code",
   "execution_count": 9,
   "id": "dbd9dd89-f37c-4808-9694-b854a4e9331a",
   "metadata": {},
   "outputs": [
    {
     "name": "stdout",
     "output_type": "stream",
     "text": [
      "farras\n",
      "faris\n",
      "noah\n"
     ]
    },
    {
     "ename": "StopIteration",
     "evalue": "",
     "output_type": "error",
     "traceback": [
      "\u001b[0;31m---------------------------------------------------------------------------\u001b[0m",
      "\u001b[0;31mStopIteration\u001b[0m                             Traceback (most recent call last)",
      "Input \u001b[0;32mIn [9]\u001b[0m, in \u001b[0;36m<cell line: 4>\u001b[0;34m()\u001b[0m\n\u001b[1;32m      2\u001b[0m \u001b[38;5;28mprint\u001b[39m(\u001b[38;5;28mnext\u001b[39m(iter_nama)) \u001b[38;5;66;03m#(2)\u001b[39;00m\n\u001b[1;32m      3\u001b[0m \u001b[38;5;28mprint\u001b[39m(\u001b[38;5;28mnext\u001b[39m(iter_nama)) \u001b[38;5;66;03m#(3)\u001b[39;00m\n\u001b[0;32m----> 4\u001b[0m \u001b[38;5;28mprint\u001b[39m(\u001b[38;5;28;43mnext\u001b[39;49m\u001b[43m(\u001b[49m\u001b[43miter_nama\u001b[49m\u001b[43m)\u001b[49m)\n",
      "\u001b[0;31mStopIteration\u001b[0m: "
     ]
    }
   ],
   "source": [
    "print(next(iter_nama)) #(1)\n",
    "print(next(iter_nama)) #(2)\n",
    "print(next(iter_nama)) #(3)\n",
    "print(next(iter_nama)) #(4)"
   ]
  },
  {
   "cell_type": "code",
   "execution_count": 14,
   "id": "5bf9be52-00f8-43eb-8a17-4e494cb70b4b",
   "metadata": {},
   "outputs": [],
   "source": [
    "for a in iter_nama:\n",
    "    print (a)"
   ]
  },
  {
   "cell_type": "code",
   "execution_count": 18,
   "id": "99a35b8d-1ea4-48c1-8866-7579e983d9d9",
   "metadata": {},
   "outputs": [],
   "source": []
  },
  {
   "cell_type": "code",
   "execution_count": 23,
   "id": "93269cd1-0402-4e8e-a468-a97e4b64eba9",
   "metadata": {},
   "outputs": [
    {
     "name": "stdout",
     "output_type": "stream",
     "text": [
      "Pemanggilan pertaman\n",
      "0\n",
      "1\n",
      "2\n",
      "Pemanggialan kedua\n",
      "0\n",
      "1\n",
      "2\n"
     ]
    }
   ],
   "source": [
    "data = range(3)\n",
    "print(\"Pemanggilan pertaman\")\n",
    "for a in data:\n",
    "    print (a)\n",
    "print(\"Pemanggialan kedua\")\n",
    "for a in data:\n",
    "    print (a)"
   ]
  },
  {
   "cell_type": "code",
   "execution_count": 25,
   "id": "559fc9aa-7c39-4e0d-b341-c2a69e96d929",
   "metadata": {},
   "outputs": [
    {
     "name": "stdout",
     "output_type": "stream",
     "text": [
      "Pemanggilan pertaman\n",
      "0\n",
      "1\n",
      "2\n",
      "Pemanggialan kedua\n"
     ]
    }
   ],
   "source": [
    "data_iter = iter(range(3))\n",
    "print(\"Pemanggilan pertaman\")\n",
    "for a in data_iter:\n",
    "    print (a)\n",
    "print(\"Pemanggialan kedua\")\n",
    "for a in data_iter:\n",
    "    print (a)"
   ]
  },
  {
   "cell_type": "code",
   "execution_count": 43,
   "id": "53d47a39-5b66-4854-9bfd-61e1800af272",
   "metadata": {},
   "outputs": [],
   "source": [
    "nama = [\"Farras\", \"Tania\", \"Faris\", \"Noah\"]\n",
    "umur = [26, 23, 2, 1]\n",
    "tl = [\"Jakarta\", \"Depok\", \"Bogor\", \"Bogor\"]"
   ]
  },
  {
   "cell_type": "code",
   "execution_count": 27,
   "id": "dcfdad10-cb4f-4f5d-8ce0-90c793b5ff3e",
   "metadata": {},
   "outputs": [
    {
     "name": "stdout",
     "output_type": "stream",
     "text": [
      "Farras berumur 26 lahir di Jakarta \n",
      "Tania berumur 23 lahir di Depok \n",
      "Faris berumur 2 lahir di Bogor \n",
      "Noah berumur 1 lahir di Bogor \n"
     ]
    }
   ],
   "source": [
    "for position in range (0,4):\n",
    "    print (f'{nama[position]} berumur {umur[position]} lahir di {tl[position]} ') "
   ]
  },
  {
   "cell_type": "code",
   "execution_count": 29,
   "id": "41177b7d-f0f1-418c-a9d4-20a38e03cd1b",
   "metadata": {},
   "outputs": [
    {
     "name": "stdout",
     "output_type": "stream",
     "text": [
      "Farras berumur 26 lahir di Jakarta \n",
      "Tania berumur 23 lahir di Depok \n",
      "Faris berumur 2 lahir di Bogor \n",
      "Noah berumur 1 lahir di Bogor \n"
     ]
    }
   ],
   "source": [
    "for nilai_nama, nilai_umur, nilai_tl in zip (nama, umur, tl):\n",
    "    print (f'{nilai_nama} berumur {nilai_umur} lahir di {nilai_tl} ')"
   ]
  },
  {
   "cell_type": "code",
   "execution_count": 31,
   "id": "c9846d1b-b6a3-4294-bf03-8fd2472528d5",
   "metadata": {},
   "outputs": [
    {
     "name": "stdout",
     "output_type": "stream",
     "text": [
      "Farras berumur 26 lahir di Jakarta \n",
      "Tania berumur 23 lahir di Depok \n",
      "Faris berumur 2 lahir di Bogor \n",
      "Noah berumur 1 lahir di Bogor \n"
     ]
    }
   ],
   "source": [
    "for data in zip (nama, umur, tl):\n",
    "    nilai_nama, nilai_umur, nilai_tl = data\n",
    "    print (f'{nilai_nama} berumur {nilai_umur} lahir di {nilai_tl} ')"
   ]
  },
  {
   "cell_type": "code",
   "execution_count": 82,
   "id": "3dbc3b2c-d366-457b-9073-00e75db3a225",
   "metadata": {},
   "outputs": [],
   "source": [
    "def int_to_bin(number):\n",
    "    n = number\n",
    "    binnary = []\n",
    "    while n > 0:\n",
    "        binnary.append( n % 2)\n",
    "        n //= 2\n",
    "    \n",
    "    binnary.reverse()\n",
    "    return binnary;"
   ]
  },
  {
   "cell_type": "code",
   "execution_count": 83,
   "id": "a573be6e-266b-4227-9ac4-0f1773ba8ec7",
   "metadata": {},
   "outputs": [
    {
     "name": "stdout",
     "output_type": "stream",
     "text": [
      "[1, 0, 0, 1]\n"
     ]
    }
   ],
   "source": [
    "print(int_to_bin(9))"
   ]
  },
  {
   "cell_type": "code",
   "execution_count": 81,
   "id": "42398580-2800-4914-b1b9-a3f10b838b30",
   "metadata": {},
   "outputs": [],
   "source": [
    "def int_to_bin_div_mod(number):\n",
    "    n = number\n",
    "    binnary = []\n",
    "    while n > 0:\n",
    "        n, bins = divmod(n,2)\n",
    "        binnary.append(bins)\n",
    "    \n",
    "    binnary.reverse()\n",
    "    return binnary;"
   ]
  },
  {
   "cell_type": "code",
   "execution_count": 85,
   "id": "0830560c-0664-4c6e-ab0e-0268a20c014c",
   "metadata": {},
   "outputs": [
    {
     "name": "stdout",
     "output_type": "stream",
     "text": [
      "[1, 0, 1, 1]\n"
     ]
    }
   ],
   "source": [
    "print(int_to_bin_div_mod(11))"
   ]
  },
  {
   "cell_type": "code",
   "execution_count": 102,
   "id": "f7bcb5bb-7a2d-4173-b76e-c3955b985a5b",
   "metadata": {},
   "outputs": [
    {
     "name": "stdout",
     "output_type": "stream",
     "text": [
      "Price for $Nasi Padang is 12,000\n",
      "Price for $Soto Lamongan is 28,000\n"
     ]
    }
   ],
   "source": [
    "from datetime import date, timedelta\n",
    "\n",
    "today = date.today()\n",
    "tommorow = today + timedelta(days=1)\n",
    "\n",
    "products = [\n",
    "{'id':'1', 'exparation_date':today, 'name':'Nasi Padang', 'price':15000},\n",
    "{'id':'2', 'exparation_date':tommorow, 'name':'Jus Jeruk', 'price':20000},\n",
    "{'id':'3', 'exparation_date':today, 'name':'Soto Lamongan', 'price':35000}\n",
    "]\n",
    "\n",
    "for product in products:\n",
    "        if product['exparation_date'] != today:\n",
    "                continue\n",
    "        product['price'] *= 0.8\n",
    "        print(f\"Price for ${product['name']} is {product['price']:,.0f}\")"
   ]
  },
  {
   "cell_type": "code",
   "execution_count": 119,
   "id": "09a63468-8781-4600-943c-366039c2f841",
   "metadata": {},
   "outputs": [
    {
     "name": "stdout",
     "output_type": "stream",
     "text": [
      "Input number here : Keep enter the number here : "
     ]
    },
    {
     "name": "stdin",
     "output_type": "stream",
     "text": [
      " 1\n"
     ]
    },
    {
     "name": "stdout",
     "output_type": "stream",
     "text": [
      "Iterating is still working\n",
      "-------------\n",
      "Keep enter the number here : "
     ]
    },
    {
     "name": "stdin",
     "output_type": "stream",
     "text": [
      " 7\n"
     ]
    },
    {
     "name": "stdout",
     "output_type": "stream",
     "text": [
      "opps you entered boom number, breaking soon\n",
      "the game has ended\n"
     ]
    }
   ],
   "source": [
    "print(\"Input number here : \", end=\"\")\n",
    "\n",
    "while (True):\n",
    "    print(\"Keep enter the number here : \", end=\"\")\n",
    "    number = int(input())\n",
    "    if (number%7 != 0):\n",
    "\n",
    "            print(\"Iterating is still working\")\n",
    "            print(\"-------------\");\n",
    "    else:\n",
    "            print(\"opps you entered boom number, breaking soon\")\n",
    "            break\n",
    "\n",
    "print (\"the game has ended\")"
   ]
  },
  {
   "cell_type": "code",
   "execution_count": 108,
   "id": "30f4a442-8114-4097-838c-0756e67e3968",
   "metadata": {},
   "outputs": [
    {
     "ename": "DriverException",
     "evalue": "Driver not found",
     "output_type": "error",
     "traceback": [
      "\u001b[0;31m---------------------------------------------------------------------------\u001b[0m",
      "\u001b[0;31mDriverException\u001b[0m                           Traceback (most recent call last)",
      "Input \u001b[0;32mIn [108]\u001b[0m, in \u001b[0;36m<cell line: 8>\u001b[0;34m()\u001b[0m\n\u001b[1;32m     13\u001b[0m                 \u001b[38;5;28;01mbreak\u001b[39;00m\n\u001b[1;32m     14\u001b[0m \u001b[38;5;28;01melse\u001b[39;00m :\n\u001b[0;32m---> 15\u001b[0m         \u001b[38;5;28;01mraise\u001b[39;00m DriverException(\u001b[38;5;124m\"\u001b[39m\u001b[38;5;124mDriver not found\u001b[39m\u001b[38;5;124m\"\u001b[39m)\n",
      "\u001b[0;31mDriverException\u001b[0m: Driver not found"
     ]
    }
   ],
   "source": [
    "class DriverException(Exception):\n",
    "        pass\n",
    "\n",
    "\n",
    "nama = (\"farras\",\"tania\",\"faris\", \"noah\")\n",
    "umur = (17,14,0,0)\n",
    "\n",
    "for data in zip(nama,umur):\n",
    "        nama, umur = data\n",
    "        if umur >= 18:\n",
    "                driver = (nama,umur)\n",
    "                print(driver)\n",
    "                break\n",
    "else :\n",
    "        raise DriverException(\"Driver not found\")"
   ]
  },
  {
   "cell_type": "code",
   "execution_count": 116,
   "id": "b4f73022-e748-47cf-aceb-69ddb40fd122",
   "metadata": {},
   "outputs": [
    {
     "name": "stdout",
     "output_type": "stream",
     "text": [
      "Lulus\n"
     ]
    }
   ],
   "source": [
    "if lulus := True:\n",
    "    print(\"Lulus\")\n",
    "else:\n",
    "    print(\"Tidak lulus\")"
   ]
  },
  {
   "cell_type": "code",
   "execution_count": 112,
   "id": "ea924779-1436-45ce-9bec-42a105809548",
   "metadata": {},
   "outputs": [
    {
     "name": "stdout",
     "output_type": "stream",
     "text": [
      "lulus\n"
     ]
    }
   ],
   "source": [
    "lulus = True\n",
    "if lulus:\n",
    "        print (\"lulus\")\n",
    "else:\n",
    "        print(\"Tidak lulus\")\n"
   ]
  },
  {
   "cell_type": "code",
   "execution_count": 120,
   "id": "4ccf8a9f-556f-4551-a163-739a581a370a",
   "metadata": {},
   "outputs": [
    {
     "name": "stdout",
     "output_type": "stream",
     "text": [
      "Input the number here : "
     ]
    },
    {
     "name": "stdin",
     "output_type": "stream",
     "text": [
      " 7\n"
     ]
    },
    {
     "name": "stdout",
     "output_type": "stream",
     "text": [
      "opps you entered boom number, breaking soon\n",
      "the game has ended\n"
     ]
    }
   ],
   "source": [
    "while (True):\n",
    "    print(\"Input the number here : \", end=\"\")\n",
    "    \n",
    "    if (number := int(input())%7 != 0):\n",
    "\n",
    "            print(\"Iterating is still working\")\n",
    "            print(\"-------------\");\n",
    "    else:\n",
    "            print(\"opps you entered boom number, breaking soon\")\n",
    "            break\n",
    "\n",
    "print (\"the game has ended\")"
   ]
  },
  {
   "cell_type": "code",
   "execution_count": 125,
   "id": "bbf4f0d6-1616-4094-a8a8-f3fec32f5d8e",
   "metadata": {},
   "outputs": [
    {
     "name": "stdout",
     "output_type": "stream",
     "text": [
      "my_function: 0\n",
      "global: 0\n"
     ]
    }
   ],
   "source": [
    "# scoping.level.1.py\n",
    "def my_function():\n",
    "    # test = 1 # this is defined in the local scope of the function\n",
    "    print('my_function:', test)\n",
    "\n",
    "test = 0 # this is defined in the global scope\n",
    "my_function()\n",
    "print('global:', test)"
   ]
  },
  {
   "cell_type": "code",
   "execution_count": 189,
   "id": "7adae116-e3d4-4dc6-87db-0973bd7ca1cd",
   "metadata": {},
   "outputs": [
    {
     "name": "stdout",
     "output_type": "stream",
     "text": [
      "Deeper inner : 3\n",
      "Inner : 1\n",
      "Outer : 1\n",
      "Global : 0\n"
     ]
    }
   ],
   "source": [
    "def outer():\n",
    "    test = 1\n",
    "\n",
    "    def inner():\n",
    "        # test = 2\n",
    "\n",
    "        def deep_inner():\n",
    "            test = 3\n",
    "            print(f'Deeper inner : {test}')\n",
    "\n",
    "        deep_inner()\n",
    "        print(f'Inner : {test}')\n",
    "    inner()\n",
    "    print(f'Outer : {test}')\n",
    "\n",
    "test = 0\n",
    "outer()\n",
    "print(f'Global : {test}')\n"
   ]
  },
  {
   "cell_type": "code",
   "execution_count": 188,
   "id": "8b9cde58-d004-4a75-ae80-2daec563a9fa",
   "metadata": {},
   "outputs": [
    {
     "name": "stdout",
     "output_type": "stream",
     "text": [
      "Deeper inner : 3\n",
      "Inner : 2\n",
      "Outer : 1\n",
      "Global : 0\n"
     ]
    }
   ],
   "source": [
    "def outer():\n",
    "    test = 1\n",
    "    \n",
    "    \n",
    "    def inner():\n",
    "        test = 2\n",
    "        \n",
    "        \n",
    "        def deep_inner():\n",
    "            test = 3\n",
    "            print(f'Deeper inner : {test}')\n",
    "        \n",
    "        deep_inner()\n",
    "        print(f'Inner : {test}')\n",
    "    inner()\n",
    "    print(f'Outer : {test}')\n",
    "\n",
    "\n",
    "test = 0\n",
    "outer()\n",
    "print(f'Global : {test}')"
   ]
  },
  {
   "cell_type": "markdown",
   "id": "608fcbb3-7c2c-4752-a55a-789f450b5f4c",
   "metadata": {},
   "source": [
    "---"
   ]
  },
  {
   "cell_type": "code",
   "execution_count": 187,
   "id": "d9dad242-acc6-4f0a-ac58-2bdc27c488ca",
   "metadata": {},
   "outputs": [
    {
     "name": "stdout",
     "output_type": "stream",
     "text": [
      "Deeper inner : 3\n",
      "Inner : 2\n",
      "Outer : 2\n",
      "Global : 0\n"
     ]
    }
   ],
   "source": [
    "def outer():\n",
    "    test = 1\n",
    "    \n",
    "    \n",
    "    def inner():\n",
    "        nonlocal test\n",
    "        test = 2\n",
    "        \n",
    "        \n",
    "        def deep_inner():\n",
    "            test = 3\n",
    "            print(f'Deeper inner : {test}')\n",
    "        \n",
    "        deep_inner()\n",
    "        print(f'Inner : {test}')\n",
    "    inner()\n",
    "    print(f'Outer : {test}') #(1)!\n",
    "\n",
    "\n",
    "test = 0            \n",
    "outer()\n",
    "print(f'Global : {test}')"
   ]
  },
  {
   "cell_type": "code",
   "execution_count": 186,
   "id": "bbdbd1ce-4cb1-4670-b3f2-8e3eb3afce19",
   "metadata": {},
   "outputs": [
    {
     "name": "stdout",
     "output_type": "stream",
     "text": [
      "Deeper inner : 3\n",
      "Inner : 3\n",
      "Outer : 1\n",
      "Global : 0\n"
     ]
    }
   ],
   "source": [
    "def outer():\n",
    "    test = 1\n",
    "    \n",
    "    def inner():\n",
    "        test = 2\n",
    "        \n",
    "        def deep_inner():\n",
    "            nonlocal test\n",
    "            test = 3\n",
    "            print(f'Deeper inner : {test}')\n",
    "        \n",
    "        deep_inner()#(1)!\n",
    "        print(f'Inner : {test}') #(2)!\n",
    "    inner()\n",
    "    print(f'Outer : {test}')\n",
    "\n",
    "test = 0\n",
    "outer()\n",
    "print(f'Global : {test}')"
   ]
  },
  {
   "cell_type": "code",
   "execution_count": 185,
   "id": "a2265bdc-47e7-4458-807a-83d66f0434ad",
   "metadata": {},
   "outputs": [
    {
     "name": "stdout",
     "output_type": "stream",
     "text": [
      "Deeper inner : 3\n",
      "Inner : 3\n",
      "Outer : 3\n",
      "Global : 0\n"
     ]
    }
   ],
   "source": [
    "def outer():\n",
    "    test = 1\n",
    "    \n",
    "    def inner():\n",
    "        nonlocal test\n",
    "        test = 2\n",
    "        \n",
    "        def deep_inner():\n",
    "            nonlocal test\n",
    "            test = 3\n",
    "            print(f'Deeper inner : {test}')\n",
    "        \n",
    "        deep_inner()#(1)!\n",
    "        print(f'Inner : {test}') #(2)!\n",
    "    inner()\n",
    "    print(f'Outer : {test}')\n",
    "\n",
    "test = 0\n",
    "outer()\n",
    "print(f'Global : {test}')"
   ]
  },
  {
   "cell_type": "code",
   "execution_count": 150,
   "id": "087c16ff-958f-4c3c-b80d-1849047bfa48",
   "metadata": {},
   "outputs": [],
   "source": [
    "from numpy.random import standard_normal"
   ]
  },
  {
   "cell_type": "code",
   "execution_count": 152,
   "id": "a72a2f22-080c-47a7-a2d9-14bd4ad940cf",
   "metadata": {},
   "outputs": [
    {
     "data": {
      "text/plain": [
       "array([[-0.19914706,  1.42754049,  1.45713892,  0.50916662],\n",
       "       [ 1.26527916, -0.10637776,  1.21692534,  0.61612303],\n",
       "       [-0.24718207, -0.18604395, -0.87053182,  1.47146749],\n",
       "       [ 0.31169422,  1.17095301, -1.50503534,  0.94199733]])"
      ]
     },
     "execution_count": 152,
     "metadata": {},
     "output_type": "execute_result"
    }
   ],
   "source": [
    "standard_normal([4,4])"
   ]
  },
  {
   "cell_type": "code",
   "execution_count": 184,
   "id": "a23dcba2-b1e8-4628-90d1-0ce3cc34a656",
   "metadata": {},
   "outputs": [
    {
     "ename": "SyntaxError",
     "evalue": "no binding for nonlocal 'test' found (3602546841.py, line 2)",
     "output_type": "error",
     "traceback": [
      "\u001b[0;36m  Input \u001b[0;32mIn [184]\u001b[0;36m\u001b[0m\n\u001b[0;31m    nonlocal test\u001b[0m\n\u001b[0m    ^\u001b[0m\n\u001b[0;31mSyntaxError\u001b[0m\u001b[0;31m:\u001b[0m no binding for nonlocal 'test' found\n"
     ]
    }
   ],
   "source": [
    "def outer():\n",
    "    nonlocal test\n",
    "    test = 1\n",
    "    \n",
    "    def inner():\n",
    "        test = 2\n",
    "        \n",
    "        def deep_inner():\n",
    "            test = 3\n",
    "            print(f'Deeper inner : {test}')\n",
    "        \n",
    "        deep_inner()#(1)!\n",
    "        print(f'Inner : {test}') #(2)!\n",
    "    inner()\n",
    "    print(f'Outer : {test}')\n",
    "\n",
    "test = 0\n",
    "outer()\n",
    "print(f'Global : {test}')"
   ]
  },
  {
   "cell_type": "code",
   "execution_count": 183,
   "id": "e50dc0a4-2cb5-4330-a768-176a19692f4e",
   "metadata": {},
   "outputs": [
    {
     "name": "stdout",
     "output_type": "stream",
     "text": [
      "Deeper inner : 3\n",
      "Inner : 1\n",
      "Outer : 1\n",
      "Global : 0\n"
     ]
    }
   ],
   "source": [
    "def outer():\n",
    "    test = 1\n",
    "    \n",
    "    def inner():\n",
    "        # test = 2\n",
    "        \n",
    "        def deep_inner():\n",
    "            test = 3\n",
    "            print(f'Deeper inner : {test}')\n",
    "        \n",
    "        deep_inner()#(1)!\n",
    "        print(f'Inner : {test}') #(2)!\n",
    "    inner()\n",
    "    print(f'Outer : {test}')\n",
    "\n",
    "test = 0\n",
    "outer()\n",
    "print(f'Global : {test}')"
   ]
  },
  {
   "cell_type": "code",
   "execution_count": 191,
   "id": "d08f71e6-7726-4e57-8b4f-cb3dcc52cbaf",
   "metadata": {},
   "outputs": [
    {
     "name": "stdout",
     "output_type": "stream",
     "text": [
      "Deeper inner : 3\n",
      "Inner : 0\n",
      "Outer : 1\n",
      "Global : 0\n"
     ]
    }
   ],
   "source": [
    "def outer():\n",
    "    test = 1\n",
    "    \n",
    "    def inner():\n",
    "        global test\n",
    "        # test = 2\n",
    "        \n",
    "        def deep_inner():\n",
    "            test = 3\n",
    "            print(f'Deeper inner : {test}')\n",
    "        \n",
    "        deep_inner()#(1)!\n",
    "        print(f'Inner : {test}') #(2)!\n",
    "    inner()\n",
    "    print(f'Outer : {test}')\n",
    "\n",
    "test = 0\n",
    "outer()\n",
    "print(f'Global : {test}')"
   ]
  },
  {
   "cell_type": "code",
   "execution_count": 192,
   "id": "4c7d4aee-ab2d-42f6-aa1e-e3567ea60721",
   "metadata": {},
   "outputs": [
    {
     "name": "stdout",
     "output_type": "stream",
     "text": [
      "Deeper inner : 3\n",
      "Inner : 2\n",
      "Outer : 1\n",
      "Global : 2\n"
     ]
    }
   ],
   "source": [
    "def outer():\n",
    "    test = 1\n",
    "    \n",
    "    def inner():\n",
    "        global test\n",
    "        test = 2\n",
    "        \n",
    "        def deep_inner():\n",
    "            test = 3\n",
    "            print(f'Deeper inner : {test}')\n",
    "        \n",
    "        deep_inner()#(1)!\n",
    "        print(f'Inner : {test}')\n",
    "    inner()\n",
    "    print(f'Outer : {test}')\n",
    "\n",
    "test = 0\n",
    "outer()\n",
    "print(f'Global : {test}')"
   ]
  },
  {
   "cell_type": "code",
   "execution_count": 203,
   "id": "a6224b03-c8dc-4b47-9c42-b80eafe97384",
   "metadata": {},
   "outputs": [
    {
     "name": "stdout",
     "output_type": "stream",
     "text": [
      "4\n",
      "10\n"
     ]
    }
   ],
   "source": [
    "x = 10\n",
    "def ganda(x):\n",
    "    x = 2 #(1)!\n",
    "    print(x*2) \n",
    "\n",
    "ganda(x)\n",
    "print(x) #(2)!"
   ]
  },
  {
   "cell_type": "code",
   "execution_count": 222,
   "id": "853eced3-2c59-4bf7-a89b-9426855ef278",
   "metadata": {},
   "outputs": [
    {
     "name": "stdout",
     "output_type": "stream",
     "text": [
      "[1, 4, 9, 16, 25]\n"
     ]
    }
   ],
   "source": [
    "lst = [1,2,3,4,5]\n",
    "def func(x):\n",
    "    for a,b in enumerate(x):\n",
    "        lst[a] = b**2\n",
    "        \n",
    "func(lst)\n",
    "print(lst)\n",
    "        "
   ]
  },
  {
   "cell_type": "code",
   "execution_count": 225,
   "id": "9e67879c-a858-4bb4-8cf4-525949aa2268",
   "metadata": {},
   "outputs": [
    {
     "name": "stdout",
     "output_type": "stream",
     "text": [
      "[1, 4, 9, 16, 25]\n"
     ]
    }
   ],
   "source": [
    "lst = [1,2,3,4,5]\n",
    "def func(x):\n",
    "    for a,b in enumerate(x):\n",
    "        lst[a] = b**2\n",
    "        \n",
    "    x = [0,0,0,0,0] #(1)! Tidak dapat mengganti nilai caller, `lst` pada global scope yang sudah dimodifikasi.\n",
    "func(lst)\n",
    "print(lst) #(2)! Tetap mengambil nilai `lst` pada global scope yang sudah dimodifikasi oleh fungsi `#!python func`.\n",
    "        "
   ]
  },
  {
   "cell_type": "code",
   "execution_count": 228,
   "id": "06bd212d-17b9-4a66-a8b5-4b1c858dc90b",
   "metadata": {},
   "outputs": [
    {
     "name": "stdout",
     "output_type": "stream",
     "text": [
      "10 20 30\n"
     ]
    }
   ],
   "source": [
    "def func (satu, dua, tiga):\n",
    "    print(satu, dua ,tiga)\n",
    "    \n",
    "func (10,20,30)"
   ]
  },
  {
   "cell_type": "code",
   "execution_count": 229,
   "id": "ef2bfdf7-1ce9-4377-a875-5e10730fe88c",
   "metadata": {},
   "outputs": [
    {
     "name": "stdout",
     "output_type": "stream",
     "text": [
      "10 20 30\n"
     ]
    }
   ],
   "source": [
    "def func (satu, dua, tiga):\n",
    "    print(satu, dua ,tiga)\n",
    "    \n",
    "func (tiga=30, satu=10, dua=20)"
   ]
  },
  {
   "cell_type": "code",
   "execution_count": 230,
   "id": "801f4ab0-a584-497a-a045-ed8c04d1a639",
   "metadata": {},
   "outputs": [
    {
     "name": "stdout",
     "output_type": "stream",
     "text": [
      "10 20 30\n"
     ]
    }
   ],
   "source": [
    "def func (satu, dua, tiga):\n",
    "    print(satu, dua ,tiga)\n",
    "    \n",
    "func (10, tiga=30,  dua=20)"
   ]
  },
  {
   "cell_type": "code",
   "execution_count": 231,
   "id": "e2897aae-e27b-4f2e-9eb4-d6c9ac694e24",
   "metadata": {},
   "outputs": [
    {
     "ename": "SyntaxError",
     "evalue": "positional argument follows keyword argument (44956415.py, line 4)",
     "output_type": "error",
     "traceback": [
      "\u001b[0;36m  Input \u001b[0;32mIn [231]\u001b[0;36m\u001b[0m\n\u001b[0;31m    func (dua= 20, satu=10,  30)\u001b[0m\n\u001b[0m                               ^\u001b[0m\n\u001b[0;31mSyntaxError\u001b[0m\u001b[0;31m:\u001b[0m positional argument follows keyword argument\n"
     ]
    }
   ],
   "source": [
    "def func (satu, dua, tiga):\n",
    "    print(satu, dua ,tiga)\n",
    "    \n",
    "func (dua= 20, satu=10,  30)"
   ]
  },
  {
   "cell_type": "code",
   "execution_count": 232,
   "id": "d416a967-1606-40cd-abc9-61a0eb448371",
   "metadata": {},
   "outputs": [
    {
     "name": "stdout",
     "output_type": "stream",
     "text": [
      "10 20 30\n"
     ]
    }
   ],
   "source": [
    "deret = (10,20,30)\n",
    "def func (satu, dua, tiga):\n",
    "    print(satu, dua ,tiga)\n",
    "\n",
    "func(*deret)"
   ]
  },
  {
   "cell_type": "code",
   "execution_count": 233,
   "id": "984bdc33-99c5-4db7-bd5a-55dd2daeed25",
   "metadata": {},
   "outputs": [
    {
     "name": "stdout",
     "output_type": "stream",
     "text": [
      "10 20 30\n"
     ]
    }
   ],
   "source": [
    "deret = [10,20,30]\n",
    "def func (satu, dua, tiga):\n",
    "    print(satu, dua ,tiga)\n",
    "    \n",
    "func(*deret)"
   ]
  },
  {
   "cell_type": "code",
   "execution_count": 246,
   "id": "5585b2bf-d4d6-4410-93ba-501a77436621",
   "metadata": {},
   "outputs": [
    {
     "name": "stdout",
     "output_type": "stream",
     "text": [
      "10 20 30\n"
     ]
    }
   ],
   "source": [
    "deret = {'satu':10,'dua':20,'tiga':30}\n",
    "def func (satu, dua, tiga):\n",
    "    deret[\"satu\"] = 50\n",
    "    print(satu, dua ,tiga)\n",
    "    \n",
    "func(**deret)"
   ]
  },
  {
   "cell_type": "code",
   "execution_count": 273,
   "id": "ab84c391-601d-4b33-9438-59bd8b2daa5f",
   "metadata": {},
   "outputs": [
    {
     "name": "stdout",
     "output_type": "stream",
     "text": [
      "1 2 3 4 5 6 7\n",
      "1 2 3 4 5 6 7\n",
      "1 2 3 4 5 6 7\n"
     ]
    }
   ],
   "source": [
    "def func (a,b,c,d,e,f,g):\n",
    "    print(a,b,c,d,e,f,g)\n",
    "    \n",
    "    \n",
    "func(1,*(2,3,4,5), **{'f':6,'g':7})\n",
    "func(c = 3, d= 4, *(1,2), e=5,f=6,**{'g':7})\n",
    "func(*(1,2), d=4, c=3,  **{'f':6,'g':7}, e=5)"
   ]
  },
  {
   "cell_type": "code",
   "execution_count": 282,
   "id": "4b23f47d-c5f8-41b8-8cc6-ec24e6e05ccb",
   "metadata": {},
   "outputs": [
    {
     "name": "stdout",
     "output_type": "stream",
     "text": [
      "1 2 3\n",
      "2 4 6\n",
      "4 5 6\n",
      "2 3 3\n"
     ]
    }
   ],
   "source": [
    "def func (a,b=2,c=3):\n",
    "    print(a,b,c)\n",
    "    \n",
    "func (1)\n",
    "func (b=4,c=6,a=2)\n",
    "func(*(4,5),6)\n",
    "func(2,3)"
   ]
  },
  {
   "cell_type": "code",
   "execution_count": 283,
   "id": "ea7755db-4cb2-49d8-ace1-18e8bff791ea",
   "metadata": {},
   "outputs": [
    {
     "ename": "SyntaxError",
     "evalue": "non-default argument follows default argument (1049202099.py, line 1)",
     "output_type": "error",
     "traceback": [
      "\u001b[0;36m  Input \u001b[0;32mIn [283]\u001b[0;36m\u001b[0m\n\u001b[0;31m    def func (a,b=2,c):\u001b[0m\n\u001b[0m                     ^\u001b[0m\n\u001b[0;31mSyntaxError\u001b[0m\u001b[0;31m:\u001b[0m non-default argument follows default argument\n"
     ]
    }
   ],
   "source": [
    "def func (a,b=2,c):\n",
    "    print(a,b,c)\n",
    "\n",
    "func (1)\n",
    "func (b=4,c=6,a=2)\n",
    "func(*(4,5),6)\n",
    "func(2,3)\n"
   ]
  },
  {
   "cell_type": "code",
   "execution_count": 294,
   "id": "465d66b4-57b5-43b6-802c-20201e5383b3",
   "metadata": {},
   "outputs": [
    {
     "name": "stdout",
     "output_type": "stream",
     "text": [
      "-5\n"
     ]
    }
   ],
   "source": [
    "def terkecil (*post):\n",
    "    if post:\n",
    "        terkecil = post[0] # Terkecil sementara\n",
    "        for a in post[1:]:\n",
    "            if a < terkecil:\n",
    "                terkecil = a\n",
    "        return terkecil\n",
    "    \n",
    "print(terkecil(1,-2,4,-5,6))\n"
   ]
  },
  {
   "cell_type": "code",
   "execution_count": 298,
   "id": "8d3238de-1033-4952-a262-fc2c241692ce",
   "metadata": {},
   "outputs": [
    {
     "ename": "SyntaxError",
     "evalue": "invalid syntax (1957171653.py, line 1)",
     "output_type": "error",
     "traceback": [
      "\u001b[0;36m  Input \u001b[0;32mIn [298]\u001b[0;36m\u001b[0m\n\u001b[0;31m    def dua_positional_parameter (*post, *post2):\u001b[0m\n\u001b[0m                                         ^\u001b[0m\n\u001b[0;31mSyntaxError\u001b[0m\u001b[0;31m:\u001b[0m invalid syntax\n"
     ]
    }
   ],
   "source": [
    "def dua_positional_parameter (*post, *post2):\n",
    "    print(type(post), type(post2))"
   ]
  },
  {
   "cell_type": "code",
   "execution_count": 300,
   "id": "f0b83f57-1b09-419b-9e3b-83433c10e4ff",
   "metadata": {},
   "outputs": [
    {
     "ename": "SyntaxError",
     "evalue": "invalid syntax (3858464982.py, line 1)",
     "output_type": "error",
     "traceback": [
      "\u001b[0;36m  Input \u001b[0;32mIn [300]\u001b[0;36m\u001b[0m\n\u001b[0;31m    def dua_positional_parameter (*post = (1,2,3)):\u001b[0m\n\u001b[0m                                        ^\u001b[0m\n\u001b[0;31mSyntaxError\u001b[0m\u001b[0;31m:\u001b[0m invalid syntax\n"
     ]
    }
   ],
   "source": [
    "def dua_positional_parameter (*post = (1,2,3)):\n",
    "    print(type(post))"
   ]
  },
  {
   "cell_type": "code",
   "execution_count": 326,
   "id": "aa1cd72c-41a2-4ac1-bd8f-70fa11663807",
   "metadata": {},
   "outputs": [
    {
     "name": "stdout",
     "output_type": "stream",
     "text": [
      "<class 'dict'>\n",
      "{'a': 1, 'b': 2, 'c': 3, 'd': 4}\n"
     ]
    }
   ],
   "source": [
    "deret = {'a':1,'b':2,'c':3,'d':4}\n",
    "def func (**kwargs):\n",
    "    print(type(kwargs))\n",
    "    print(kwargs)\n",
    "    \n",
    "func(**deret)"
   ]
  },
  {
   "cell_type": "code",
   "execution_count": 323,
   "id": "6a9a967a-a367-4f4f-a7d3-899dccc82ae9",
   "metadata": {},
   "outputs": [
    {
     "name": "stdout",
     "output_type": "stream",
     "text": [
      "-4\n"
     ]
    }
   ],
   "source": [
    "def terkecil (*post): #(1)!\n",
    "    if post:\n",
    "        terkecil = post[0] # Terkecil sementara\n",
    "        for a in post[1:]:\n",
    "            if a < terkecil:\n",
    "                terkecil = a\n",
    "        return terkecil\n",
    "\n",
    "deret = [1,-2,3,-4,5,6]\n",
    "print(terkecil(*deret)) #(2)!"
   ]
  },
  {
   "cell_type": "code",
   "execution_count": 328,
   "id": "668e5ae1-73b1-4774-8f6b-594cb6265b55",
   "metadata": {},
   "outputs": [
    {
     "data": {
      "text/plain": [
       "'Return the value for key if key is in the dictionary, else default.'"
      ]
     },
     "execution_count": 328,
     "metadata": {},
     "output_type": "execute_result"
    }
   ],
   "source": [
    "deret.get.__doc__"
   ]
  },
  {
   "cell_type": "code",
   "execution_count": 325,
   "id": "3df88021-1589-40ad-818b-1594de513abc",
   "metadata": {},
   "outputs": [
    {
     "name": "stdout",
     "output_type": "stream",
     "text": [
      "{'host': '127.0.0.1', 'port': 5432, 'user': '', 'pwd': ''}\n",
      "{'host': '127.0.0.42', 'port': 5433, 'user': '', 'pwd': ''}\n",
      "{'host': '127.0.0.1', 'port': 5431, 'user': 'fab', 'pwd': 'gandalf'}\n"
     ]
    }
   ],
   "source": [
    "def connect(**options):\n",
    "    conn_params = {\n",
    "    'host': options.get('host', '127.0.0.1'),\n",
    "    'port': options.get('port', 5432),\n",
    "    'user': options.get('user', ''),\n",
    "    'pwd': options.get('pwd', ''),\n",
    "    }\n",
    "    print(conn_params)\n",
    "    # we then connect to the db (commented out)\n",
    "    # db.connect(**conn_params)\n",
    "connect()\n",
    "connect(host='127.0.0.42', port=5433)\n",
    "connect(port=5431, user='fab', pwd='gandalf')"
   ]
  },
  {
   "cell_type": "code",
   "execution_count": 337,
   "id": "55e01f44-2366-4f03-bf5d-128800722f1c",
   "metadata": {},
   "outputs": [
    {
     "name": "stdout",
     "output_type": "stream",
     "text": [
      "1 2 3\n",
      "2 4 8\n"
     ]
    },
    {
     "ename": "TypeError",
     "evalue": "func() got some positional-only arguments passed as keyword arguments: 'a, b'",
     "output_type": "error",
     "traceback": [
      "\u001b[0;31m---------------------------------------------------------------------------\u001b[0m",
      "\u001b[0;31mTypeError\u001b[0m                                 Traceback (most recent call last)",
      "Input \u001b[0;32mIn [337]\u001b[0m, in \u001b[0;36m<cell line: 7>\u001b[0;34m()\u001b[0m\n\u001b[1;32m      4\u001b[0m func(\u001b[38;5;241m1\u001b[39m,\u001b[38;5;241m2\u001b[39m,c\u001b[38;5;241m=\u001b[39m\u001b[38;5;241m3\u001b[39m)\n\u001b[1;32m      5\u001b[0m func(\u001b[38;5;241m*\u001b[39m(\u001b[38;5;241m2\u001b[39m,\u001b[38;5;241m4\u001b[39m), \u001b[38;5;241m8\u001b[39m)\n\u001b[0;32m----> 7\u001b[0m \u001b[43mfunc\u001b[49m\u001b[43m(\u001b[49m\u001b[43ma\u001b[49m\u001b[38;5;241;43m=\u001b[39;49m\u001b[38;5;241;43m1\u001b[39;49m\u001b[43m,\u001b[49m\u001b[43mb\u001b[49m\u001b[38;5;241;43m=\u001b[39;49m\u001b[38;5;241;43m2\u001b[39;49m\u001b[43m,\u001b[49m\u001b[43mc\u001b[49m\u001b[38;5;241;43m=\u001b[39;49m\u001b[38;5;241;43m3\u001b[39;49m\u001b[43m)\u001b[49m\n",
      "\u001b[0;31mTypeError\u001b[0m: func() got some positional-only arguments passed as keyword arguments: 'a, b'"
     ]
    }
   ],
   "source": [
    "def func(a,b,/,c):\n",
    "    print(a,b,c)\n",
    "\n",
    "func(1,2,c=3)\n",
    "func(*(2,4), 8)\n",
    "func(a=1,b=2,c=3)"
   ]
  },
  {
   "cell_type": "code",
   "execution_count": 348,
   "id": "0684fe88-1198-4d6e-a090-149e0079fb1c",
   "metadata": {},
   "outputs": [
    {
     "name": "stdout",
     "output_type": "stream",
     "text": [
      "1 3\n",
      "8 2\n"
     ]
    }
   ],
   "source": [
    "def func (a,b=2,/):\n",
    "    print(a,b)\n",
    "    \n",
    "func(1,3)\n",
    "func(8)\n"
   ]
  },
  {
   "cell_type": "code",
   "execution_count": 361,
   "id": "f9d012cd-0305-498b-abeb-284a254ff2fd",
   "metadata": {},
   "outputs": [],
   "source": [
    "def func (a,b,/,c,d,e,f,*args,**kwargs):\n",
    "    print (f'a,b : {a,b}')\n",
    "    print(f'c,d,e : {c,d,e}')\n",
    "    print(f'f : {f}')\n",
    "    print(args)\n",
    "    print(kwargs)"
   ]
  },
  {
   "cell_type": "code",
   "execution_count": 366,
   "id": "603098b4-fdf2-4c88-8592-b13ccc4b3232",
   "metadata": {},
   "outputs": [
    {
     "name": "stdout",
     "output_type": "stream",
     "text": [
      "a,b : (0, 1)\n",
      "c,d,e : (4, 5, 6)\n",
      "f : 7\n",
      "(8, 9, 10, 11, 12, 13, 14, 15, 16, 17, 18)\n",
      "{'detail': 'test', 'more': 'more-detail'}\n"
     ]
    }
   ],
   "source": [
    "func(0,1,*(4,5,6,7,8),*(9,10,11,12,13,14,15,16,17,18), detail=\"test\", more=\"more-detail\")"
   ]
  },
  {
   "cell_type": "code",
   "execution_count": 425,
   "id": "6cd5d0d2-e7d8-4274-a4e0-8156a1837815",
   "metadata": {},
   "outputs": [],
   "source": [
    "def func(a=[],b={}):\n",
    "    print(f'{\"-\"*6}start{\"-\"*6}')\n",
    "    b[len(a)] = a\n",
    "    a.append(len(a))\n",
    "    print(a)\n",
    "    print(b)\n",
    "    print()"
   ]
  },
  {
   "cell_type": "code",
   "execution_count": 426,
   "id": "bf19e67d-fca4-40f4-b6bd-5d9415ccaf71",
   "metadata": {},
   "outputs": [
    {
     "name": "stdout",
     "output_type": "stream",
     "text": [
      "------start------\n",
      "[0]\n",
      "{0: [0]}\n",
      "\n",
      "------start------\n",
      "[0, 1]\n",
      "{0: [0, 1], 1: [0, 1]}\n",
      "\n",
      "------start------\n",
      "[0, 1, 2]\n",
      "{0: [0, 1, 2], 1: [0, 1, 2], 2: [0, 1, 2]}\n",
      "\n"
     ]
    }
   ],
   "source": [
    "func()\n",
    "func()\n",
    "func()"
   ]
  },
  {
   "cell_type": "code",
   "execution_count": 427,
   "id": "cc0c7541-596e-4c27-9d84-75239721de74",
   "metadata": {},
   "outputs": [
    {
     "name": "stdout",
     "output_type": "stream",
     "text": [
      "------start------\n",
      "[0]\n",
      "{0: [0]}\n",
      "\n",
      "------start------\n",
      "[0]\n",
      "{0: [0]}\n",
      "\n",
      "------start------\n",
      "[0]\n",
      "{0: [0]}\n",
      "\n"
     ]
    }
   ],
   "source": [
    "def func(a=None,b=None):\n",
    "    if a is None:\n",
    "        a = []\n",
    "        \n",
    "    if b is None:\n",
    "        b = {}\n",
    "    print(f'{\"-\"*6}start{\"-\"*6}')\n",
    "    b[len(a)] = a\n",
    "    a.append(len(a))\n",
    "    print(a)\n",
    "    print(b)\n",
    "    print()\n",
    "    \n",
    "func()\n",
    "func()\n",
    "func()"
   ]
  },
  {
   "cell_type": "code",
   "execution_count": 432,
   "id": "08da12b6-0d46-4247-b3c7-bc56218d4873",
   "metadata": {},
   "outputs": [
    {
     "name": "stdout",
     "output_type": "stream",
     "text": [
      "3\n"
     ]
    }
   ],
   "source": [
    "def func (a,b):\n",
    "    return (a+b)\n",
    "hasil = func(1,2)\n",
    "print(hasil)"
   ]
  },
  {
   "cell_type": "code",
   "execution_count": 435,
   "id": "66a9ad39-b707-4b12-be0b-929740b816d4",
   "metadata": {},
   "outputs": [
    {
     "name": "stdout",
     "output_type": "stream",
     "text": [
      "1\n",
      "2\n"
     ]
    }
   ],
   "source": [
    "def func_mul (a,b):\n",
    "    return (a,b)\n",
    "hasil_1, hasil_2 = func_mul(1,2)\n",
    "print(hasil_1)\n",
    "print(hasil_2)"
   ]
  },
  {
   "cell_type": "code",
   "execution_count": 22,
   "id": "462861a0-cc3c-4317-b3c9-9318d6775cb5",
   "metadata": {},
   "outputs": [
    {
     "name": "stdout",
     "output_type": "stream",
     "text": [
      "awal : 4\n",
      "Sini lagi masih perulangan 3\n",
      "awal : 3\n",
      "Sini lagi masih perulangan 2\n",
      "awal : 2\n",
      "Sini lagi masih perulangan 1\n",
      "awal : 1\n",
      "sini setelah satu : n = 1\n",
      "l: 1 m : 3 N 2 Hasil 1 Akhir 2\n",
      "l: 1 m : 2 N 3 Hasil 2 Akhir 6\n",
      "l: 1 m : 1 N 4 Hasil 6 Akhir 24\n",
      "24\n"
     ]
    }
   ],
   "source": [
    "def factorial(n, l,m):\n",
    "    print(f'awal : {n}')\n",
    "    if n in (0, 1): # base case\n",
    "        print(f'sini setelah satu : n = {n}')\n",
    "        return 1\n",
    "    m = m + 1\n",
    "    print(f\"Sini lagi masih perulangan {n-1}\")\n",
    "    hasil = factorial(n - 1,l,m)\n",
    "    \n",
    "    l+=1 # Kesini cuman 1 kali\n",
    "    print(f'l: {l} m : {m} N {n} Hasil {hasil} Akhir {hasil * n}')\n",
    "    \n",
    "    return hasil * n # recursive case\\\\\n",
    "\n",
    "print(factorial(4,0,0))"
   ]
  },
  {
   "cell_type": "code",
   "execution_count": 25,
   "id": "79ec71cd-f6d4-41fb-861a-d11ee7320256",
   "metadata": {},
   "outputs": [
    {
     "data": {
      "text/plain": [
       "24"
      ]
     },
     "execution_count": 25,
     "metadata": {},
     "output_type": "execute_result"
    }
   ],
   "source": [
    "def faktorial (n):\n",
    "    # base, kondisi stop recursive function\n",
    "    if n in (0,1):\n",
    "        return 1\n",
    "    \n",
    "    return faktorial (n-1) * n\n",
    "\n",
    "faktorial (4)"
   ]
  },
  {
   "cell_type": "code",
   "execution_count": null,
   "id": "f598f643",
   "metadata": {},
   "outputs": [],
   "source": []
  }
 ],
 "metadata": {
  "kernelspec": {
   "display_name": "Python 3 (ipykernel)",
   "language": "python",
   "name": "python3"
  },
  "language_info": {
   "codemirror_mode": {
    "name": "ipython",
    "version": 3
   },
   "file_extension": ".py",
   "mimetype": "text/x-python",
   "name": "python",
   "nbconvert_exporter": "python",
   "pygments_lexer": "ipython3",
   "version": "3.9.12"
  },
  "toc": {
   "base_numbering": 1,
   "nav_menu": {},
   "number_sections": true,
   "sideBar": true,
   "skip_h1_title": false,
   "title_cell": "Table of Contents",
   "title_sidebar": "Contents",
   "toc_cell": false,
   "toc_position": {},
   "toc_section_display": true,
   "toc_window_display": true
  }
 },
 "nbformat": 4,
 "nbformat_minor": 5
}
