{
 "cells": [
  {
   "cell_type": "code",
   "execution_count": 3,
   "id": "4d69bbc4-b108-4df5-9032-5c64d0086212",
   "metadata": {},
   "outputs": [
    {
     "name": "stdout",
     "output_type": "stream",
     "text": [
      "3.333333333333333333333333333\n",
      "3.33\n"
     ]
    }
   ],
   "source": [
    "from decimal import getcontext, setcontext, Decimal, Context\n",
    "\n",
    "default_context = getcontext()\n",
    "costume_context = Context(prec=3)\n",
    "\n",
    "bil_1 = Decimal(10)\n",
    "bil_2 = Decimal(3)\n",
    "\n",
    "# Value of Default state\n",
    "print(bil_1/bil_2)\n",
    "\n",
    "# Set Costume state\n",
    "setcontext(costume_context)\n",
    "\n",
    "# value of costume state\n",
    "print(bil_1/bil_2)\n",
    "setcontext(default_context)"
   ]
  },
  {
   "cell_type": "code",
   "execution_count": 2,
   "id": "29bd7910-38e2-4e0e-b33b-602a925252a4",
   "metadata": {},
   "outputs": [
    {
     "name": "stdout",
     "output_type": "stream",
     "text": [
      "Help on built-in function setcontext in module decimal:\n",
      "\n",
      "setcontext(context, /)\n",
      "    Set a new default context.\n",
      "\n"
     ]
    }
   ],
   "source": [
    "help(setcontext)"
   ]
  },
  {
   "cell_type": "code",
   "execution_count": 4,
   "id": "ecb8b988-18fb-471e-b34a-01644fc62385",
   "metadata": {},
   "outputs": [
    {
     "name": "stdout",
     "output_type": "stream",
     "text": [
      "3.333333333333333333333333333\n",
      "3.33\n"
     ]
    }
   ],
   "source": [
    "from decimal import getcontext, setcontext, Decimal, Context\n",
    "\n",
    "default_context = getcontext()\n",
    "costume_context = Context(prec=3)\n",
    "\n",
    "bil_1 = Decimal(10)\n",
    "bil_2 = Decimal(3)\n",
    "\n",
    "try:\n",
    "    print(bil_1/bil_2) # Value of Default state\n",
    "    setcontext(costume_context) # Set Costume state\n",
    "    print(bil_1/bil_2) # value of costume state\n",
    "finally:\n",
    "    setcontext(default_context)"
   ]
  },
  {
   "cell_type": "code",
   "execution_count": 19,
   "id": "0b809064-0175-47ac-b0a2-19aa7f07ba65",
   "metadata": {},
   "outputs": [
    {
     "name": "stdout",
     "output_type": "stream",
     "text": [
      "3.33\n",
      "3.333333333333333333333333333\n"
     ]
    }
   ],
   "source": [
    "from decimal import localcontext,Context,Decimal\n",
    "\n",
    "with localcontext(ctx=Context(prec=3)):\n",
    "    print(bil_1/bil_2)\n",
    "print(bil_1/bil_2)"
   ]
  },
  {
   "cell_type": "code",
   "execution_count": 2,
   "id": "2e94c01c-8ac2-4059-93b4-421a5cf3c0da",
   "metadata": {},
   "outputs": [
    {
     "name": "stdout",
     "output_type": "stream",
     "text": [
      "INITIALIZE : MyContextManager 139990030182288\n",
      "Display before enter with body\n",
      "Inside with\n",
      "Exit context\n",
      "exc_type=<class 'Exception'> exc_value=Exception('Exception inside with') exc_tb=<traceback object at 0x7f51f8355180>\n",
      "Exiting with context\n"
     ]
    },
    {
     "ename": "Exception",
     "evalue": "Exception inside with",
     "output_type": "error",
     "traceback": [
      "\u001b[0;31m---------------------------------------------------------------------------\u001b[0m",
      "\u001b[0;31mException\u001b[0m                                 Traceback (most recent call last)",
      "Input \u001b[0;32mIn [2]\u001b[0m, in \u001b[0;36m<cell line: 19>\u001b[0;34m()\u001b[0m\n\u001b[1;32m     19\u001b[0m \u001b[38;5;28;01mwith\u001b[39;00m cm \u001b[38;5;28;01mas\u001b[39;00m cm:\n\u001b[1;32m     20\u001b[0m     \u001b[38;5;28mprint\u001b[39m(\u001b[38;5;124m'\u001b[39m\u001b[38;5;124mInside with\u001b[39m\u001b[38;5;124m'\u001b[39m)\n\u001b[0;32m---> 21\u001b[0m     \u001b[38;5;28;01mraise\u001b[39;00m(\u001b[38;5;167;01mException\u001b[39;00m(\u001b[38;5;124m'\u001b[39m\u001b[38;5;124mException inside with\u001b[39m\u001b[38;5;124m'\u001b[39m))\n\u001b[1;32m     22\u001b[0m     \u001b[38;5;28mprint\u001b[39m(\u001b[38;5;124m'\u001b[39m\u001b[38;5;124mThis line will never reached\u001b[39m\u001b[38;5;124m'\u001b[39m)\n\u001b[1;32m     24\u001b[0m \u001b[38;5;28mprint\u001b[39m(\u001b[38;5;124m'\u001b[39m\u001b[38;5;124mOutside with\u001b[39m\u001b[38;5;124m'\u001b[39m)\n",
      "\u001b[0;31mException\u001b[0m: Exception inside with"
     ]
    }
   ],
   "source": [
    "class MyContextManager:\n",
    "    def __init__(self):\n",
    "        print(f'INITIALIZE : {self.__class__.__name__} {id(self)}')\n",
    "\n",
    "    def __enter__(self):\n",
    "        print('Display before enter with body')\n",
    "        return self\n",
    "\n",
    "    def __exit__(self,exc_type,exc_value,exc_tb):\n",
    "        if exc_type != None:\n",
    "            print(f'Exit context')\n",
    "            print(f'{exc_type=} {exc_value=} {exc_tb=}')\n",
    "            print('Exiting with context')\n",
    "            return False\n",
    "        return True\n",
    "\n",
    "cm = MyContextManager()\n",
    "\n",
    "with cm as cm:\n",
    "    print('Inside with')\n",
    "    raise(Exception('Exception inside with'))\n",
    "    print('This line will never reached')\n",
    "\n",
    "print('Outside with')\n"
   ]
  },
  {
   "cell_type": "code",
   "execution_count": 8,
   "id": "3837289e-6a66-40a4-9ee9-3c15cf9b85d3",
   "metadata": {},
   "outputs": [
    {
     "name": "stdout",
     "output_type": "stream",
     "text": [
      "INITIALIZE : MyContextManager 139990030250672\n",
      "Display before enter with body\n",
      "Inside with\n",
      "hasil return method __enter__ : <__main__.MyContextManager object at 0x7f51f80672b0>\n",
      "Exit context\n",
      "exc_type=<class 'Exception'> exc_value=Exception('Exception inside with') exc_tb=<traceback object at 0x7f51f82f4740>\n",
      "Exiting with context\n"
     ]
    },
    {
     "ename": "Exception",
     "evalue": "Exception inside with",
     "output_type": "error",
     "traceback": [
      "\u001b[0;31m---------------------------------------------------------------------------\u001b[0m",
      "\u001b[0;31mException\u001b[0m                                 Traceback (most recent call last)",
      "Input \u001b[0;32mIn [8]\u001b[0m, in \u001b[0;36m<cell line: 19>\u001b[0;34m()\u001b[0m\n\u001b[1;32m     20\u001b[0m     \u001b[38;5;28mprint\u001b[39m(\u001b[38;5;124m'\u001b[39m\u001b[38;5;124mInside with\u001b[39m\u001b[38;5;124m'\u001b[39m)\n\u001b[1;32m     21\u001b[0m     \u001b[38;5;28mprint\u001b[39m(\u001b[38;5;124mf\u001b[39m\u001b[38;5;124m'\u001b[39m\u001b[38;5;124mhasil return method __enter__ : \u001b[39m\u001b[38;5;132;01m{\u001b[39;00mcm\u001b[38;5;132;01m}\u001b[39;00m\u001b[38;5;124m'\u001b[39m)\n\u001b[0;32m---> 22\u001b[0m     \u001b[38;5;28;01mraise\u001b[39;00m(\u001b[38;5;167;01mException\u001b[39;00m(\u001b[38;5;124m'\u001b[39m\u001b[38;5;124mException inside with\u001b[39m\u001b[38;5;124m'\u001b[39m))\n\u001b[1;32m     23\u001b[0m     \u001b[38;5;28mprint\u001b[39m(\u001b[38;5;124m'\u001b[39m\u001b[38;5;124mThis line will never reached\u001b[39m\u001b[38;5;124m'\u001b[39m)\n\u001b[1;32m     25\u001b[0m \u001b[38;5;28mprint\u001b[39m(\u001b[38;5;124m'\u001b[39m\u001b[38;5;124mOutside with\u001b[39m\u001b[38;5;124m'\u001b[39m)\n",
      "\u001b[0;31mException\u001b[0m: Exception inside with"
     ]
    }
   ],
   "source": [
    "class MyContextManager:\n",
    "    def __init__(self):\n",
    "        print(f'INITIALIZE : {self.__class__.__name__} {id(self)}')\n",
    "\n",
    "    def __enter__(self):\n",
    "        print('Display before enter with body')\n",
    "        return self\n",
    "\n",
    "    def __exit__(self,exc_type,exc_value,exc_tb):\n",
    "        if exc_type != None:\n",
    "            print(f'Exit context')\n",
    "            print(f'{exc_type=} {exc_value=} {exc_tb=}')\n",
    "            print('Exiting with context')\n",
    "            return False\n",
    "        return True\n",
    "\n",
    "cm = MyContextManager()\n",
    "\n",
    "with cm as cm:\n",
    "    print('Inside with')\n",
    "    print(f'hasil return method __enter__ : {cm}')\n",
    "    raise(Exception('Exception inside with'))\n",
    "    print('This line will never reached')\n",
    "\n",
    "print('Outside with')"
   ]
  },
  {
   "cell_type": "code",
   "execution_count": 40,
   "id": "1ae17960-dc45-41bc-82ad-608b08883a25",
   "metadata": {},
   "outputs": [
    {
     "name": "stdout",
     "output_type": "stream",
     "text": [
      "Dari Abu Hurairah radhiallahu ‘anhu, Rasulullah Shallallahu Alaihi Wassalam bersabda\n",
      "\n",
      "الْمُؤْمِنُ الْقَوِىُّ خَيْرٌ وَأَحَبُّ إِلَى اللَّهِ مِنَ الْمُؤْمِنِ الضَّعِيفِ وَفِى كُلٍّ خَيْرٌ احْرِصْ عَلَى مَا يَنْفَعُكَ وَاسْتَعِنْ بِاللَّهِ وَلاَ تَعْجِزْ وَإِنْ أَصَابَكَ شَيْءٌ فَلاَ تَقُلْ لَوْ أَنِّى فَعَلْتُ كَانَ كَذَا وَكَذَا. وَلَكِنْ قُلْ قَدَرُ اللَّهِ وَمَا شَاءَ فَعَلَ فَإِنَّ لَوْ تَفْتَحُ عَمَلَ الشَّيْطَانِ\n",
      "\n",
      "“Mukmin yang kuat lebih baik dan lebih dicintai oleh Allah daripada mukmin yang lemah. Namun, keduanya tetap memiliki kebaikan. Bersemangatlah atas hal-hal yang bermanfaat bagimu. Minta tolonglah pada Allah, jangan engkau lemah. Jika engkau tertimpa suatu musibah, maka janganlah engkau katakan: ‘Seandainya aku lakukan demikian dan demikian.’ Akan tetapi hendaklah kau katakan: ‘Ini sudah jadi takdir Allah. Setiap apa yang telah Dia kehendaki pasti terjadi.’ Karena perkataan law (seandainya) dapat membuka pintu setan.\""
     ]
    }
   ],
   "source": [
    "fh = open('important.txt',mode='rt')\n",
    "\n",
    "for a in fh.readlines():\n",
    "    print (a,end='')\n",
    "\n",
    "fh.close()"
   ]
  },
  {
   "cell_type": "code",
   "execution_count": 41,
   "id": "d905b6b8-514b-4929-a36a-b274482f75d5",
   "metadata": {},
   "outputs": [
    {
     "name": "stdout",
     "output_type": "stream",
     "text": [
      "Dari Abu Hurairah radhiallahu ‘anhu, Rasulullah Shallallahu Alaihi Wassalam bersabda\n",
      "\n",
      "الْمُؤْمِنُ الْقَوِىُّ خَيْرٌ وَأَحَبُّ إِلَى اللَّهِ مِنَ الْمُؤْمِنِ الضَّعِيفِ وَفِى كُلٍّ خَيْرٌ احْرِصْ عَلَى مَا يَنْفَعُكَ وَاسْتَعِنْ بِاللَّهِ وَلاَ تَعْجِزْ وَإِنْ أَصَابَكَ شَيْءٌ فَلاَ تَقُلْ لَوْ أَنِّى فَعَلْتُ كَانَ كَذَا وَكَذَا. وَلَكِنْ قُلْ قَدَرُ اللَّهِ وَمَا شَاءَ فَعَلَ فَإِنَّ لَوْ تَفْتَحُ عَمَلَ الشَّيْطَانِ\n",
      "\n",
      "“Mukmin yang kuat lebih baik dan lebih dicintai oleh Allah daripada mukmin yang lemah. Namun, keduanya tetap memiliki kebaikan. Bersemangatlah atas hal-hal yang bermanfaat bagimu. Minta tolonglah pada Allah, jangan engkau lemah. Jika engkau tertimpa suatu musibah, maka janganlah engkau katakan: ‘Seandainya aku lakukan demikian dan demikian.’ Akan tetapi hendaklah kau katakan: ‘Ini sudah jadi takdir Allah. Setiap apa yang telah Dia kehendaki pasti terjadi.’ Karena perkataan law (seandainya) dapat membuka pintu setan.\"\n"
     ]
    }
   ],
   "source": [
    "fh = open('important.txt')\n",
    "\n",
    "try:\n",
    "    for a in fh:\n",
    "        print (a.strip())\n",
    "except:\n",
    "    fh.close()"
   ]
  },
  {
   "cell_type": "code",
   "execution_count": 31,
   "id": "e468d844-256c-4b05-82ba-d352bba2d598",
   "metadata": {},
   "outputs": [
    {
     "name": "stdout",
     "output_type": "stream",
     "text": [
      "Dari Abu Hurairah radhiallahu ‘anhu, Rasulullah Shallallahu Alaihi Wassalam bersabda\n",
      "\n",
      "الْمُؤْمِنُ الْقَوِىُّ خَيْرٌ وَأَحَبُّ إِلَى اللَّهِ مِنَ الْمُؤْمِنِ الضَّعِيفِ وَفِى كُلٍّ خَيْرٌ احْرِصْ عَلَى مَا يَنْفَعُكَ وَاسْتَعِنْ بِاللَّهِ وَلاَ تَعْجِزْ وَإِنْ أَصَابَكَ شَيْءٌ فَلاَ تَقُلْ لَوْ أَنِّى فَعَلْتُ كَانَ كَذَا وَكَذَا. وَلَكِنْ قُلْ قَدَرُ اللَّهِ وَمَا شَاءَ فَعَلَ فَإِنَّ لَوْ تَفْتَحُ عَمَلَ الشَّيْطَانِ\n",
      "\n",
      "“Mukmin yang kuat lebih baik dan lebih dicintai oleh Allah daripada mukmin yang lemah. Namun, keduanya tetap memiliki kebaikan. Bersemangatlah atas hal-hal yang bermanfaat bagimu. Minta tolonglah pada Allah, jangan engkau lemah. Jika engkau tertimpa suatu musibah, maka janganlah engkau katakan: ‘Seandainya aku lakukan demikian dan demikian.’ Akan tetapi hendaklah kau katakan: ‘Ini sudah jadi takdir Allah. Setiap apa yang telah Dia kehendaki pasti terjadi.’ Karena perkataan law (seandainya) dapat membuka pintu setan.\"\n"
     ]
    }
   ],
   "source": [
    "with open('important.txt',mode='rt') as fh:\n",
    "    for a in fh.readlines():\n",
    "        print(a.strip())"
   ]
  },
  {
   "cell_type": "code",
   "execution_count": 33,
   "id": "be2f7054-e990-4af0-bbf3-5c3552e50f9b",
   "metadata": {},
   "outputs": [
    {
     "name": "stdout",
     "output_type": "stream",
     "text": [
      "Python 3.9.12\n"
     ]
    }
   ],
   "source": [
    "!python --version"
   ]
  },
  {
   "cell_type": "code",
   "execution_count": 63,
   "id": "74dd1ece-1f2d-4dfb-a604-a64fb9d6518a",
   "metadata": {},
   "outputs": [],
   "source": [
    "from time import sleep\n",
    "with open('write_file.txt', mode='w') as wf:\n",
    "    sleep(5) # buka wilfe write_file.txt sebelum 5 detik berlalu\n",
    "    print (\"bismillah\", file=wf)\n",
    "    print (\"alhamdulilah\", file=wf)"
   ]
  },
  {
   "cell_type": "code",
   "execution_count": 74,
   "id": "152e3c5f-120d-4e4b-b3e6-ed5a90cf2e69",
   "metadata": {},
   "outputs": [],
   "source": [
    "with open('write_file.txt') as wf:\n",
    "    lines = [a for a in wf]\n",
    "    \n",
    "with open('write_file(2).txt', mode='w') as wf:\n",
    "    wf.write('\\n\\r'.join(lines))\n",
    "    "
   ]
  },
  {
   "cell_type": "code",
   "execution_count": 75,
   "id": "d301e421-f22b-42a3-95a5-60bcb6dc76e7",
   "metadata": {},
   "outputs": [],
   "source": [
    "with open('write_file.txt') as wf:\n",
    "    lines = [a for a in wf]\n",
    "    \n",
    "with open('write_file(2).txt', mode='w') as wf:\n",
    "    wf.write(''.join(lines))"
   ]
  },
  {
   "cell_type": "code",
   "execution_count": 78,
   "id": "9dc4ca27-4412-4e4e-8d7a-f6e5544bf364",
   "metadata": {},
   "outputs": [],
   "source": [
    "with open('file_binnary.bin', mode='wb') as wf:\n",
    "    wf.write(b'bismillah in binary')"
   ]
  },
  {
   "cell_type": "code",
   "execution_count": 85,
   "id": "3f8aa836-d4e9-4ccc-ad18-6fdf93fd9c0f",
   "metadata": {},
   "outputs": [
    {
     "ename": "FileExistsError",
     "evalue": "[Errno 17] File exists: 'adakah.txt'",
     "output_type": "error",
     "traceback": [
      "\u001b[0;31m---------------------------------------------------------------------------\u001b[0m",
      "\u001b[0;31mFileExistsError\u001b[0m                           Traceback (most recent call last)",
      "Input \u001b[0;32mIn [85]\u001b[0m, in \u001b[0;36m<cell line: 6>\u001b[0;34m()\u001b[0m\n\u001b[1;32m      3\u001b[0m     wf\u001b[38;5;241m.\u001b[39mwrite(\u001b[38;5;124m'\u001b[39m\u001b[38;5;124mbismillah\u001b[39m\u001b[38;5;124m'\u001b[39m)\n\u001b[1;32m      5\u001b[0m \u001b[38;5;66;03m# Percobaan 2\u001b[39;00m\n\u001b[0;32m----> 6\u001b[0m \u001b[38;5;28;01mwith\u001b[39;00m \u001b[38;5;28;43mopen\u001b[39;49m\u001b[43m \u001b[49m\u001b[43m(\u001b[49m\u001b[38;5;124;43m'\u001b[39;49m\u001b[38;5;124;43madakah.txt\u001b[39;49m\u001b[38;5;124;43m'\u001b[39;49m\u001b[43m,\u001b[49m\u001b[43m \u001b[49m\u001b[43mmode\u001b[49m\u001b[38;5;241;43m=\u001b[39;49m\u001b[38;5;124;43m'\u001b[39;49m\u001b[38;5;124;43mxt\u001b[39;49m\u001b[38;5;124;43m'\u001b[39;49m\u001b[43m)\u001b[49m \u001b[38;5;28;01mas\u001b[39;00m wf:\n\u001b[1;32m      7\u001b[0m     wf\u001b[38;5;241m.\u001b[39mwrite(\u001b[38;5;124m'\u001b[39m\u001b[38;5;124malhamdulillah\u001b[39m\u001b[38;5;124m'\u001b[39m)\n",
      "\u001b[0;31mFileExistsError\u001b[0m: [Errno 17] File exists: 'adakah.txt'"
     ]
    }
   ],
   "source": [
    "# Percobaan 1\n",
    "with open ('adakah.txt', mode='xt') as wf:\n",
    "    wf.write('bismillah')\n",
    "    \n",
    "# Percobaan 2\n",
    "with open ('adakah.txt', mode='xt') as wf:\n",
    "    wf.write('alhamdulillah')"
   ]
  },
  {
   "cell_type": "code",
   "execution_count": 100,
   "id": "9249146e-dcdf-4855-ba64-c7c856848238",
   "metadata": {},
   "outputs": [
    {
     "name": "stdout",
     "output_type": "stream",
     "text": [
      "True\n",
      "/home/maruffarras/Documents/Notes/kertas-pena\n",
      "True\n"
     ]
    }
   ],
   "source": [
    "from pathlib import Path\n",
    "path = Path('adakah.txt')\n",
    "\n",
    "print(path.is_file())\n",
    "absolute_path = path.parent.absolute()\n",
    "print(absolute_path)\n",
    "print(absolute_path.is_dir())"
   ]
  },
  {
   "cell_type": "code",
   "execution_count": null,
   "id": "6a5f6d6a-9a0c-4545-b21a-a49de9d520db",
   "metadata": {},
   "outputs": [],
   "source": []
  }
 ],
 "metadata": {
  "kernelspec": {
   "display_name": "Python 3 (ipykernel)",
   "language": "python",
   "name": "python3"
  },
  "language_info": {
   "codemirror_mode": {
    "name": "ipython",
    "version": 3
   },
   "file_extension": ".py",
   "mimetype": "text/x-python",
   "name": "python",
   "nbconvert_exporter": "python",
   "pygments_lexer": "ipython3",
   "version": "3.9.12"
  },
  "toc": {
   "base_numbering": 1,
   "nav_menu": {},
   "number_sections": true,
   "sideBar": true,
   "skip_h1_title": false,
   "title_cell": "Table of Contents",
   "title_sidebar": "Contents",
   "toc_cell": false,
   "toc_position": {},
   "toc_section_display": true,
   "toc_window_display": true
  }
 },
 "nbformat": 4,
 "nbformat_minor": 5
}
