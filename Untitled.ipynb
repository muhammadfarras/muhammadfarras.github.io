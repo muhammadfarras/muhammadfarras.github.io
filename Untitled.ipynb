{
 "cells": [
  {
   "cell_type": "code",
   "execution_count": 1,
   "id": "b64d48e7",
   "metadata": {},
   "outputs": [],
   "source": [
    "from datetime import date"
   ]
  },
  {
   "cell_type": "code",
   "execution_count": 2,
   "id": "f9918e21",
   "metadata": {},
   "outputs": [],
   "source": [
    "today = date.today()"
   ]
  },
  {
   "cell_type": "code",
   "execution_count": 3,
   "id": "87b41075",
   "metadata": {},
   "outputs": [
    {
     "name": "stdout",
     "output_type": "stream",
     "text": [
      "Return time tuple, compatible with time.localtime().\n"
     ]
    }
   ],
   "source": [
    "print(today.timetuple.__doc__)"
   ]
  },
  {
   "cell_type": "code",
   "execution_count": 12,
   "id": "c24164f2",
   "metadata": {},
   "outputs": [
    {
     "data": {
      "text/plain": [
       "time.struct_time(tm_year=2023, tm_mon=2, tm_mday=11, tm_hour=0, tm_min=0, tm_sec=0, tm_wday=5, tm_yday=42, tm_isdst=-1)"
      ]
     },
     "execution_count": 12,
     "metadata": {},
     "output_type": "execute_result"
    }
   ],
   "source": [
    "today.timetuple()"
   ]
  },
  {
   "cell_type": "code",
   "execution_count": 13,
   "id": "12e0947a",
   "metadata": {},
   "outputs": [
    {
     "data": {
      "text/plain": [
       "2023"
      ]
     },
     "execution_count": 13,
     "metadata": {},
     "output_type": "execute_result"
    }
   ],
   "source": [
    "today.timetuple().tm_year"
   ]
  },
  {
   "cell_type": "code",
   "execution_count": 14,
   "id": "fff81fff",
   "metadata": {},
   "outputs": [
    {
     "data": {
      "text/plain": [
       "'Return the day of the week represented by the date.\\nMonday == 0 ... Sunday == 6'"
      ]
     },
     "execution_count": 14,
     "metadata": {},
     "output_type": "execute_result"
    }
   ],
   "source": [
    "today.weekday.__doc__"
   ]
  },
  {
   "cell_type": "code",
   "execution_count": 15,
   "id": "55369b01",
   "metadata": {},
   "outputs": [
    {
     "data": {
      "text/plain": [
       "5"
      ]
     },
     "execution_count": 15,
     "metadata": {},
     "output_type": "execute_result"
    }
   ],
   "source": [
    "today.weekday()"
   ]
  },
  {
   "cell_type": "code",
   "execution_count": 19,
   "id": "06eced33",
   "metadata": {},
   "outputs": [],
   "source": [
    "import calendar"
   ]
  },
  {
   "cell_type": "code",
   "execution_count": 23,
   "id": "cb327f4f",
   "metadata": {},
   "outputs": [
    {
     "data": {
      "text/plain": [
       "calendar._localized_day"
      ]
     },
     "execution_count": 23,
     "metadata": {},
     "output_type": "execute_result"
    }
   ],
   "source": [
    "calendar.day_"
   ]
  },
  {
   "cell_type": "code",
   "execution_count": 27,
   "id": "81844835",
   "metadata": {},
   "outputs": [
    {
     "data": {
      "text/plain": [
       "'Saturday'"
      ]
     },
     "execution_count": 27,
     "metadata": {},
     "output_type": "execute_result"
    }
   ],
   "source": [
    "import calendar\n",
    "\n",
    "calendar.day_name[today.weekday()]\n"
   ]
  },
  {
   "cell_type": "code",
   "execution_count": 28,
   "id": "267d704e",
   "metadata": {},
   "outputs": [],
   "source": [
    "import time"
   ]
  },
  {
   "cell_type": "code",
   "execution_count": 30,
   "id": "7e43c767",
   "metadata": {},
   "outputs": [
    {
     "name": "stdout",
     "output_type": "stream",
     "text": [
      "This module provides various functions to manipulate time values.\n",
      "\n",
      "There are two standard representations of time.  One is the number\n",
      "of seconds since the Epoch, in UTC (a.k.a. GMT).  It may be an integer\n",
      "or a floating point number (to represent fractions of seconds).\n",
      "The Epoch is system-defined; on Unix, it is generally January 1st, 1970.\n",
      "The actual value can be retrieved by calling gmtime(0).\n",
      "\n",
      "The other representation is a tuple of 9 integers giving local time.\n",
      "The tuple items are:\n",
      "  year (including century, e.g. 1998)\n",
      "  month (1-12)\n",
      "  day (1-31)\n",
      "  hours (0-23)\n",
      "  minutes (0-59)\n",
      "  seconds (0-59)\n",
      "  weekday (0-6, Monday is 0)\n",
      "  Julian day (day in the year, 1-366)\n",
      "  DST (Daylight Savings Time) flag (-1, 0 or 1)\n",
      "If the DST flag is 0, the time is given in the regular time zone;\n",
      "if it is 1, the time is given in the DST time zone;\n",
      "if it is -1, mktime() should guess based on the date and time.\n",
      "\n"
     ]
    }
   ],
   "source": [
    "print(time.__doc__)"
   ]
  },
  {
   "cell_type": "code",
   "execution_count": 32,
   "id": "61c5302c",
   "metadata": {},
   "outputs": [
    {
     "name": "stdout",
     "output_type": "stream",
     "text": [
      "ctime(seconds) -> string\n",
      "\n",
      "Convert a time in seconds since the Epoch to a string in local time.\n",
      "This is equivalent to asctime(localtime(seconds)). When the time tuple is\n",
      "not present, current time as returned by localtime() is used.\n"
     ]
    }
   ],
   "source": [
    "print(time.ctime.__doc__)"
   ]
  },
  {
   "cell_type": "code",
   "execution_count": 35,
   "id": "cbcdc5d9",
   "metadata": {},
   "outputs": [
    {
     "data": {
      "text/plain": [
       "'Sat Feb 11 22:24:04 2023'"
      ]
     },
     "execution_count": 35,
     "metadata": {},
     "output_type": "execute_result"
    }
   ],
   "source": [
    "time.ctime()"
   ]
  },
  {
   "cell_type": "code",
   "execution_count": 46,
   "id": "0d333307",
   "metadata": {},
   "outputs": [
    {
     "data": {
      "text/plain": [
       "0"
      ]
     },
     "execution_count": 46,
     "metadata": {},
     "output_type": "execute_result"
    }
   ],
   "source": [
    "time.daylight"
   ]
  },
  {
   "cell_type": "code",
   "execution_count": 47,
   "id": "d041861a",
   "metadata": {},
   "outputs": [
    {
     "name": "stdout",
     "output_type": "stream",
     "text": [
      "Help on built-in function gmtime in module time:\n",
      "\n",
      "gmtime(...)\n",
      "    gmtime([seconds]) -> (tm_year, tm_mon, tm_mday, tm_hour, tm_min,\n",
      "                           tm_sec, tm_wday, tm_yday, tm_isdst)\n",
      "    \n",
      "    Convert seconds since the Epoch to a time tuple expressing UTC (a.k.a.\n",
      "    GMT).  When 'seconds' is not passed in, convert the current time instead.\n",
      "    \n",
      "    If the platform supports the tm_gmtoff and tm_zone, they are available as\n",
      "    attributes only.\n",
      "\n"
     ]
    }
   ],
   "source": [
    "help(time.gmtime)"
   ]
  },
  {
   "cell_type": "code",
   "execution_count": 48,
   "id": "2b809282",
   "metadata": {},
   "outputs": [
    {
     "data": {
      "text/plain": [
       "time.struct_time(tm_year=2023, tm_mon=2, tm_mday=11, tm_hour=15, tm_min=36, tm_sec=16, tm_wday=5, tm_yday=42, tm_isdst=0)"
      ]
     },
     "execution_count": 48,
     "metadata": {},
     "output_type": "execute_result"
    }
   ],
   "source": [
    "time.gmtime()"
   ]
  },
  {
   "cell_type": "code",
   "execution_count": 60,
   "id": "3f6147f8",
   "metadata": {},
   "outputs": [
    {
     "data": {
      "text/plain": [
       "time.struct_time(tm_year=2033, tm_mon=5, tm_mday=18, tm_hour=3, tm_min=33, tm_sec=19, tm_wday=2, tm_yday=138, tm_isdst=0)"
      ]
     },
     "execution_count": 60,
     "metadata": {},
     "output_type": "execute_result"
    }
   ],
   "source": [
    "time.gmtime(1999999999)"
   ]
  },
  {
   "cell_type": "code",
   "execution_count": 67,
   "id": "162e1937",
   "metadata": {},
   "outputs": [
    {
     "name": "stdout",
     "output_type": "stream",
     "text": [
      "The time value as returned by gmtime(), localtime(), and strptime(), and\n",
      " accepted by asctime(), mktime() and strftime().  May be considered as a\n",
      " sequence of 9 integers.\n",
      "\n",
      " Note that several fields' values are not the same as those defined by\n",
      " the C language standard for struct tm.  For example, the value of the\n",
      " field tm_year is the actual year, not year - 1900.  See individual\n",
      " fields' descriptions for details.\n"
     ]
    }
   ],
   "source": [
    "print(time.struct_time.__doc__)"
   ]
  },
  {
   "cell_type": "code",
   "execution_count": 69,
   "id": "ca49d94e",
   "metadata": {},
   "outputs": [
    {
     "ename": "TypeError",
     "evalue": "time.time() takes no arguments (1 given)",
     "output_type": "error",
     "traceback": [
      "\u001b[0;31m---------------------------------------------------------------------------\u001b[0m",
      "\u001b[0;31mTypeError\u001b[0m                                 Traceback (most recent call last)",
      "Input \u001b[0;32mIn [69]\u001b[0m, in \u001b[0;36m<cell line: 1>\u001b[0;34m()\u001b[0m\n\u001b[0;32m----> 1\u001b[0m \u001b[43mtime\u001b[49m\u001b[38;5;241;43m.\u001b[39;49m\u001b[43mtime\u001b[49m\u001b[43m(\u001b[49m\u001b[38;5;241;43m0\u001b[39;49m\u001b[43m)\u001b[49m\n",
      "\u001b[0;31mTypeError\u001b[0m: time.time() takes no arguments (1 given)"
     ]
    }
   ],
   "source": [
    "time.time()"
   ]
  },
  {
   "cell_type": "code",
   "execution_count": 70,
   "id": "bd00806c",
   "metadata": {},
   "outputs": [
    {
     "name": "stdout",
     "output_type": "stream",
     "text": [
      "Help on built-in function localtime in module time:\n",
      "\n",
      "localtime(...)\n",
      "    localtime([seconds]) -> (tm_year,tm_mon,tm_mday,tm_hour,tm_min,\n",
      "                              tm_sec,tm_wday,tm_yday,tm_isdst)\n",
      "    \n",
      "    Convert seconds since the Epoch to a time tuple expressing local time.\n",
      "    When 'seconds' is not passed in, convert the current time instead.\n",
      "\n"
     ]
    }
   ],
   "source": [
    "help(time.localtime)"
   ]
  },
  {
   "cell_type": "code",
   "execution_count": 71,
   "id": "0dc36f37",
   "metadata": {},
   "outputs": [
    {
     "name": "stdout",
     "output_type": "stream",
     "text": [
      "Help on built-in function gmtime in module time:\n",
      "\n",
      "gmtime(...)\n",
      "    gmtime([seconds]) -> (tm_year, tm_mon, tm_mday, tm_hour, tm_min,\n",
      "                           tm_sec, tm_wday, tm_yday, tm_isdst)\n",
      "    \n",
      "    Convert seconds since the Epoch to a time tuple expressing UTC (a.k.a.\n",
      "    GMT).  When 'seconds' is not passed in, convert the current time instead.\n",
      "    \n",
      "    If the platform supports the tm_gmtoff and tm_zone, they are available as\n",
      "    attributes only.\n",
      "\n"
     ]
    }
   ],
   "source": [
    "help(time.gmtime)"
   ]
  },
  {
   "cell_type": "code",
   "execution_count": 73,
   "id": "4653d438",
   "metadata": {},
   "outputs": [
    {
     "data": {
      "text/plain": [
       "time.struct_time(tm_year=2023, tm_mon=2, tm_mday=11, tm_hour=22, tm_min=52, tm_sec=9, tm_wday=5, tm_yday=42, tm_isdst=0)"
      ]
     },
     "execution_count": 73,
     "metadata": {},
     "output_type": "execute_result"
    }
   ],
   "source": [
    "time.localtime()"
   ]
  },
  {
   "cell_type": "code",
   "execution_count": 74,
   "id": "aa192313",
   "metadata": {},
   "outputs": [
    {
     "data": {
      "text/plain": [
       "time.struct_time(tm_year=2023, tm_mon=2, tm_mday=11, tm_hour=15, tm_min=52, tm_sec=9, tm_wday=5, tm_yday=42, tm_isdst=0)"
      ]
     },
     "execution_count": 74,
     "metadata": {},
     "output_type": "execute_result"
    }
   ],
   "source": [
    "time.gmtime()"
   ]
  },
  {
   "cell_type": "code",
   "execution_count": 77,
   "id": "776e956a",
   "metadata": {},
   "outputs": [
    {
     "name": "stdout",
     "output_type": "stream",
     "text": [
      "datetime(year, month, day[, hour[, minute[, second[, microsecond[,tzinfo]]]]])\n",
      "\n",
      "The year, month and day arguments are required. tzinfo may be None, or an\n",
      "instance of a tzinfo subclass. The remaining arguments may be ints.\n",
      "\n"
     ]
    }
   ],
   "source": [
    "from datetime import datetime\n",
    "print(datetime.__doc__)"
   ]
  },
  {
   "cell_type": "code",
   "execution_count": 79,
   "id": "435e8d7f",
   "metadata": {},
   "outputs": [
    {
     "name": "stdout",
     "output_type": "stream",
     "text": [
      "datetime(year, month, day[, hour[, minute[, second[, microsecond[,tzinfo]]]]])\n",
      "\n",
      "The year, month and day arguments are required. tzinfo may be None, or an\n",
      "instance of a tzinfo subclass. The remaining arguments may be ints.\n",
      "\n"
     ]
    }
   ],
   "source": [
    "print(datetime.__doc__)"
   ]
  },
  {
   "cell_type": "code",
   "execution_count": 85,
   "id": "a12d02e6",
   "metadata": {},
   "outputs": [
    {
     "data": {
      "text/plain": [
       "datetime.datetime(2023, 2, 11, 23, 16, 34, 533686)"
      ]
     },
     "execution_count": 85,
     "metadata": {},
     "output_type": "execute_result"
    }
   ],
   "source": [
    "datetime.now()"
   ]
  },
  {
   "cell_type": "code",
   "execution_count": 86,
   "id": "042aa96b",
   "metadata": {},
   "outputs": [
    {
     "data": {
      "text/plain": [
       "datetime.datetime(2023, 2, 11, 16, 16, 34, 733540)"
      ]
     },
     "execution_count": 86,
     "metadata": {},
     "output_type": "execute_result"
    }
   ],
   "source": [
    "datetime.utcnow()"
   ]
  },
  {
   "cell_type": "code",
   "execution_count": 81,
   "id": "bc1dbeef",
   "metadata": {},
   "outputs": [
    {
     "data": {
      "text/plain": [
       "datetime.datetime(2023, 12, 10, 0, 0)"
      ]
     },
     "execution_count": 81,
     "metadata": {},
     "output_type": "execute_result"
    }
   ],
   "source": [
    "datetime(2023,12,10)"
   ]
  },
  {
   "cell_type": "code",
   "execution_count": 92,
   "id": "d16b10b7",
   "metadata": {},
   "outputs": [],
   "source": [
    "from zoneinfo import ZoneInfo\n",
    "dt_f = datetime(year=2021, month=10, day = 13, hour=0, minute=23, tzinfo=ZoneInfo(\"Asia/Jakarta\"))\n",
    "dt_n = datetime(year=2020, month=5, day = 11, hour=11, minute=30, tzinfo=ZoneInfo(\"Asia/Jakarta\"))"
   ]
  },
  {
   "cell_type": "code",
   "execution_count": 93,
   "id": "15e5d074",
   "metadata": {},
   "outputs": [],
   "source": [
    "diff = dt_f - dt_n"
   ]
  },
  {
   "cell_type": "code",
   "execution_count": 99,
   "id": "7bed00ed",
   "metadata": {},
   "outputs": [
    {
     "name": "stdout",
     "output_type": "stream",
     "text": [
      "['__abs__', '__add__', '__bool__', '__class__', '__delattr__', '__dir__', '__divmod__', '__doc__', '__eq__', '__floordiv__', '__format__', '__ge__', '__getattribute__', '__gt__', '__hash__', '__init__', '__init_subclass__', '__le__', '__lt__', '__mod__', '__mul__', '__ne__', '__neg__', '__new__', '__pos__', '__radd__', '__rdivmod__', '__reduce__', '__reduce_ex__', '__repr__', '__rfloordiv__', '__rmod__', '__rmul__', '__rsub__', '__rtruediv__', '__setattr__', '__sizeof__', '__str__', '__sub__', '__subclasshook__', '__truediv__', 'days', 'max', 'microseconds', 'min', 'resolution', 'seconds', 'total_seconds']\n"
     ]
    }
   ],
   "source": [
    "print(dir(diff))"
   ]
  },
  {
   "cell_type": "code",
   "execution_count": 122,
   "id": "934e2869",
   "metadata": {},
   "outputs": [
    {
     "data": {
      "text/plain": [
       "519"
      ]
     },
     "execution_count": 122,
     "metadata": {},
     "output_type": "execute_result"
    }
   ],
   "source": [
    "diff.days"
   ]
  },
  {
   "cell_type": "code",
   "execution_count": 123,
   "id": "585df562",
   "metadata": {},
   "outputs": [
    {
     "name": "stdout",
     "output_type": "stream",
     "text": [
      "Selisih hari lahir Faris dan Noah 519 hari\n",
      "Selisih detik lahir Faris dan Noah 44887980.0 hari\n"
     ]
    }
   ],
   "source": [
    "from zoneinfo import ZoneInfo\n",
    "dt_f = datetime(year=2021, month=10, day = 13, hour=0, minute=23, tzinfo=ZoneInfo(\"Asia/Jakarta\"))\n",
    "dt_n = datetime(year=2020, month=5, day = 11, hour=11, minute=30, tzinfo=ZoneInfo(\"Asia/Jakarta\"))\n",
    "\n",
    "diff = dt_f - dt_n\n",
    "\n",
    "print(f'Selisih hari lahir Faris dan Noah {diff.days} hari')\n",
    "print(f'Selisih detik lahir Faris dan Noah {diff.total_seconds()} hari')\n"
   ]
  },
  {
   "cell_type": "code",
   "execution_count": 107,
   "id": "f46c80d7",
   "metadata": {},
   "outputs": [
    {
     "name": "stdout",
     "output_type": "stream",
     "text": [
      "<class 'datetime.datetime'>\n",
      "<class 'datetime.datetime'>\n",
      "<class 'datetime.timedelta'>\n"
     ]
    }
   ],
   "source": [
    "print(type(dt_f))\n",
    "print(type(dt_n))\n",
    "print(type(diff))"
   ]
  },
  {
   "cell_type": "code",
   "execution_count": 110,
   "id": "7d6c7f4a",
   "metadata": {},
   "outputs": [],
   "source": [
    "from datetime import timedelta"
   ]
  },
  {
   "cell_type": "code",
   "execution_count": 135,
   "id": "2cd73ee0",
   "metadata": {},
   "outputs": [
    {
     "data": {
      "text/plain": [
       "datetime.datetime(2023, 2, 11, 23, 52, 34, 995062, tzinfo=zoneinfo.ZoneInfo(key='Asia/Jakarta'))"
      ]
     },
     "execution_count": 135,
     "metadata": {},
     "output_type": "execute_result"
    }
   ],
   "source": [
    "td = datetime.now(tz=ZoneInfo(\"Asia/Jakarta\"))\n",
    "td"
   ]
  },
  {
   "cell_type": "code",
   "execution_count": 161,
   "id": "47157005",
   "metadata": {},
   "outputs": [
    {
     "name": "stdout",
     "output_type": "stream",
     "text": [
      "Help on class date in module datetime:\n",
      "\n",
      "class date(builtins.object)\n",
      " |  date(year, month, day) --> date object\n",
      " |  \n",
      " |  Methods defined here:\n",
      " |  \n",
      " |  __add__(self, value, /)\n",
      " |      Return self+value.\n",
      " |  \n",
      " |  __eq__(self, value, /)\n",
      " |      Return self==value.\n",
      " |  \n",
      " |  __format__(...)\n",
      " |      Formats self with strftime.\n",
      " |  \n",
      " |  __ge__(self, value, /)\n",
      " |      Return self>=value.\n",
      " |  \n",
      " |  __getattribute__(self, name, /)\n",
      " |      Return getattr(self, name).\n",
      " |  \n",
      " |  __gt__(self, value, /)\n",
      " |      Return self>value.\n",
      " |  \n",
      " |  __hash__(self, /)\n",
      " |      Return hash(self).\n",
      " |  \n",
      " |  __le__(self, value, /)\n",
      " |      Return self<=value.\n",
      " |  \n",
      " |  __lt__(self, value, /)\n",
      " |      Return self<value.\n",
      " |  \n",
      " |  __ne__(self, value, /)\n",
      " |      Return self!=value.\n",
      " |  \n",
      " |  __radd__(self, value, /)\n",
      " |      Return value+self.\n",
      " |  \n",
      " |  __reduce__(...)\n",
      " |      __reduce__() -> (cls, state)\n",
      " |  \n",
      " |  __repr__(self, /)\n",
      " |      Return repr(self).\n",
      " |  \n",
      " |  __rsub__(self, value, /)\n",
      " |      Return value-self.\n",
      " |  \n",
      " |  __str__(self, /)\n",
      " |      Return str(self).\n",
      " |  \n",
      " |  __sub__(self, value, /)\n",
      " |      Return self-value.\n",
      " |  \n",
      " |  ctime(...)\n",
      " |      Return ctime() style string.\n",
      " |  \n",
      " |  isocalendar(...)\n",
      " |      Return a named tuple containing ISO year, week number, and weekday.\n",
      " |  \n",
      " |  isoformat(...)\n",
      " |      Return string in ISO 8601 format, YYYY-MM-DD.\n",
      " |  \n",
      " |  isoweekday(...)\n",
      " |      Return the day of the week represented by the date.\n",
      " |      Monday == 1 ... Sunday == 7\n",
      " |  \n",
      " |  replace(...)\n",
      " |      Return date with new specified fields.\n",
      " |  \n",
      " |  strftime(...)\n",
      " |      format -> strftime() style string.\n",
      " |  \n",
      " |  timetuple(...)\n",
      " |      Return time tuple, compatible with time.localtime().\n",
      " |  \n",
      " |  toordinal(...)\n",
      " |      Return proleptic Gregorian ordinal.  January 1 of year 1 is day 1.\n",
      " |  \n",
      " |  weekday(...)\n",
      " |      Return the day of the week represented by the date.\n",
      " |      Monday == 0 ... Sunday == 6\n",
      " |  \n",
      " |  ----------------------------------------------------------------------\n",
      " |  Class methods defined here:\n",
      " |  \n",
      " |  fromisocalendar(...) from builtins.type\n",
      " |      int, int, int -> Construct a date from the ISO year, week number and weekday.\n",
      " |      \n",
      " |      This is the inverse of the date.isocalendar() function\n",
      " |  \n",
      " |  fromisoformat(...) from builtins.type\n",
      " |      str -> Construct a date from the output of date.isoformat()\n",
      " |  \n",
      " |  fromordinal(...) from builtins.type\n",
      " |      int -> date corresponding to a proleptic Gregorian ordinal.\n",
      " |  \n",
      " |  fromtimestamp(timestamp, /) from builtins.type\n",
      " |      Create a date from a POSIX timestamp.\n",
      " |      \n",
      " |      The timestamp is a number, e.g. created via time.time(), that is interpreted\n",
      " |      as local time.\n",
      " |  \n",
      " |  today(...) from builtins.type\n",
      " |      Current date or datetime:  same as self.__class__.fromtimestamp(time.time()).\n",
      " |  \n",
      " |  ----------------------------------------------------------------------\n",
      " |  Static methods defined here:\n",
      " |  \n",
      " |  __new__(*args, **kwargs) from builtins.type\n",
      " |      Create and return a new object.  See help(type) for accurate signature.\n",
      " |  \n",
      " |  ----------------------------------------------------------------------\n",
      " |  Data descriptors defined here:\n",
      " |  \n",
      " |  day\n",
      " |  \n",
      " |  month\n",
      " |  \n",
      " |  year\n",
      " |  \n",
      " |  ----------------------------------------------------------------------\n",
      " |  Data and other attributes defined here:\n",
      " |  \n",
      " |  max = datetime.date(9999, 12, 31)\n",
      " |  \n",
      " |  min = datetime.date(1, 1, 1)\n",
      " |  \n",
      " |  resolution = datetime.timedelta(days=1)\n",
      "\n"
     ]
    }
   ],
   "source": [
    "help(date)"
   ]
  },
  {
   "cell_type": "code",
   "execution_count": 165,
   "id": "5253ed87",
   "metadata": {},
   "outputs": [
    {
     "name": "stdout",
     "output_type": "stream",
     "text": [
      "Help on timedelta object:\n",
      "\n",
      "class timedelta(builtins.object)\n",
      " |  Difference between two datetime values.\n",
      " |  \n",
      " |  timedelta(days=0, seconds=0, microseconds=0, milliseconds=0, minutes=0, hours=0, weeks=0)\n",
      " |  \n",
      " |  All arguments are optional and default to 0.\n",
      " |  Arguments may be integers or floats, and may be positive or negative.\n",
      " |  \n",
      " |  Methods defined here:\n",
      " |  \n",
      " |  __abs__(self, /)\n",
      " |      abs(self)\n",
      " |  \n",
      " |  __add__(self, value, /)\n",
      " |      Return self+value.\n",
      " |  \n",
      " |  __bool__(self, /)\n",
      " |      True if self else False\n",
      " |  \n",
      " |  __divmod__(self, value, /)\n",
      " |      Return divmod(self, value).\n",
      " |  \n",
      " |  __eq__(self, value, /)\n",
      " |      Return self==value.\n",
      " |  \n",
      " |  __floordiv__(self, value, /)\n",
      " |      Return self//value.\n",
      " |  \n",
      " |  __ge__(self, value, /)\n",
      " |      Return self>=value.\n",
      " |  \n",
      " |  __getattribute__(self, name, /)\n",
      " |      Return getattr(self, name).\n",
      " |  \n",
      " |  __gt__(self, value, /)\n",
      " |      Return self>value.\n",
      " |  \n",
      " |  __hash__(self, /)\n",
      " |      Return hash(self).\n",
      " |  \n",
      " |  __le__(self, value, /)\n",
      " |      Return self<=value.\n",
      " |  \n",
      " |  __lt__(self, value, /)\n",
      " |      Return self<value.\n",
      " |  \n",
      " |  __mod__(self, value, /)\n",
      " |      Return self%value.\n",
      " |  \n",
      " |  __mul__(self, value, /)\n",
      " |      Return self*value.\n",
      " |  \n",
      " |  __ne__(self, value, /)\n",
      " |      Return self!=value.\n",
      " |  \n",
      " |  __neg__(self, /)\n",
      " |      -self\n",
      " |  \n",
      " |  __pos__(self, /)\n",
      " |      +self\n",
      " |  \n",
      " |  __radd__(self, value, /)\n",
      " |      Return value+self.\n",
      " |  \n",
      " |  __rdivmod__(self, value, /)\n",
      " |      Return divmod(value, self).\n",
      " |  \n",
      " |  __reduce__(...)\n",
      " |      __reduce__() -> (cls, state)\n",
      " |  \n",
      " |  __repr__(self, /)\n",
      " |      Return repr(self).\n",
      " |  \n",
      " |  __rfloordiv__(self, value, /)\n",
      " |      Return value//self.\n",
      " |  \n",
      " |  __rmod__(self, value, /)\n",
      " |      Return value%self.\n",
      " |  \n",
      " |  __rmul__(self, value, /)\n",
      " |      Return value*self.\n",
      " |  \n",
      " |  __rsub__(self, value, /)\n",
      " |      Return value-self.\n",
      " |  \n",
      " |  __rtruediv__(self, value, /)\n",
      " |      Return value/self.\n",
      " |  \n",
      " |  __str__(self, /)\n",
      " |      Return str(self).\n",
      " |  \n",
      " |  __sub__(self, value, /)\n",
      " |      Return self-value.\n",
      " |  \n",
      " |  __truediv__(self, value, /)\n",
      " |      Return self/value.\n",
      " |  \n",
      " |  total_seconds(...)\n",
      " |      Total seconds in the duration.\n",
      " |  \n",
      " |  ----------------------------------------------------------------------\n",
      " |  Static methods defined here:\n",
      " |  \n",
      " |  __new__(*args, **kwargs) from builtins.type\n",
      " |      Create and return a new object.  See help(type) for accurate signature.\n",
      " |  \n",
      " |  ----------------------------------------------------------------------\n",
      " |  Data descriptors defined here:\n",
      " |  \n",
      " |  days\n",
      " |      Number of days.\n",
      " |  \n",
      " |  microseconds\n",
      " |      Number of microseconds (>= 0 and less than 1 second).\n",
      " |  \n",
      " |  seconds\n",
      " |      Number of seconds (>= 0 and less than 1 day).\n",
      " |  \n",
      " |  ----------------------------------------------------------------------\n",
      " |  Data and other attributes defined here:\n",
      " |  \n",
      " |  max = datetime.timedelta(days=999999999, seconds=86399, microseconds=9...\n",
      " |  \n",
      " |  min = datetime.timedelta(days=-999999999)\n",
      " |  \n",
      " |  resolution = datetime.timedelta(microseconds=1)\n",
      "\n"
     ]
    }
   ],
   "source": [
    "limaRibuHari = timedelta(days=5000)\n",
    "umurFaris = (datetime.now(tz=ZoneInfo(\"Asia/Jakarta\")) - dt_f) + limaRibuHari\n",
    "help(umurFaris)"
   ]
  },
  {
   "cell_type": "code",
   "execution_count": 167,
   "id": "bb4f33e9",
   "metadata": {},
   "outputs": [
    {
     "name": "stdout",
     "output_type": "stream",
     "text": [
      "2035-06-22 00:23:00+07:00\n"
     ]
    }
   ],
   "source": [
    "limaRibuHari = timedelta(days=5000)\n",
    "umurFaris = dt_f + limaRibuHari\n",
    "print(umurFaris)"
   ]
  },
  {
   "cell_type": "code",
   "execution_count": 168,
   "id": "b8fb77a6",
   "metadata": {},
   "outputs": [
    {
     "name": "stdout",
     "output_type": "stream",
     "text": [
      "1977-11-24 19:30:13+01:00\n"
     ]
    }
   ],
   "source": [
    "iso_date = '1977-11-24T19:30:13+01:00'\n",
    "print(datetime.fromisoformat(iso_date))"
   ]
  },
  {
   "cell_type": "code",
   "execution_count": 171,
   "id": "d440ff57",
   "metadata": {},
   "outputs": [
    {
     "name": "stdout",
     "output_type": "stream",
     "text": [
      "2023-02-12 00:15:26.170209+07:00\n"
     ]
    }
   ],
   "source": [
    "time_stamp_now = time.time()\n",
    "print(datetime.fromtimestamp(time_stamp_now, tz=ZoneInfo(\"Asia/Jakarta\")))"
   ]
  },
  {
   "cell_type": "code",
   "execution_count": null,
   "id": "c547f354",
   "metadata": {},
   "outputs": [],
   "source": []
  }
 ],
 "metadata": {
  "kernelspec": {
   "display_name": "Python 3 (ipykernel)",
   "language": "python",
   "name": "python3"
  },
  "language_info": {
   "codemirror_mode": {
    "name": "ipython",
    "version": 3
   },
   "file_extension": ".py",
   "mimetype": "text/x-python",
   "name": "python",
   "nbconvert_exporter": "python",
   "pygments_lexer": "ipython3",
   "version": "3.9.12"
  },
  "toc": {
   "base_numbering": 1,
   "nav_menu": {},
   "number_sections": true,
   "sideBar": true,
   "skip_h1_title": false,
   "title_cell": "Table of Contents",
   "title_sidebar": "Contents",
   "toc_cell": false,
   "toc_position": {},
   "toc_section_display": true,
   "toc_window_display": true
  }
 },
 "nbformat": 4,
 "nbformat_minor": 5
}
