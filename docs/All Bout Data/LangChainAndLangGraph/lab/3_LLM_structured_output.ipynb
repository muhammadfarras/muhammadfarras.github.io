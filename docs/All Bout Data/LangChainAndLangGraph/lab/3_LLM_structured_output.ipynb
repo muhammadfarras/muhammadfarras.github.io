{
 "cells": [
  {
   "cell_type": "code",
   "execution_count": 5,
   "id": "b646a5f7-1ac2-47f4-90cb-76a0c6b27f2d",
   "metadata": {
    "execution": {
     "iopub.execute_input": "2025-10-17T07:49:32.612208Z",
     "iopub.status.busy": "2025-10-17T07:49:32.611798Z",
     "iopub.status.idle": "2025-10-17T07:49:32.622250Z",
     "shell.execute_reply": "2025-10-17T07:49:32.620734Z",
     "shell.execute_reply.started": "2025-10-17T07:49:32.612182Z"
    }
   },
   "outputs": [],
   "source": [
    "from langchain_ollama import ChatOllama\n",
    "from StructuredOutputClass import JawabanTerstruktur\n",
    "import json"
   ]
  },
  {
   "cell_type": "code",
   "execution_count": 6,
   "id": "61863792-bd4f-4dd3-8b70-4207f6680c96",
   "metadata": {
    "execution": {
     "iopub.execute_input": "2025-10-17T07:49:32.624041Z",
     "iopub.status.busy": "2025-10-17T07:49:32.623679Z",
     "iopub.status.idle": "2025-10-17T07:49:34.236386Z",
     "shell.execute_reply": "2025-10-17T07:49:34.234636Z",
     "shell.execute_reply.started": "2025-10-17T07:49:32.624001Z"
    }
   },
   "outputs": [],
   "source": [
    "model = ChatOllama(model='llama3.2:latest' , temperature=0.3).with_structured_output(JawabanTerstruktur)"
   ]
  },
  {
   "cell_type": "code",
   "execution_count": 7,
   "id": "49dd9b69-9a94-4dd4-9b73-090bbe96236f",
   "metadata": {
    "execution": {
     "iopub.execute_input": "2025-10-17T07:49:34.239458Z",
     "iopub.status.busy": "2025-10-17T07:49:34.238200Z",
     "iopub.status.idle": "2025-10-17T07:49:35.338232Z",
     "shell.execute_reply": "2025-10-17T07:49:35.336540Z",
     "shell.execute_reply.started": "2025-10-17T07:49:34.239410Z"
    }
   },
   "outputs": [
    {
     "name": "stdout",
     "output_type": "stream",
     "text": [
      "{\n",
      "     \"answer\": \"Giraffe\",\n",
      "     \"justification\": \"The giraffe is known for its exceptionally long neck, which can grow up to 6 feet (1.8 meters) in length and account for about half of the animal's total height.\"\n",
      "}\n"
     ]
    }
   ],
   "source": [
    "jawaban = model.invoke(\"Which animal has a longest neck\")\n",
    "print(json.dumps(jawaban.__dict__, indent=5))"
   ]
  }
 ],
 "metadata": {
  "kernelspec": {
   "display_name": "Python 3 (ipykernel)",
   "language": "python",
   "name": "python3"
  },
  "language_info": {
   "codemirror_mode": {
    "name": "ipython",
    "version": 3
   },
   "file_extension": ".py",
   "mimetype": "text/x-python",
   "name": "python",
   "nbconvert_exporter": "python",
   "pygments_lexer": "ipython3",
   "version": "3.13.5"
  }
 },
 "nbformat": 4,
 "nbformat_minor": 5
}
