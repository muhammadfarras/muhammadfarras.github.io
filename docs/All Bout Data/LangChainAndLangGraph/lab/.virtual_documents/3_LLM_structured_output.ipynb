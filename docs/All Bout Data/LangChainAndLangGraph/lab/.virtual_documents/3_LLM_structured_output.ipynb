from langchain_ollama import ChatOllama
from StructuredOutputClass import JawabanTerstruktur
import json


model = ChatOllama(model='llama3.2:latest' , temperature=0.3).with_structured_output(JawabanTerstruktur)


jawaban = model.invoke("Which animal has a longest neck")
print("Hai")
print(json.dumps(jawaban.__dict__, indent=5))



