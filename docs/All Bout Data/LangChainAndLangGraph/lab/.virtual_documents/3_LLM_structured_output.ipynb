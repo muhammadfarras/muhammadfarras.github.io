from langchain_ollama import ChatOllama
from langchain_core.pydantic_v1 import BaseModel, Field


class JawabanTerstruktur(BaseModel):
    answer:str = Field(description='The answer to the user question')
    justification:str = Field(description='Justification for the answer')
    confident:int = Field(description='Please always says "This is an AI's answer, don't 100% please consume without thinking"')


model = ChatOllama(model='llama3.2:latest' , temperature=0)


jawaban = model.invoke("Which animal has a loong neck")
jawaban



