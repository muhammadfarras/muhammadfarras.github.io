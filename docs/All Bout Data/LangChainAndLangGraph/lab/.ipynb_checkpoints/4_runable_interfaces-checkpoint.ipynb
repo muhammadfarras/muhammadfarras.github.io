{
 "cells": [
  {
   "cell_type": "code",
   "execution_count": 2,
   "id": "6b431508-20b1-4a5a-9741-dfe9ae90342d",
   "metadata": {
    "execution": {
     "iopub.execute_input": "2025-10-17T08:30:44.832973Z",
     "iopub.status.busy": "2025-10-17T08:30:44.832400Z",
     "iopub.status.idle": "2025-10-17T08:30:44.841515Z",
     "shell.execute_reply": "2025-10-17T08:30:44.839354Z",
     "shell.execute_reply.started": "2025-10-17T08:30:44.832931Z"
    }
   },
   "outputs": [],
   "source": [
    "from langchain_ollama import ChatOllama\n",
    "from StructuredOutputClass import JawabanTerstruktur"
   ]
  },
  {
   "cell_type": "code",
   "execution_count": 3,
   "id": "32e9c671-e4e1-47ef-b1a3-c8c352f8f6fc",
   "metadata": {
    "execution": {
     "iopub.execute_input": "2025-10-17T08:31:49.313483Z",
     "iopub.status.busy": "2025-10-17T08:31:49.312631Z",
     "iopub.status.idle": "2025-10-17T08:31:50.578494Z",
     "shell.execute_reply": "2025-10-17T08:31:50.575921Z",
     "shell.execute_reply.started": "2025-10-17T08:31:49.313437Z"
    }
   },
   "outputs": [],
   "source": [
    "model = ChatOllama(model='llama3.2:latest', temperature=0).with_structured_output(JawabanTerstruktur)"
   ]
  },
  {
   "cell_type": "markdown",
   "id": "049731ea-86db-4bff-9ba7-f888b8340f08",
   "metadata": {},
   "source": [
    "### Invoke"
   ]
  },
  {
   "cell_type": "code",
   "execution_count": 5,
   "id": "055e3287-0371-4d74-bbc3-527f413c4438",
   "metadata": {
    "execution": {
     "iopub.execute_input": "2025-10-17T08:32:51.368338Z",
     "iopub.status.busy": "2025-10-17T08:32:51.367139Z",
     "iopub.status.idle": "2025-10-17T08:32:53.463206Z",
     "shell.execute_reply": "2025-10-17T08:32:53.462229Z",
     "shell.execute_reply.started": "2025-10-17T08:32:51.368296Z"
    }
   },
   "outputs": [
    {
     "data": {
      "text/plain": [
       "JawabanTerstruktur(answer='Box Jellyfish', justification='The box jellyfish (Chironex fleckeri) is considered to have the most potent venom of any animal. Its venom, known as chironectin, can kill a human being in under 5 minutes if left untreated. The venom contains a compound called tetrodotoxin, which is also found in pufferfish and some other marine animals. It is highly toxic and can cause cardiac arrest, respiratory failure, and even death.')"
      ]
     },
     "execution_count": 5,
     "metadata": {},
     "output_type": "execute_result"
    }
   ],
   "source": [
    "model.invoke('What animal has the most poison venom ?')"
   ]
  },
  {
   "cell_type": "markdown",
   "id": "d831271f-f9e8-4906-a847-8a15f85147b6",
   "metadata": {},
   "source": [
    "### Batch"
   ]
  },
  {
   "cell_type": "code",
   "execution_count": 6,
   "id": "a7659b8a-0f38-4188-b035-7b01dae49b28",
   "metadata": {
    "execution": {
     "iopub.execute_input": "2025-10-17T08:33:35.688191Z",
     "iopub.status.busy": "2025-10-17T08:33:35.687174Z",
     "iopub.status.idle": "2025-10-17T08:33:38.940280Z",
     "shell.execute_reply": "2025-10-17T08:33:38.939116Z",
     "shell.execute_reply.started": "2025-10-17T08:33:35.688152Z"
    }
   },
   "outputs": [
    {
     "data": {
      "text/plain": [
       "[JawabanTerstruktur(answer='Box Jellyfish', justification='The box jellyfish (Chironex fleckeri) is considered to have the most potent venom of any animal. Its venom, known as chironectin, can kill a human being in under 5 minutes if left untreated. The venom contains a compound called tetrodotoxin, which is also found in pufferfish and blue-ringed octopuses, but at much higher concentrations.'),\n",
       " JawabanTerstruktur(answer='Inland Taipan', justification='The Inland Taipan (Oxyuranus microlepidotus) is considered to have the most toxic venom of any land snake, with a mortality rate of 100% if left untreated. Its venom contains a potent neurotoxin that can kill a human being within 45 minutes if not treated promptly.')]"
      ]
     },
     "execution_count": 6,
     "metadata": {},
     "output_type": "execute_result"
    }
   ],
   "source": [
    "question = ['What animal has the most posion venom ?', 'What snake has the most poisonous venom ?']\n",
    "model.batch(question)"
   ]
  },
  {
   "cell_type": "markdown",
   "id": "d39f3853-4811-4059-ba95-0bcb5fc526dc",
   "metadata": {},
   "source": [
    "### Stream"
   ]
  },
  {
   "cell_type": "code",
   "execution_count": 17,
   "id": "76e92fc3-6069-468f-b2c5-961a2069926b",
   "metadata": {
    "execution": {
     "iopub.execute_input": "2025-10-17T08:39:32.354897Z",
     "iopub.status.busy": "2025-10-17T08:39:32.353788Z",
     "iopub.status.idle": "2025-10-17T08:39:34.188713Z",
     "shell.execute_reply": "2025-10-17T08:39:34.187870Z",
     "shell.execute_reply.started": "2025-10-17T08:39:32.354858Z"
    }
   },
   "outputs": [
    {
     "name": "stdout",
     "output_type": "stream",
     "text": [
      "How\n",
      " can\n",
      " I\n",
      " assist\n",
      " you\n",
      " today\n",
      "?\n",
      "\n"
     ]
    }
   ],
   "source": [
    "model_text = ChatOllama(model='llama3.2:latest', temperature=0)\n",
    "question_list = ['Hello']\n",
    "for data in model_text.stream(question_list):\n",
    "    print (data.content, flush=True)"
   ]
  }
 ],
 "metadata": {
  "kernelspec": {
   "display_name": "Python 3 (ipykernel)",
   "language": "python",
   "name": "python3"
  },
  "language_info": {
   "codemirror_mode": {
    "name": "ipython",
    "version": 3
   },
   "file_extension": ".py",
   "mimetype": "text/x-python",
   "name": "python",
   "nbconvert_exporter": "python",
   "pygments_lexer": "ipython3",
   "version": "3.13.5"
  }
 },
 "nbformat": 4,
 "nbformat_minor": 5
}
