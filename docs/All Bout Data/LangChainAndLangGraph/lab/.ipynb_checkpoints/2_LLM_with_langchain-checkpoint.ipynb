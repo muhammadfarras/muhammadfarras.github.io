{
 "cells": [
  {
   "cell_type": "code",
   "execution_count": 1,
   "id": "3b86ab13-f230-4a4f-8b9a-8cb807bdc4dd",
   "metadata": {
    "execution": {
     "iopub.execute_input": "2025-09-06T09:45:16.708880Z",
     "iopub.status.busy": "2025-09-06T09:45:16.707695Z",
     "iopub.status.idle": "2025-09-06T09:45:16.718662Z",
     "shell.execute_reply": "2025-09-06T09:45:16.715237Z",
     "shell.execute_reply.started": "2025-09-06T09:45:16.708819Z"
    }
   },
   "outputs": [],
   "source": [
    "import json"
   ]
  },
  {
   "cell_type": "code",
   "execution_count": 2,
   "id": "0567e18c-8091-4218-9f1b-f7e159b57464",
   "metadata": {
    "execution": {
     "iopub.execute_input": "2025-09-06T09:45:16.720679Z",
     "iopub.status.busy": "2025-09-06T09:45:16.720205Z",
     "iopub.status.idle": "2025-09-06T09:45:18.314805Z",
     "shell.execute_reply": "2025-09-06T09:45:18.314090Z",
     "shell.execute_reply.started": "2025-09-06T09:45:16.720637Z"
    }
   },
   "outputs": [],
   "source": [
    "from langchain_ollama.llms import OllamaLLM\n",
    "ollamaModel = \"llama3.2:latest\"\n",
    "model = OllamaLLM(model=ollamaModel)"
   ]
  },
  {
   "cell_type": "code",
   "execution_count": 3,
   "id": "272e670f-eaae-4bf6-b4b0-12d77bf4933a",
   "metadata": {
    "execution": {
     "iopub.execute_input": "2025-09-06T09:45:18.315585Z",
     "iopub.status.busy": "2025-09-06T09:45:18.315309Z",
     "iopub.status.idle": "2025-09-06T09:45:18.965452Z",
     "shell.execute_reply": "2025-09-06T09:45:18.964883Z",
     "shell.execute_reply.started": "2025-09-06T09:45:18.315570Z"
    }
   },
   "outputs": [
    {
     "name": "stdout",
     "output_type": "stream",
     "text": [
      "Wa alaykums salam. How can I assist you today?\n"
     ]
    }
   ],
   "source": [
    "return_value = model.invoke(\"Assalamualaikum\")\n",
    "print(return_value)"
   ]
  },
  {
   "cell_type": "markdown",
   "id": "e5e0e885-e246-4ef0-8fc8-fbf5e1ad6e66",
   "metadata": {},
   "source": [
    "## Konversasi menggunakan chat model"
   ]
  },
  {
   "cell_type": "code",
   "execution_count": 4,
   "id": "225316a1-8003-4989-b97f-01818c9b9c7e",
   "metadata": {
    "execution": {
     "iopub.execute_input": "2025-09-06T09:45:18.966113Z",
     "iopub.status.busy": "2025-09-06T09:45:18.965935Z",
     "iopub.status.idle": "2025-09-06T09:45:19.347844Z",
     "shell.execute_reply": "2025-09-06T09:45:19.347365Z",
     "shell.execute_reply.started": "2025-09-06T09:45:18.966100Z"
    }
   },
   "outputs": [],
   "source": [
    "from langchain_core.messages import HumanMessage, AIMessage\n",
    "from langchain_ollama.chat_models import ChatOllama\n",
    "\n",
    "chat_model = ChatOllama(model=ollamaModel)"
   ]
  },
  {
   "cell_type": "code",
   "execution_count": 5,
   "id": "236266df-ff2a-4ded-a44c-7aceed52590e",
   "metadata": {
    "execution": {
     "iopub.execute_input": "2025-09-06T09:45:19.348719Z",
     "iopub.status.busy": "2025-09-06T09:45:19.348262Z",
     "iopub.status.idle": "2025-09-06T09:45:19.815386Z",
     "shell.execute_reply": "2025-09-06T09:45:19.814397Z",
     "shell.execute_reply.started": "2025-09-06T09:45:19.348702Z"
    }
   },
   "outputs": [
    {
     "name": "stdout",
     "output_type": "stream",
     "text": [
      "<class 'langchain_core.messages.ai.AIMessage'>\n",
      "{\n",
      "    \"content\": \"Selamat pagi/siangat, Farras! Bagaimana kabar Anda hari ini?\",\n",
      "    \"additional_kwargs\": {},\n",
      "    \"response_metadata\": {\n",
      "        \"model\": \"llama3.2:latest\",\n",
      "        \"created_at\": \"2025-09-06T09:45:19.8095877Z\",\n",
      "        \"done\": true,\n",
      "        \"done_reason\": \"stop\",\n",
      "        \"total_duration\": 456539500,\n",
      "        \"load_duration\": 153339100,\n",
      "        \"prompt_eval_count\": 30,\n",
      "        \"prompt_eval_duration\": 16168200,\n",
      "        \"eval_count\": 21,\n",
      "        \"eval_duration\": 284049200,\n",
      "        \"model_name\": \"llama3.2:latest\"\n",
      "    },\n",
      "    \"type\": \"ai\",\n",
      "    \"name\": null,\n",
      "    \"id\": \"run--af8e3ec2-f47c-444d-91a3-aede787d86c8-0\",\n",
      "    \"example\": false,\n",
      "    \"tool_calls\": [],\n",
      "    \"invalid_tool_calls\": [],\n",
      "    \"usage_metadata\": {\n",
      "        \"input_tokens\": 30,\n",
      "        \"output_tokens\": 21,\n",
      "        \"total_tokens\": 51\n",
      "    }\n",
      "}\n"
     ]
    }
   ],
   "source": [
    "human_message = HumanMessage(\"Nama saya farras\")\n",
    "\n",
    "return_value_chage_model = chat_model.invoke([human_message])\n",
    "print(type(return_value_chage_model))\n",
    "print(json.dumps(return_value_chage_model.model_dump(), indent=4))"
   ]
  },
  {
   "cell_type": "markdown",
   "id": "98e8a55e-b7d8-4c95-aaac-041e44872f06",
   "metadata": {},
   "source": [
    "## Build simple class to using chat models"
   ]
  },
  {
   "cell_type": "code",
   "execution_count": 6,
   "id": "db09519d-230b-4734-90d3-08efe59ef056",
   "metadata": {
    "execution": {
     "iopub.execute_input": "2025-09-06T09:45:19.818364Z",
     "iopub.status.busy": "2025-09-06T09:45:19.817860Z",
     "iopub.status.idle": "2025-09-06T09:45:20.248279Z",
     "shell.execute_reply": "2025-09-06T09:45:20.247754Z",
     "shell.execute_reply.started": "2025-09-06T09:45:19.818332Z"
    }
   },
   "outputs": [],
   "source": [
    "from ChatModelsSimplifier import MyLLMChatModel\n",
    "\n",
    "my_simple_model = MyLLMChatModel(\"llama3.2:latest\")"
   ]
  },
  {
   "cell_type": "code",
   "execution_count": 7,
   "id": "5d5ecd7d-97b8-4a23-b755-225c4b739f3d",
   "metadata": {
    "execution": {
     "iopub.execute_input": "2025-09-06T09:45:20.249303Z",
     "iopub.status.busy": "2025-09-06T09:45:20.248855Z",
     "iopub.status.idle": "2025-09-06T09:45:20.675776Z",
     "shell.execute_reply": "2025-09-06T09:45:20.675146Z",
     "shell.execute_reply.started": "2025-09-06T09:45:20.249287Z"
    }
   },
   "outputs": [
    {
     "name": "stdout",
     "output_type": "stream",
     "text": [
      "Senang bertemu dengan Muhammad Farras Ma'Ruf XXX\n"
     ]
    }
   ],
   "source": [
    "my_simple_model.chat_models(\"Halo nama saya muhammad farras ma'ruf\")"
   ]
  },
  {
   "cell_type": "code",
   "execution_count": 8,
   "id": "57aa6109-cbf6-470b-96af-2ed05ed75969",
   "metadata": {
    "execution": {
     "iopub.execute_input": "2025-09-06T09:45:20.677735Z",
     "iopub.status.busy": "2025-09-06T09:45:20.677549Z",
     "iopub.status.idle": "2025-09-06T09:45:21.293040Z",
     "shell.execute_reply": "2025-09-06T09:45:21.292420Z",
     "shell.execute_reply.started": "2025-09-06T09:45:20.677722Z"
    }
   },
   "outputs": [
    {
     "name": "stdout",
     "output_type": "stream",
     "text": [
      "Jika Anda memiliki 3 anak, maka keluarga Anda pasti sangat bahagia dengan anggota baru yang sedang berusia XXX\n"
     ]
    }
   ],
   "source": [
    "my_simple_model.chat_models(\"Saya punya tiga anak, 2 laki-laku, dan satu perempuan\")"
   ]
  },
  {
   "cell_type": "code",
   "execution_count": 9,
   "id": "21a3c092-00f6-4d6c-8b10-1821a1b78f92",
   "metadata": {
    "execution": {
     "iopub.execute_input": "2025-09-06T09:45:21.293801Z",
     "iopub.status.busy": "2025-09-06T09:45:21.293516Z",
     "iopub.status.idle": "2025-09-06T09:45:21.616720Z",
     "shell.execute_reply": "2025-09-06T09:45:21.616223Z",
     "shell.execute_reply.started": "2025-09-06T09:45:21.293787Z"
    }
   },
   "outputs": [
    {
     "name": "stdout",
     "output_type": "stream",
     "text": [
      "Anda bernama Muhammad Farras Ma'Ruf XXX\n"
     ]
    }
   ],
   "source": [
    "my_simple_model.chat_models(\"Siapa nama saya ?\")"
   ]
  },
  {
   "cell_type": "code",
   "execution_count": 10,
   "id": "d1d1abea-7b52-4327-99c7-83610dcea91c",
   "metadata": {
    "execution": {
     "iopub.execute_input": "2025-09-06T09:45:21.617820Z",
     "iopub.status.busy": "2025-09-06T09:45:21.617254Z",
     "iopub.status.idle": "2025-09-06T09:45:21.622819Z",
     "shell.execute_reply": "2025-09-06T09:45:21.622167Z",
     "shell.execute_reply.started": "2025-09-06T09:45:21.617804Z"
    }
   },
   "outputs": [
    {
     "name": "stdout",
     "output_type": "stream",
     "text": [
      "[SystemMessage(content='You are assitant named NoSys, you always answert the question with sufix three XXX.', additional_kwargs={}, response_metadata={}), HumanMessage(content=\"Halo nama saya muhammad farras ma'ruf\", additional_kwargs={}, response_metadata={}), AIMessage(content=\"Senang bertemu dengan Muhammad Farras Ma'Ruf XXX\", additional_kwargs={}, response_metadata={'model': 'llama3.2:latest', 'created_at': '2025-09-06T09:45:20.6688002Z', 'done': True, 'done_reason': 'stop', 'total_duration': 414237400, 'load_duration': 188611600, 'prompt_eval_count': 58, 'prompt_eval_duration': 19896400, 'eval_count': 14, 'eval_duration': 204529200, 'model_name': 'llama3.2:latest'}, id='run--d5df3106-3a88-4f63-b3a9-ebda48431225-0', usage_metadata={'input_tokens': 58, 'output_tokens': 14, 'total_tokens': 72}), HumanMessage(content='Saya punya tiga anak, 2 laki-laku, dan satu perempuan', additional_kwargs={}, response_metadata={}), AIMessage(content='Jika Anda memiliki 3 anak, maka keluarga Anda pasti sangat bahagia dengan anggota baru yang sedang berusia XXX', additional_kwargs={}, response_metadata={'model': 'llama3.2:latest', 'created_at': '2025-09-06T09:45:21.2900196Z', 'done': True, 'done_reason': 'stop', 'total_duration': 610637200, 'load_duration': 156224700, 'prompt_eval_count': 100, 'prompt_eval_duration': 8874500, 'eval_count': 31, 'eval_duration': 443099000, 'model_name': 'llama3.2:latest'}, id='run--2a5e83fb-815d-4f5c-9204-dcf27af7a8a7-0', usage_metadata={'input_tokens': 100, 'output_tokens': 31, 'total_tokens': 131}), HumanMessage(content='Siapa nama saya ?', additional_kwargs={}, response_metadata={}), AIMessage(content=\"Anda bernama Muhammad Farras Ma'Ruf XXX\", additional_kwargs={}, response_metadata={'model': 'llama3.2:latest', 'created_at': '2025-09-06T09:45:21.6142554Z', 'done': True, 'done_reason': 'stop', 'total_duration': 317733900, 'load_duration': 141230500, 'prompt_eval_count': 145, 'prompt_eval_duration': 9308300, 'eval_count': 12, 'eval_duration': 165639200, 'model_name': 'llama3.2:latest'}, id='run--e97b0621-bbd0-41f9-8b64-7c74e1a0d37f-0', usage_metadata={'input_tokens': 145, 'output_tokens': 12, 'total_tokens': 157})]\n"
     ]
    }
   ],
   "source": [
    "print(my_simple_model.list_of_chats)"
   ]
  }
 ],
 "metadata": {
  "kernelspec": {
   "display_name": "Python 3 (ipykernel)",
   "language": "python",
   "name": "python3"
  },
  "language_info": {
   "codemirror_mode": {
    "name": "ipython",
    "version": 3
   },
   "file_extension": ".py",
   "mimetype": "text/x-python",
   "name": "python",
   "nbconvert_exporter": "python",
   "pygments_lexer": "ipython3",
   "version": "3.13.5"
  }
 },
 "nbformat": 4,
 "nbformat_minor": 5
}
