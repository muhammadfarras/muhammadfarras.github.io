{
 "cells": [
  {
   "cell_type": "code",
   "execution_count": 5,
   "id": "3b86ab13-f230-4a4f-8b9a-8cb807bdc4dd",
   "metadata": {
    "execution": {
     "iopub.execute_input": "2025-10-13T14:52:14.759845Z",
     "iopub.status.busy": "2025-10-13T14:52:14.759381Z",
     "iopub.status.idle": "2025-10-13T14:52:14.764207Z",
     "shell.execute_reply": "2025-10-13T14:52:14.763101Z",
     "shell.execute_reply.started": "2025-10-13T14:52:14.759815Z"
    }
   },
   "outputs": [],
   "source": [
    "import json"
   ]
  },
  {
   "cell_type": "code",
   "execution_count": 6,
   "id": "0567e18c-8091-4218-9f1b-f7e159b57464",
   "metadata": {
    "execution": {
     "iopub.execute_input": "2025-10-13T14:52:14.934228Z",
     "iopub.status.busy": "2025-10-13T14:52:14.933868Z",
     "iopub.status.idle": "2025-10-13T14:52:15.406624Z",
     "shell.execute_reply": "2025-10-13T14:52:15.405815Z",
     "shell.execute_reply.started": "2025-10-13T14:52:14.934203Z"
    }
   },
   "outputs": [],
   "source": [
    "from langchain_ollama.llms import OllamaLLM\n",
    "ollamaModel = \"llama3.2:latest\"\n",
    "model = OllamaLLM(model=ollamaModel)"
   ]
  },
  {
   "cell_type": "code",
   "execution_count": 7,
   "id": "272e670f-eaae-4bf6-b4b0-12d77bf4933a",
   "metadata": {
    "execution": {
     "iopub.execute_input": "2025-10-13T14:52:15.407690Z",
     "iopub.status.busy": "2025-10-13T14:52:15.407529Z",
     "iopub.status.idle": "2025-10-13T14:52:17.189993Z",
     "shell.execute_reply": "2025-10-13T14:52:17.188777Z",
     "shell.execute_reply.started": "2025-10-13T14:52:15.407678Z"
    }
   },
   "outputs": [
    {
     "name": "stdout",
     "output_type": "stream",
     "text": [
      "Wa alaykums salam. How can I assist you today?\n"
     ]
    }
   ],
   "source": [
    "return_value = model.invoke(\"Assalamualaikum\")\n",
    "print(return_value)"
   ]
  },
  {
   "cell_type": "markdown",
   "id": "e5e0e885-e246-4ef0-8fc8-fbf5e1ad6e66",
   "metadata": {},
   "source": [
    "## Konversasi menggunakan chat model"
   ]
  },
  {
   "cell_type": "code",
   "execution_count": 8,
   "id": "225316a1-8003-4989-b97f-01818c9b9c7e",
   "metadata": {
    "execution": {
     "iopub.execute_input": "2025-10-13T14:52:17.192944Z",
     "iopub.status.busy": "2025-10-13T14:52:17.192471Z",
     "iopub.status.idle": "2025-10-13T14:52:17.721383Z",
     "shell.execute_reply": "2025-10-13T14:52:17.720663Z",
     "shell.execute_reply.started": "2025-10-13T14:52:17.192913Z"
    }
   },
   "outputs": [],
   "source": [
    "from langchain_core.messages import HumanMessage, AIMessage\n",
    "from langchain_ollama.chat_models import ChatOllama\n",
    "\n",
    "chat_model = ChatOllama(model=ollamaModel)"
   ]
  },
  {
   "cell_type": "code",
   "execution_count": 9,
   "id": "236266df-ff2a-4ded-a44c-7aceed52590e",
   "metadata": {
    "execution": {
     "iopub.execute_input": "2025-10-13T14:52:17.722043Z",
     "iopub.status.busy": "2025-10-13T14:52:17.721868Z",
     "iopub.status.idle": "2025-10-13T14:52:18.307953Z",
     "shell.execute_reply": "2025-10-13T14:52:18.307528Z",
     "shell.execute_reply.started": "2025-10-13T14:52:17.722030Z"
    }
   },
   "outputs": [
    {
     "name": "stdout",
     "output_type": "stream",
     "text": [
      "<class 'langchain_core.messages.ai.AIMessage'>\n",
      "{\n",
      "    \"content\": \"Halo Farras! Senang bertemu denganmu. Bagaimana hari ini?\",\n",
      "    \"additional_kwargs\": {},\n",
      "    \"response_metadata\": {\n",
      "        \"model\": \"llama3.2:latest\",\n",
      "        \"created_at\": \"2025-10-13T14:52:18.3048132Z\",\n",
      "        \"done\": true,\n",
      "        \"done_reason\": \"stop\",\n",
      "        \"total_duration\": 575399700,\n",
      "        \"load_duration\": 270851100,\n",
      "        \"prompt_eval_count\": 30,\n",
      "        \"prompt_eval_duration\": 35991400,\n",
      "        \"eval_count\": 19,\n",
      "        \"eval_duration\": 230276900,\n",
      "        \"model_name\": \"llama3.2:latest\"\n",
      "    },\n",
      "    \"type\": \"ai\",\n",
      "    \"name\": null,\n",
      "    \"id\": \"run--e6d1b0df-7b89-4721-a51a-353a45bacfd3-0\",\n",
      "    \"example\": false,\n",
      "    \"tool_calls\": [],\n",
      "    \"invalid_tool_calls\": [],\n",
      "    \"usage_metadata\": {\n",
      "        \"input_tokens\": 30,\n",
      "        \"output_tokens\": 19,\n",
      "        \"total_tokens\": 49\n",
      "    }\n",
      "}\n"
     ]
    }
   ],
   "source": [
    "human_message = HumanMessage(\"Nama saya farras\")\n",
    "\n",
    "return_value_chage_model = chat_model.invoke([human_message])\n",
    "print(type(return_value_chage_model))\n",
    "print(json.dumps(return_value_chage_model.model_dump(), indent=4))"
   ]
  },
  {
   "cell_type": "markdown",
   "id": "98e8a55e-b7d8-4c95-aaac-041e44872f06",
   "metadata": {},
   "source": [
    "## Build simple class to using chat models"
   ]
  },
  {
   "cell_type": "code",
   "execution_count": 10,
   "id": "db09519d-230b-4734-90d3-08efe59ef056",
   "metadata": {
    "execution": {
     "iopub.execute_input": "2025-10-13T14:52:18.308905Z",
     "iopub.status.busy": "2025-10-13T14:52:18.308751Z",
     "iopub.status.idle": "2025-10-13T14:52:18.704109Z",
     "shell.execute_reply": "2025-10-13T14:52:18.703395Z",
     "shell.execute_reply.started": "2025-10-13T14:52:18.308892Z"
    }
   },
   "outputs": [],
   "source": [
    "from ChatModelsSimplifier import MyLLMChatModel\n",
    "\n",
    "my_simple_model = MyLLMChatModel(\"llama3.2:latest\")"
   ]
  },
  {
   "cell_type": "code",
   "execution_count": 11,
   "id": "5d5ecd7d-97b8-4a23-b755-225c4b739f3d",
   "metadata": {
    "execution": {
     "iopub.execute_input": "2025-10-13T14:52:18.705089Z",
     "iopub.status.busy": "2025-10-13T14:52:18.704568Z",
     "iopub.status.idle": "2025-10-13T14:52:19.200488Z",
     "shell.execute_reply": "2025-10-13T14:52:19.200032Z",
     "shell.execute_reply.started": "2025-10-13T14:52:18.705074Z"
    }
   },
   "outputs": [
    {
     "name": "stdout",
     "output_type": "stream",
     "text": [
      "Selamat datang Muhammad Farras Ma'ruf XXX\n"
     ]
    }
   ],
   "source": [
    "my_simple_model.chat_models(\"Halo nama saya muhammad farras ma'ruf\")"
   ]
  },
  {
   "cell_type": "code",
   "execution_count": 12,
   "id": "57aa6109-cbf6-470b-96af-2ed05ed75969",
   "metadata": {
    "execution": {
     "iopub.execute_input": "2025-10-13T14:52:19.201119Z",
     "iopub.status.busy": "2025-10-13T14:52:19.200953Z",
     "iopub.status.idle": "2025-10-13T14:52:19.968984Z",
     "shell.execute_reply": "2025-10-13T14:52:19.968435Z",
     "shell.execute_reply.started": "2025-10-13T14:52:19.201106Z"
    }
   },
   "outputs": [
    {
     "name": "stdout",
     "output_type": "stream",
     "text": [
      "Terima kasih atas informasinya, Muhammad Farras Ma'ruf XXX\n"
     ]
    }
   ],
   "source": [
    "my_simple_model.chat_models(\"Saya punya tiga anak, 2 laki-laku, dan satu perempuan\")"
   ]
  },
  {
   "cell_type": "code",
   "execution_count": 13,
   "id": "21a3c092-00f6-4d6c-8b10-1821a1b78f92",
   "metadata": {
    "execution": {
     "iopub.execute_input": "2025-10-13T14:52:19.969812Z",
     "iopub.status.busy": "2025-10-13T14:52:19.969571Z",
     "iopub.status.idle": "2025-10-13T14:52:20.442192Z",
     "shell.execute_reply": "2025-10-13T14:52:20.441804Z",
     "shell.execute_reply.started": "2025-10-13T14:52:19.969798Z"
    }
   },
   "outputs": [
    {
     "name": "stdout",
     "output_type": "stream",
     "text": [
      "Nama Anda adalah Muhammad Farras Ma'ruf XXX\n"
     ]
    }
   ],
   "source": [
    "my_simple_model.chat_models(\"Siapa nama saya ?\")"
   ]
  },
  {
   "cell_type": "code",
   "execution_count": 14,
   "id": "d1d1abea-7b52-4327-99c7-83610dcea91c",
   "metadata": {
    "execution": {
     "iopub.execute_input": "2025-10-13T14:52:20.443270Z",
     "iopub.status.busy": "2025-10-13T14:52:20.442801Z",
     "iopub.status.idle": "2025-10-13T14:52:20.447787Z",
     "shell.execute_reply": "2025-10-13T14:52:20.447096Z",
     "shell.execute_reply.started": "2025-10-13T14:52:20.443254Z"
    }
   },
   "outputs": [
    {
     "name": "stdout",
     "output_type": "stream",
     "text": [
      "[SystemMessage(content='You are assitant named NoSys, you always answert the question with sufix three XXX.', additional_kwargs={}, response_metadata={}), HumanMessage(content=\"Halo nama saya muhammad farras ma'ruf\", additional_kwargs={}, response_metadata={}), AIMessage(content=\"Selamat datang Muhammad Farras Ma'ruf XXX\", additional_kwargs={}, response_metadata={'model': 'llama3.2:latest', 'created_at': '2025-10-13T14:52:19.1976237Z', 'done': True, 'done_reason': 'stop', 'total_duration': 490199400, 'load_duration': 238550500, 'prompt_eval_count': 58, 'prompt_eval_duration': 21505000, 'eval_count': 13, 'eval_duration': 207168400, 'model_name': 'llama3.2:latest'}, id='run--caa341c6-ae8f-4bcf-89d0-fdf501b1cf46-0', usage_metadata={'input_tokens': 58, 'output_tokens': 13, 'total_tokens': 71}), HumanMessage(content='Saya punya tiga anak, 2 laki-laku, dan satu perempuan', additional_kwargs={}, response_metadata={}), AIMessage(content=\"Terima kasih atas informasinya, Muhammad Farras Ma'ruf XXX\", additional_kwargs={}, response_metadata={'model': 'llama3.2:latest', 'created_at': '2025-10-13T14:52:19.9664717Z', 'done': True, 'done_reason': 'stop', 'total_duration': 760525300, 'load_duration': 410881300, 'prompt_eval_count': 99, 'prompt_eval_duration': 27383700, 'eval_count': 17, 'eval_duration': 277198600, 'model_name': 'llama3.2:latest'}, id='run--9655ac52-329b-4c99-919c-979544610714-0', usage_metadata={'input_tokens': 99, 'output_tokens': 17, 'total_tokens': 116}), HumanMessage(content='Siapa nama saya ?', additional_kwargs={}, response_metadata={}), AIMessage(content=\"Nama Anda adalah Muhammad Farras Ma'ruf XXX\", additional_kwargs={}, response_metadata={'model': 'llama3.2:latest', 'created_at': '2025-10-13T14:52:20.4393638Z', 'done': True, 'done_reason': 'stop', 'total_duration': 466768400, 'load_duration': 223380100, 'prompt_eval_count': 130, 'prompt_eval_duration': 33110500, 'eval_count': 12, 'eval_duration': 183154500, 'model_name': 'llama3.2:latest'}, id='run--c1551cac-c285-4e99-ab2d-7e94ff8600d0-0', usage_metadata={'input_tokens': 130, 'output_tokens': 12, 'total_tokens': 142})]\n"
     ]
    }
   ],
   "source": [
    "print(my_simple_model.list_of_chats)"
   ]
  },
  {
   "cell_type": "markdown",
   "id": "3353182b-9085-4573-be58-86ea99345825",
   "metadata": {
    "execution": {
     "iopub.execute_input": "2025-09-06T09:47:05.947924Z",
     "iopub.status.busy": "2025-09-06T09:47:05.947205Z",
     "iopub.status.idle": "2025-09-06T09:47:06.337737Z",
     "shell.execute_reply": "2025-09-06T09:47:06.336961Z",
     "shell.execute_reply.started": "2025-09-06T09:47:05.947888Z"
    }
   },
   "source": [
    "## Membuat MML yang dapat digunakan kembalim"
   ]
  },
  {
   "cell_type": "code",
   "execution_count": null,
   "id": "ef195669-08f5-4ef0-8386-923c1b0fd4eb",
   "metadata": {},
   "outputs": [],
   "source": []
  }
 ],
 "metadata": {
  "kernelspec": {
   "display_name": "Python 3 (ipykernel)",
   "language": "python",
   "name": "python3"
  },
  "language_info": {
   "codemirror_mode": {
    "name": "ipython",
    "version": 3
   },
   "file_extension": ".py",
   "mimetype": "text/x-python",
   "name": "python",
   "nbconvert_exporter": "python",
   "pygments_lexer": "ipython3",
   "version": "3.13.5"
  }
 },
 "nbformat": 4,
 "nbformat_minor": 5
}
