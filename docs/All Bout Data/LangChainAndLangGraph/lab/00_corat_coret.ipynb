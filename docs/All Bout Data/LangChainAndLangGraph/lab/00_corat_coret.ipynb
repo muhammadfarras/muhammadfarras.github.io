{
 "cells": [
  {
   "cell_type": "code",
   "execution_count": 4,
   "id": "367453ad-aa3b-459c-a944-6686e396a9ec",
   "metadata": {
    "execution": {
     "iopub.execute_input": "2025-09-02T16:55:02.613725Z",
     "iopub.status.busy": "2025-09-02T16:55:02.613390Z",
     "iopub.status.idle": "2025-09-02T16:55:02.616945Z",
     "shell.execute_reply": "2025-09-02T16:55:02.616159Z",
     "shell.execute_reply.started": "2025-09-02T16:55:02.613708Z"
    }
   },
   "outputs": [],
   "source": [
    "from transformers import AutoTokenizer"
   ]
  },
  {
   "cell_type": "code",
   "execution_count": 9,
   "id": "cfa67727-66f1-4ecd-b1fe-f08f57f9e893",
   "metadata": {
    "execution": {
     "iopub.execute_input": "2025-09-02T16:56:55.053458Z",
     "iopub.status.busy": "2025-09-02T16:56:55.053067Z",
     "iopub.status.idle": "2025-09-02T16:56:55.910200Z",
     "shell.execute_reply": "2025-09-02T16:56:55.909502Z",
     "shell.execute_reply.started": "2025-09-02T16:56:55.053424Z"
    }
   },
   "outputs": [
    {
     "data": {
      "text/plain": [
       "[128000, 40, 267, 1609, 122591]"
      ]
     },
     "execution_count": 9,
     "metadata": {},
     "output_type": "execute_result"
    }
   ],
   "source": [
    "tokenizer = AutoTokenizer.from_pretrained(\"meta-llama/Llama-3.2-3B\")\n",
    "tokenizer.encode(\"Istiklal\")"
   ]
  },
  {
   "cell_type": "code",
   "execution_count": null,
   "id": "58fff41a-f033-4f15-b415-50a2fda90253",
   "metadata": {},
   "outputs": [],
   "source": []
  }
 ],
 "metadata": {
  "kernelspec": {
   "display_name": "Python 3 (ipykernel)",
   "language": "python",
   "name": "python3"
  },
  "language_info": {
   "codemirror_mode": {
    "name": "ipython",
    "version": 3
   },
   "file_extension": ".py",
   "mimetype": "text/x-python",
   "name": "python",
   "nbconvert_exporter": "python",
   "pygments_lexer": "ipython3",
   "version": "3.13.5"
  }
 },
 "nbformat": 4,
 "nbformat_minor": 5
}
