{
 "cells": [
  {
   "cell_type": "markdown",
   "id": "4a67c362-5936-4318-89c7-77666886b1d3",
   "metadata": {},
   "source": [
    "# Menyiapkan data acak"
   ]
  },
  {
   "cell_type": "code",
   "execution_count": 1,
   "id": "41840a43-b65a-4b66-9168-8c0c789857a1",
   "metadata": {
    "execution": {
     "iopub.execute_input": "2025-09-21T14:36:14.626477Z",
     "iopub.status.busy": "2025-09-21T14:36:14.626318Z",
     "iopub.status.idle": "2025-09-21T14:36:14.630092Z",
     "shell.execute_reply": "2025-09-21T14:36:14.629525Z",
     "shell.execute_reply.started": "2025-09-21T14:36:14.626463Z"
    }
   },
   "outputs": [],
   "source": [
    "data = [\n",
    "    79, 49, 48, 74, 81, 98, 87, 80, 80, 84, 90, 70, 91, 93, 82, 78,\n",
    "    70, 71, 92, 38, 56, 81, 74, 73, 68, 72, 85, 51, 65, 93, 83, 86,\n",
    "    90, 35, 83, 73, 74, 43, 86, 88, 92, 93, 76, 71, 90, 72, 67, 75,\n",
    "    80, 91, 61, 72, 97, 91, 88, 81, 70, 74, 99, 95, 80, 59, 71, 77,\n",
    "    63, 60, 83, 82, 60, 67, 89, 63, 76, 63, 88, 70, 66, 88, 79, 75\n",
    "]"
   ]
  },
  {
   "cell_type": "markdown",
   "id": "c7573ef5-b722-49e3-9267-4f2d0c5b7973",
   "metadata": {},
   "source": [
    "# Langkah membuat table distribusi\n",
    "\n",
    "1. Mencari data terkecil dan terbesar"
   ]
  },
  {
   "cell_type": "markdown",
   "id": "f2e343fb-5ec3-4883-96ed-eea9057bfbbc",
   "metadata": {
    "execution": {
     "iopub.execute_input": "2025-09-21T03:05:11.280963Z",
     "iopub.status.busy": "2025-09-21T03:05:11.280575Z",
     "iopub.status.idle": "2025-09-21T03:05:11.288136Z",
     "shell.execute_reply": "2025-09-21T03:05:11.286658Z",
     "shell.execute_reply.started": "2025-09-21T03:05:11.280935Z"
    }
   },
   "source": [
    "## Mencari data terkecil dan terbesar\n",
    "\n",
    "Kita dapat menggunakan global function fungsi bawaan python, yaitu `min()` dan `max()`"
   ]
  },
  {
   "cell_type": "code",
   "execution_count": 2,
   "id": "57da63da-f13c-4c0e-94eb-5e000161b6d7",
   "metadata": {
    "execution": {
     "iopub.execute_input": "2025-09-21T14:36:14.631290Z",
     "iopub.status.busy": "2025-09-21T14:36:14.630807Z",
     "iopub.status.idle": "2025-09-21T14:36:14.638409Z",
     "shell.execute_reply": "2025-09-21T14:36:14.637719Z",
     "shell.execute_reply.started": "2025-09-21T14:36:14.631265Z"
    }
   },
   "outputs": [
    {
     "name": "stdout",
     "output_type": "stream",
     "text": [
      "\n",
      "Nilai terkecil : 35\n",
      "Nilai terbesar : 99\n",
      "\n"
     ]
    }
   ],
   "source": [
    "data_terkecil = min(data)\n",
    "data_terbesar = max(data)\n",
    "\n",
    "print(f\"\"\"\n",
    "Nilai terkecil : {data_terkecil}\n",
    "Nilai terbesar : {data_terbesar}\n",
    "\"\"\")"
   ]
  },
  {
   "cell_type": "markdown",
   "id": "89c0c716-a1ee-4202-abd0-b496c125c44a",
   "metadata": {
    "execution": {
     "iopub.execute_input": "2025-09-21T03:07:41.033239Z",
     "iopub.status.busy": "2025-09-21T03:07:41.032842Z",
     "iopub.status.idle": "2025-09-21T03:07:41.040827Z",
     "shell.execute_reply": "2025-09-21T03:07:41.039247Z",
     "shell.execute_reply.started": "2025-09-21T03:07:41.033210Z"
    }
   },
   "source": [
    "## Mencari banyak kelas\n",
    "\n",
    "Untuk mencari banyak kelas kita dapat menggunakan _sturge''s rule_\n",
    "\n",
    "$k = 1 + (3.322log (n) )$\n",
    "\n",
    "**dimana :**\n",
    "\n",
    "* $K$ adalah banyak kelas\n",
    "* $n$ banyak data\n",
    "\n",
    "Untuk membuat fungsi sturges, kita perlu memuat (import) modul `math` agar dapat mengakses fungsi `math.log"
   ]
  },
  {
   "cell_type": "code",
   "execution_count": 3,
   "id": "30ab8b9a-c884-459c-8866-c4fe37a495e9",
   "metadata": {
    "execution": {
     "iopub.execute_input": "2025-09-21T14:36:14.639910Z",
     "iopub.status.busy": "2025-09-21T14:36:14.639275Z",
     "iopub.status.idle": "2025-09-21T14:36:14.643296Z",
     "shell.execute_reply": "2025-09-21T14:36:14.642919Z",
     "shell.execute_reply.started": "2025-09-21T14:36:14.639883Z"
    }
   },
   "outputs": [],
   "source": [
    "import math as m\n",
    "\n",
    "def sturges(banyak_data):\n",
    "    return round((1 + (3.3 * m.log10(banyak_data))))"
   ]
  },
  {
   "cell_type": "code",
   "execution_count": 4,
   "id": "0d57b2fc-ff66-4226-919a-441483892dad",
   "metadata": {
    "execution": {
     "iopub.execute_input": "2025-09-21T14:36:14.643878Z",
     "iopub.status.busy": "2025-09-21T14:36:14.643713Z",
     "iopub.status.idle": "2025-09-21T14:36:14.651989Z",
     "shell.execute_reply": "2025-09-21T14:36:14.651160Z",
     "shell.execute_reply.started": "2025-09-21T14:36:14.643867Z"
    }
   },
   "outputs": [
    {
     "name": "stdout",
     "output_type": "stream",
     "text": [
      "\n",
      "Banyak data : 80\n",
      "Banyak kelas : 7\n",
      "\n"
     ]
    }
   ],
   "source": [
    "banyak_kelas = sturges(len(data))\n",
    "\n",
    "print(f\"\"\"\n",
    "Banyak data : {len(data)}\n",
    "Banyak kelas : {banyak_kelas}\n",
    "\"\"\")"
   ]
  },
  {
   "cell_type": "markdown",
   "id": "0261e6f0-7a9e-4a51-82fe-79a586b9a88b",
   "metadata": {
    "execution": {
     "iopub.execute_input": "2025-09-21T03:21:24.439101Z",
     "iopub.status.busy": "2025-09-21T03:21:24.438683Z",
     "iopub.status.idle": "2025-09-21T03:21:24.444652Z",
     "shell.execute_reply": "2025-09-21T03:21:24.443441Z",
     "shell.execute_reply.started": "2025-09-21T03:21:24.439073Z"
    }
   },
   "source": [
    "## Mencari panjang kelas / interval\n",
    "\n",
    "Interval, dapat kita simbolkan dengan $p$, didapat dengan cara membagi selisih nilai terbesar dengan nilai terkecil lalu dibagi dengan banyak kelas.\n",
    "\n",
    "$$p = \\frac{(N_{max} - N_{min})}{k}$$"
   ]
  },
  {
   "cell_type": "code",
   "execution_count": 5,
   "id": "08b0bc85-3617-49f6-b5ac-411fe74905a9",
   "metadata": {
    "execution": {
     "iopub.execute_input": "2025-09-21T14:36:14.653267Z",
     "iopub.status.busy": "2025-09-21T14:36:14.652782Z",
     "iopub.status.idle": "2025-09-21T14:36:14.661626Z",
     "shell.execute_reply": "2025-09-21T14:36:14.660913Z",
     "shell.execute_reply.started": "2025-09-21T14:36:14.653238Z"
    }
   },
   "outputs": [
    {
     "name": "stdout",
     "output_type": "stream",
     "text": [
      "\n",
      "Interval per kelas : 10\n",
      "\n"
     ]
    }
   ],
   "source": [
    "panjang_interval = m.ceil((data_terbesar - data_terkecil) / banyak_kelas)\n",
    "print(f\"\"\"\n",
    "Interval per kelas : {panjang_interval}\n",
    "\"\"\")"
   ]
  },
  {
   "cell_type": "markdown",
   "id": "330645ea-7516-4dae-a10d-a91a0d8f8f67",
   "metadata": {},
   "source": [
    "## Menetapkan batas bawah dan atas dari kelas pertama\n",
    "\n",
    "Dengan mengetahui nilai terkecil dan terbesar dari kumpulan bilangan $N$ serta panjang kelas $7$ dan interval $10$, kita dapat mengambil batas bawah interval kelas pertama dengan nilai 30. Mengapa, agar interval setiap kelas terlihat lebih rapih, dengan syarat penetapan 30 batas kelas bawah dalam 7 kelas dapat memenuhi kumpulan bilangan $N$. Batas tampung lebih besar dari selisih nilai maksimal dikurang nilai minimal.\n",
    "\n",
    "$(k \\cdot p \\geq N_{max} - N_{min}) \\to  7 \\cdot 10 \\geq 99 - 35 \\to 70 \\geq 64$\n",
    "\n",
    "|Kelas| Interval | \n",
    "|:---:| :-----|\n",
    "|1|30 - 39|\n",
    "|2|40 - 49|\n",
    "|3|50 - 59|\n",
    "|4|60 - 69|\n",
    "|5|70 - 79|\n",
    "|6|80 - 89|\n",
    "|7|90 - 99|\n",
    "\n",
    "Untuk membuat table, kita dapat menggunakan Dataframe, module dari `pandas`"
   ]
  },
  {
   "cell_type": "markdown",
   "id": "2092d6bc-7c57-41e3-ab94-b2a81f735868",
   "metadata": {
    "execution": {
     "iopub.execute_input": "2025-09-21T04:09:10.973952Z",
     "iopub.status.busy": "2025-09-21T04:09:10.973704Z",
     "iopub.status.idle": "2025-09-21T04:09:10.977569Z",
     "shell.execute_reply": "2025-09-21T04:09:10.976566Z",
     "shell.execute_reply.started": "2025-09-21T04:09:10.973932Z"
    }
   },
   "source": [
    "# Membuat dataframe"
   ]
  },
  {
   "cell_type": "code",
   "execution_count": 6,
   "id": "26f0782a-29e0-47e0-8ef6-32328cf36637",
   "metadata": {
    "execution": {
     "iopub.execute_input": "2025-09-21T14:36:14.664400Z",
     "iopub.status.busy": "2025-09-21T14:36:14.663892Z",
     "iopub.status.idle": "2025-09-21T14:36:15.386245Z",
     "shell.execute_reply": "2025-09-21T14:36:15.385235Z",
     "shell.execute_reply.started": "2025-09-21T14:36:14.664371Z"
    }
   },
   "outputs": [
    {
     "data": {
      "text/html": [
       "<div>\n",
       "<style scoped>\n",
       "    .dataframe tbody tr th:only-of-type {\n",
       "        vertical-align: middle;\n",
       "    }\n",
       "\n",
       "    .dataframe tbody tr th {\n",
       "        vertical-align: top;\n",
       "    }\n",
       "\n",
       "    .dataframe thead th {\n",
       "        text-align: right;\n",
       "    }\n",
       "</style>\n",
       "<table border=\"1\" class=\"dataframe\">\n",
       "  <thead>\n",
       "    <tr style=\"text-align: right;\">\n",
       "      <th></th>\n",
       "      <th>interval</th>\n",
       "      <th>batas_bawah</th>\n",
       "      <th>batas_atas</th>\n",
       "    </tr>\n",
       "  </thead>\n",
       "  <tbody>\n",
       "    <tr>\n",
       "      <th>0</th>\n",
       "      <td>30 - 39</td>\n",
       "      <td>30</td>\n",
       "      <td>39</td>\n",
       "    </tr>\n",
       "    <tr>\n",
       "      <th>1</th>\n",
       "      <td>40 - 49</td>\n",
       "      <td>40</td>\n",
       "      <td>49</td>\n",
       "    </tr>\n",
       "    <tr>\n",
       "      <th>2</th>\n",
       "      <td>50 - 59</td>\n",
       "      <td>50</td>\n",
       "      <td>59</td>\n",
       "    </tr>\n",
       "    <tr>\n",
       "      <th>3</th>\n",
       "      <td>60 - 69</td>\n",
       "      <td>60</td>\n",
       "      <td>69</td>\n",
       "    </tr>\n",
       "    <tr>\n",
       "      <th>4</th>\n",
       "      <td>70 - 79</td>\n",
       "      <td>70</td>\n",
       "      <td>79</td>\n",
       "    </tr>\n",
       "    <tr>\n",
       "      <th>5</th>\n",
       "      <td>80 - 89</td>\n",
       "      <td>80</td>\n",
       "      <td>89</td>\n",
       "    </tr>\n",
       "    <tr>\n",
       "      <th>6</th>\n",
       "      <td>90 - 99</td>\n",
       "      <td>90</td>\n",
       "      <td>99</td>\n",
       "    </tr>\n",
       "  </tbody>\n",
       "</table>\n",
       "</div>"
      ],
      "text/plain": [
       "  interval  batas_bawah  batas_atas\n",
       "0  30 - 39           30          39\n",
       "1  40 - 49           40          49\n",
       "2  50 - 59           50          59\n",
       "3  60 - 69           60          69\n",
       "4  70 - 79           70          79\n",
       "5  80 - 89           80          89\n",
       "6  90 - 99           90          99"
      ]
     },
     "execution_count": 6,
     "metadata": {},
     "output_type": "execute_result"
    }
   ],
   "source": [
    "from pandas import DataFrame as df\n",
    "import pandas as pd\n",
    "\n",
    "# Membuat list interval\n",
    "interval_kolom = [f\"{(30 ) + ((a*panjang_interval))} - {(30 + (panjang_interval*a)) + panjang_interval-1}\" for a in range (banyak_kelas)]\n",
    "batas_bawah_n = [(30 ) + ((a*panjang_interval)) for a in range (banyak_kelas)]\n",
    "batas_atas_n = [(30 + (panjang_interval*a)) + panjang_interval-1 for a in range (banyak_kelas)]\n",
    "\n",
    "# Transform into data frame\n",
    "main_df = df({\"interval\":interval_kolom, \"batas_bawah\":batas_bawah_n,\"batas_atas\":batas_atas_n})\n",
    "main_df"
   ]
  },
  {
   "cell_type": "markdown",
   "id": "a52c028f-b3ab-4d44-bce0-e8e13d1bc66a",
   "metadata": {
    "execution": {
     "iopub.execute_input": "2025-09-21T04:43:38.430253Z",
     "iopub.status.busy": "2025-09-21T04:43:38.429889Z",
     "iopub.status.idle": "2025-09-21T04:43:38.440743Z",
     "shell.execute_reply": "2025-09-21T04:43:38.439669Z",
     "shell.execute_reply.started": "2025-09-21T04:43:38.430225Z"
    }
   },
   "source": [
    "## menambahkan frekuensi nilai dari data asli\n",
    "\n",
    "Penggunaan _count if_ untuk menentukan banyaknya frekuensi dari setiap kelas."
   ]
  },
  {
   "cell_type": "code",
   "execution_count": 7,
   "id": "20eb090a-5093-4329-8b06-5d6a8da03b95",
   "metadata": {
    "execution": {
     "iopub.execute_input": "2025-09-21T14:36:15.389004Z",
     "iopub.status.busy": "2025-09-21T14:36:15.387259Z",
     "iopub.status.idle": "2025-09-21T14:36:15.395584Z",
     "shell.execute_reply": "2025-09-21T14:36:15.393889Z",
     "shell.execute_reply.started": "2025-09-21T14:36:15.388963Z"
    }
   },
   "outputs": [],
   "source": [
    "import numpy as np\n",
    "pd.set_option(\"display.max_colwidth\", None) \n",
    "data_np = np.array(data)"
   ]
  },
  {
   "cell_type": "code",
   "execution_count": 8,
   "id": "7f98987c-92f3-40c5-9c82-260bd3851b57",
   "metadata": {
    "execution": {
     "iopub.execute_input": "2025-09-21T14:36:15.398305Z",
     "iopub.status.busy": "2025-09-21T14:36:15.397572Z",
     "iopub.status.idle": "2025-09-21T14:36:15.418198Z",
     "shell.execute_reply": "2025-09-21T14:36:15.415703Z",
     "shell.execute_reply.started": "2025-09-21T14:36:15.398263Z"
    }
   },
   "outputs": [
    {
     "data": {
      "text/html": [
       "<div>\n",
       "<style scoped>\n",
       "    .dataframe tbody tr th:only-of-type {\n",
       "        vertical-align: middle;\n",
       "    }\n",
       "\n",
       "    .dataframe tbody tr th {\n",
       "        vertical-align: top;\n",
       "    }\n",
       "\n",
       "    .dataframe thead th {\n",
       "        text-align: right;\n",
       "    }\n",
       "</style>\n",
       "<table border=\"1\" class=\"dataframe\">\n",
       "  <thead>\n",
       "    <tr style=\"text-align: right;\">\n",
       "      <th></th>\n",
       "      <th>interval</th>\n",
       "      <th>batas_bawah</th>\n",
       "      <th>batas_atas</th>\n",
       "      <th>frekuensi</th>\n",
       "    </tr>\n",
       "  </thead>\n",
       "  <tbody>\n",
       "    <tr>\n",
       "      <th>0</th>\n",
       "      <td>30 - 39</td>\n",
       "      <td>30</td>\n",
       "      <td>39</td>\n",
       "      <td>2</td>\n",
       "    </tr>\n",
       "    <tr>\n",
       "      <th>1</th>\n",
       "      <td>40 - 49</td>\n",
       "      <td>40</td>\n",
       "      <td>49</td>\n",
       "      <td>3</td>\n",
       "    </tr>\n",
       "    <tr>\n",
       "      <th>2</th>\n",
       "      <td>50 - 59</td>\n",
       "      <td>50</td>\n",
       "      <td>59</td>\n",
       "      <td>3</td>\n",
       "    </tr>\n",
       "    <tr>\n",
       "      <th>3</th>\n",
       "      <td>60 - 69</td>\n",
       "      <td>60</td>\n",
       "      <td>69</td>\n",
       "      <td>11</td>\n",
       "    </tr>\n",
       "    <tr>\n",
       "      <th>4</th>\n",
       "      <td>70 - 79</td>\n",
       "      <td>70</td>\n",
       "      <td>79</td>\n",
       "      <td>24</td>\n",
       "    </tr>\n",
       "    <tr>\n",
       "      <th>5</th>\n",
       "      <td>80 - 89</td>\n",
       "      <td>80</td>\n",
       "      <td>89</td>\n",
       "      <td>22</td>\n",
       "    </tr>\n",
       "    <tr>\n",
       "      <th>6</th>\n",
       "      <td>90 - 99</td>\n",
       "      <td>90</td>\n",
       "      <td>99</td>\n",
       "      <td>15</td>\n",
       "    </tr>\n",
       "  </tbody>\n",
       "</table>\n",
       "</div>"
      ],
      "text/plain": [
       "  interval  batas_bawah  batas_atas  frekuensi\n",
       "0  30 - 39           30          39          2\n",
       "1  40 - 49           40          49          3\n",
       "2  50 - 59           50          59          3\n",
       "3  60 - 69           60          69         11\n",
       "4  70 - 79           70          79         24\n",
       "5  80 - 89           80          89         22\n",
       "6  90 - 99           90          99         15"
      ]
     },
     "metadata": {},
     "output_type": "display_data"
    }
   ],
   "source": [
    "main_df['frekuensi'] = [np.count_nonzero((data_np >= series.batas_bawah) & (data_np <= series.batas_atas)) for _,series in main_df.iterrows()]\n",
    "\n",
    "display(main_df)"
   ]
  },
  {
   "cell_type": "markdown",
   "id": "33a1d2ba-eb43-49d5-af5f-adb0c2f4251d",
   "metadata": {},
   "source": [
    "## Membuat kolom frekuensi kumulatif lebih dari dan kurang dari"
   ]
  },
  {
   "cell_type": "code",
   "execution_count": 9,
   "id": "3c35ce04-5a8c-4cec-a339-04de757d64cb",
   "metadata": {
    "execution": {
     "iopub.execute_input": "2025-09-21T14:36:15.421308Z",
     "iopub.status.busy": "2025-09-21T14:36:15.419979Z",
     "iopub.status.idle": "2025-09-21T14:36:15.432236Z",
     "shell.execute_reply": "2025-09-21T14:36:15.430550Z",
     "shell.execute_reply.started": "2025-09-21T14:36:15.421266Z"
    }
   },
   "outputs": [],
   "source": [
    "main_df[\"frekuensi_lebih_dari\"] = [np.count_nonzero(data_np> series.batas_bawah) for _,series in main_df.iterrows()]\n",
    "main_df[\"frekuensi_kurang_dari\"] = [np.count_nonzero(data_np< series.batas_bawah) for _,series in main_df.iterrows()]\n",
    "# main_df[\"frekuensi_kurang_dari_data\"] = [np.sort(data_np[data_np<main_df.loc[n].batas_bawah.item()]) for n in range (banyak_kelas)]"
   ]
  },
  {
   "cell_type": "code",
   "execution_count": 10,
   "id": "6ba1ad98-392e-45d3-89d6-6cf406d84794",
   "metadata": {
    "execution": {
     "iopub.execute_input": "2025-09-21T14:36:15.435218Z",
     "iopub.status.busy": "2025-09-21T14:36:15.434266Z",
     "iopub.status.idle": "2025-09-21T14:36:15.450650Z",
     "shell.execute_reply": "2025-09-21T14:36:15.449033Z",
     "shell.execute_reply.started": "2025-09-21T14:36:15.435173Z"
    }
   },
   "outputs": [
    {
     "data": {
      "text/html": [
       "<div>\n",
       "<style scoped>\n",
       "    .dataframe tbody tr th:only-of-type {\n",
       "        vertical-align: middle;\n",
       "    }\n",
       "\n",
       "    .dataframe tbody tr th {\n",
       "        vertical-align: top;\n",
       "    }\n",
       "\n",
       "    .dataframe thead th {\n",
       "        text-align: right;\n",
       "    }\n",
       "</style>\n",
       "<table border=\"1\" class=\"dataframe\">\n",
       "  <thead>\n",
       "    <tr style=\"text-align: right;\">\n",
       "      <th></th>\n",
       "      <th>interval</th>\n",
       "      <th>batas_bawah</th>\n",
       "      <th>batas_atas</th>\n",
       "      <th>frekuensi</th>\n",
       "      <th>frekuensi_lebih_dari</th>\n",
       "      <th>frekuensi_kurang_dari</th>\n",
       "    </tr>\n",
       "  </thead>\n",
       "  <tbody>\n",
       "    <tr>\n",
       "      <th>0</th>\n",
       "      <td>30 - 39</td>\n",
       "      <td>30</td>\n",
       "      <td>39</td>\n",
       "      <td>2</td>\n",
       "      <td>80</td>\n",
       "      <td>0</td>\n",
       "    </tr>\n",
       "    <tr>\n",
       "      <th>1</th>\n",
       "      <td>40 - 49</td>\n",
       "      <td>40</td>\n",
       "      <td>49</td>\n",
       "      <td>3</td>\n",
       "      <td>78</td>\n",
       "      <td>2</td>\n",
       "    </tr>\n",
       "    <tr>\n",
       "      <th>2</th>\n",
       "      <td>50 - 59</td>\n",
       "      <td>50</td>\n",
       "      <td>59</td>\n",
       "      <td>3</td>\n",
       "      <td>75</td>\n",
       "      <td>5</td>\n",
       "    </tr>\n",
       "    <tr>\n",
       "      <th>3</th>\n",
       "      <td>60 - 69</td>\n",
       "      <td>60</td>\n",
       "      <td>69</td>\n",
       "      <td>11</td>\n",
       "      <td>70</td>\n",
       "      <td>8</td>\n",
       "    </tr>\n",
       "    <tr>\n",
       "      <th>4</th>\n",
       "      <td>70 - 79</td>\n",
       "      <td>70</td>\n",
       "      <td>79</td>\n",
       "      <td>24</td>\n",
       "      <td>57</td>\n",
       "      <td>19</td>\n",
       "    </tr>\n",
       "    <tr>\n",
       "      <th>5</th>\n",
       "      <td>80 - 89</td>\n",
       "      <td>80</td>\n",
       "      <td>89</td>\n",
       "      <td>22</td>\n",
       "      <td>33</td>\n",
       "      <td>43</td>\n",
       "    </tr>\n",
       "    <tr>\n",
       "      <th>6</th>\n",
       "      <td>90 - 99</td>\n",
       "      <td>90</td>\n",
       "      <td>99</td>\n",
       "      <td>15</td>\n",
       "      <td>12</td>\n",
       "      <td>65</td>\n",
       "    </tr>\n",
       "  </tbody>\n",
       "</table>\n",
       "</div>"
      ],
      "text/plain": [
       "  interval  batas_bawah  batas_atas  frekuensi  frekuensi_lebih_dari  \\\n",
       "0  30 - 39           30          39          2                    80   \n",
       "1  40 - 49           40          49          3                    78   \n",
       "2  50 - 59           50          59          3                    75   \n",
       "3  60 - 69           60          69         11                    70   \n",
       "4  70 - 79           70          79         24                    57   \n",
       "5  80 - 89           80          89         22                    33   \n",
       "6  90 - 99           90          99         15                    12   \n",
       "\n",
       "   frekuensi_kurang_dari  \n",
       "0                      0  \n",
       "1                      2  \n",
       "2                      5  \n",
       "3                      8  \n",
       "4                     19  \n",
       "5                     43  \n",
       "6                     65  "
      ]
     },
     "execution_count": 10,
     "metadata": {},
     "output_type": "execute_result"
    }
   ],
   "source": [
    "main_df"
   ]
  },
  {
   "cell_type": "markdown",
   "id": "94f5fc5d-2047-4a7b-b62a-28b34c6d825d",
   "metadata": {},
   "source": [
    "### Additional move, karena kurang informasi terkait nila frekuensi kurang dari akibat kekurangan 1 baris, maka kita perlu menambahkan row baru"
   ]
  },
  {
   "cell_type": "code",
   "execution_count": 11,
   "id": "dd810684-ec3b-4bc4-8925-0eedadb93993",
   "metadata": {
    "execution": {
     "iopub.execute_input": "2025-09-21T14:36:15.453061Z",
     "iopub.status.busy": "2025-09-21T14:36:15.452365Z",
     "iopub.status.idle": "2025-09-21T14:36:15.466185Z",
     "shell.execute_reply": "2025-09-21T14:36:15.464496Z",
     "shell.execute_reply.started": "2025-09-21T14:36:15.453023Z"
    }
   },
   "outputs": [],
   "source": [
    "# check apakah frekuensi batas bawah lebih kecil adri \n",
    "last_series_main_df = main_df.iloc[-1]\n",
    "if last_series_main_df.frekuensi_kurang_dari.item() < len(data):\n",
    "    \n",
    "    # Jik ternyata data akhir kurang dari batas akhir tidak \n",
    "    last_index = main_df.index[-1] \n",
    "\n",
    "    batas_bawah_additional = last_series_main_df.batas_bawah.item() + panjang_interval # batas bawah terakhir ditambah banyak interval\n",
    "\n",
    "    frekuensi_kurang_dari_additional = np.count_nonzero(data_np < batas_bawah_additional)\n",
    "    frekuensi_lebih_dari_additional = np.count_nonzero(data_np > batas_bawah_additional)\n",
    "    \n",
    "    main_df.loc[last_index+1] = ['',batas_bawah_additional,0,0,frekuensi_lebih_dari_additional,frekuensi_kurang_dari_additional]\n",
    "else :\n",
    "    print(\"already sama masse\")"
   ]
  },
  {
   "cell_type": "code",
   "execution_count": 12,
   "id": "419ebbd3-7bfe-4e5d-8b63-6128f68dd2d6",
   "metadata": {
    "execution": {
     "iopub.execute_input": "2025-09-21T14:36:15.468793Z",
     "iopub.status.busy": "2025-09-21T14:36:15.468029Z",
     "iopub.status.idle": "2025-09-21T14:36:15.484921Z",
     "shell.execute_reply": "2025-09-21T14:36:15.482687Z",
     "shell.execute_reply.started": "2025-09-21T14:36:15.468749Z"
    }
   },
   "outputs": [
    {
     "data": {
      "text/html": [
       "<div>\n",
       "<style scoped>\n",
       "    .dataframe tbody tr th:only-of-type {\n",
       "        vertical-align: middle;\n",
       "    }\n",
       "\n",
       "    .dataframe tbody tr th {\n",
       "        vertical-align: top;\n",
       "    }\n",
       "\n",
       "    .dataframe thead th {\n",
       "        text-align: right;\n",
       "    }\n",
       "</style>\n",
       "<table border=\"1\" class=\"dataframe\">\n",
       "  <thead>\n",
       "    <tr style=\"text-align: right;\">\n",
       "      <th></th>\n",
       "      <th>interval</th>\n",
       "      <th>batas_bawah</th>\n",
       "      <th>batas_atas</th>\n",
       "      <th>frekuensi</th>\n",
       "      <th>frekuensi_lebih_dari</th>\n",
       "      <th>frekuensi_kurang_dari</th>\n",
       "    </tr>\n",
       "  </thead>\n",
       "  <tbody>\n",
       "    <tr>\n",
       "      <th>0</th>\n",
       "      <td>30 - 39</td>\n",
       "      <td>30</td>\n",
       "      <td>39</td>\n",
       "      <td>2</td>\n",
       "      <td>80</td>\n",
       "      <td>0</td>\n",
       "    </tr>\n",
       "    <tr>\n",
       "      <th>1</th>\n",
       "      <td>40 - 49</td>\n",
       "      <td>40</td>\n",
       "      <td>49</td>\n",
       "      <td>3</td>\n",
       "      <td>78</td>\n",
       "      <td>2</td>\n",
       "    </tr>\n",
       "    <tr>\n",
       "      <th>2</th>\n",
       "      <td>50 - 59</td>\n",
       "      <td>50</td>\n",
       "      <td>59</td>\n",
       "      <td>3</td>\n",
       "      <td>75</td>\n",
       "      <td>5</td>\n",
       "    </tr>\n",
       "    <tr>\n",
       "      <th>3</th>\n",
       "      <td>60 - 69</td>\n",
       "      <td>60</td>\n",
       "      <td>69</td>\n",
       "      <td>11</td>\n",
       "      <td>70</td>\n",
       "      <td>8</td>\n",
       "    </tr>\n",
       "    <tr>\n",
       "      <th>4</th>\n",
       "      <td>70 - 79</td>\n",
       "      <td>70</td>\n",
       "      <td>79</td>\n",
       "      <td>24</td>\n",
       "      <td>57</td>\n",
       "      <td>19</td>\n",
       "    </tr>\n",
       "    <tr>\n",
       "      <th>5</th>\n",
       "      <td>80 - 89</td>\n",
       "      <td>80</td>\n",
       "      <td>89</td>\n",
       "      <td>22</td>\n",
       "      <td>33</td>\n",
       "      <td>43</td>\n",
       "    </tr>\n",
       "    <tr>\n",
       "      <th>6</th>\n",
       "      <td>90 - 99</td>\n",
       "      <td>90</td>\n",
       "      <td>99</td>\n",
       "      <td>15</td>\n",
       "      <td>12</td>\n",
       "      <td>65</td>\n",
       "    </tr>\n",
       "    <tr>\n",
       "      <th>7</th>\n",
       "      <td></td>\n",
       "      <td>100</td>\n",
       "      <td>0</td>\n",
       "      <td>0</td>\n",
       "      <td>0</td>\n",
       "      <td>80</td>\n",
       "    </tr>\n",
       "  </tbody>\n",
       "</table>\n",
       "</div>"
      ],
      "text/plain": [
       "  interval  batas_bawah  batas_atas  frekuensi  frekuensi_lebih_dari  \\\n",
       "0  30 - 39           30          39          2                    80   \n",
       "1  40 - 49           40          49          3                    78   \n",
       "2  50 - 59           50          59          3                    75   \n",
       "3  60 - 69           60          69         11                    70   \n",
       "4  70 - 79           70          79         24                    57   \n",
       "5  80 - 89           80          89         22                    33   \n",
       "6  90 - 99           90          99         15                    12   \n",
       "7                   100           0          0                     0   \n",
       "\n",
       "   frekuensi_kurang_dari  \n",
       "0                      0  \n",
       "1                      2  \n",
       "2                      5  \n",
       "3                      8  \n",
       "4                     19  \n",
       "5                     43  \n",
       "6                     65  \n",
       "7                     80  "
      ]
     },
     "execution_count": 12,
     "metadata": {},
     "output_type": "execute_result"
    }
   ],
   "source": [
    "main_df"
   ]
  },
  {
   "cell_type": "markdown",
   "id": "41108978-cadc-4b10-b869-939795695378",
   "metadata": {
    "execution": {
     "iopub.execute_input": "2025-09-21T09:01:39.439213Z",
     "iopub.status.busy": "2025-09-21T09:01:39.438818Z",
     "iopub.status.idle": "2025-09-21T09:01:39.444223Z",
     "shell.execute_reply": "2025-09-21T09:01:39.443010Z",
     "shell.execute_reply.started": "2025-09-21T09:01:39.439185Z"
    }
   },
   "source": [
    "## Persen kumulatif kurang dari dab lebih dari"
   ]
  },
  {
   "cell_type": "code",
   "execution_count": 13,
   "id": "7962c791-261b-4fe4-818e-cca911d382d9",
   "metadata": {
    "execution": {
     "iopub.execute_input": "2025-09-21T14:36:15.487479Z",
     "iopub.status.busy": "2025-09-21T14:36:15.486750Z",
     "iopub.status.idle": "2025-09-21T14:36:15.496570Z",
     "shell.execute_reply": "2025-09-21T14:36:15.494498Z",
     "shell.execute_reply.started": "2025-09-21T14:36:15.487442Z"
    }
   },
   "outputs": [],
   "source": [
    "main_df['persen_kumulatif_lebih_dari'] = (main_df.frekuensi_lebih_dari / len(data))\n",
    "main_df['persen_kumulatif_kurang_dari'] = (main_df.frekuensi_kurang_dari / len(data))"
   ]
  },
  {
   "cell_type": "code",
   "execution_count": 14,
   "id": "ac396d60-7d4d-477e-beb7-70730c2b8ec5",
   "metadata": {
    "execution": {
     "iopub.execute_input": "2025-09-21T14:36:15.499545Z",
     "iopub.status.busy": "2025-09-21T14:36:15.498933Z",
     "iopub.status.idle": "2025-09-21T14:36:15.518270Z",
     "shell.execute_reply": "2025-09-21T14:36:15.516471Z",
     "shell.execute_reply.started": "2025-09-21T14:36:15.499505Z"
    }
   },
   "outputs": [
    {
     "data": {
      "text/html": [
       "<div>\n",
       "<style scoped>\n",
       "    .dataframe tbody tr th:only-of-type {\n",
       "        vertical-align: middle;\n",
       "    }\n",
       "\n",
       "    .dataframe tbody tr th {\n",
       "        vertical-align: top;\n",
       "    }\n",
       "\n",
       "    .dataframe thead th {\n",
       "        text-align: right;\n",
       "    }\n",
       "</style>\n",
       "<table border=\"1\" class=\"dataframe\">\n",
       "  <thead>\n",
       "    <tr style=\"text-align: right;\">\n",
       "      <th></th>\n",
       "      <th>interval</th>\n",
       "      <th>batas_bawah</th>\n",
       "      <th>batas_atas</th>\n",
       "      <th>frekuensi</th>\n",
       "      <th>frekuensi_lebih_dari</th>\n",
       "      <th>frekuensi_kurang_dari</th>\n",
       "      <th>persen_kumulatif_lebih_dari</th>\n",
       "      <th>persen_kumulatif_kurang_dari</th>\n",
       "    </tr>\n",
       "  </thead>\n",
       "  <tbody>\n",
       "    <tr>\n",
       "      <th>0</th>\n",
       "      <td>30 - 39</td>\n",
       "      <td>30</td>\n",
       "      <td>39</td>\n",
       "      <td>2</td>\n",
       "      <td>80</td>\n",
       "      <td>0</td>\n",
       "      <td>1.0000</td>\n",
       "      <td>0.0000</td>\n",
       "    </tr>\n",
       "    <tr>\n",
       "      <th>1</th>\n",
       "      <td>40 - 49</td>\n",
       "      <td>40</td>\n",
       "      <td>49</td>\n",
       "      <td>3</td>\n",
       "      <td>78</td>\n",
       "      <td>2</td>\n",
       "      <td>0.9750</td>\n",
       "      <td>0.0250</td>\n",
       "    </tr>\n",
       "    <tr>\n",
       "      <th>2</th>\n",
       "      <td>50 - 59</td>\n",
       "      <td>50</td>\n",
       "      <td>59</td>\n",
       "      <td>3</td>\n",
       "      <td>75</td>\n",
       "      <td>5</td>\n",
       "      <td>0.9375</td>\n",
       "      <td>0.0625</td>\n",
       "    </tr>\n",
       "    <tr>\n",
       "      <th>3</th>\n",
       "      <td>60 - 69</td>\n",
       "      <td>60</td>\n",
       "      <td>69</td>\n",
       "      <td>11</td>\n",
       "      <td>70</td>\n",
       "      <td>8</td>\n",
       "      <td>0.8750</td>\n",
       "      <td>0.1000</td>\n",
       "    </tr>\n",
       "    <tr>\n",
       "      <th>4</th>\n",
       "      <td>70 - 79</td>\n",
       "      <td>70</td>\n",
       "      <td>79</td>\n",
       "      <td>24</td>\n",
       "      <td>57</td>\n",
       "      <td>19</td>\n",
       "      <td>0.7125</td>\n",
       "      <td>0.2375</td>\n",
       "    </tr>\n",
       "    <tr>\n",
       "      <th>5</th>\n",
       "      <td>80 - 89</td>\n",
       "      <td>80</td>\n",
       "      <td>89</td>\n",
       "      <td>22</td>\n",
       "      <td>33</td>\n",
       "      <td>43</td>\n",
       "      <td>0.4125</td>\n",
       "      <td>0.5375</td>\n",
       "    </tr>\n",
       "    <tr>\n",
       "      <th>6</th>\n",
       "      <td>90 - 99</td>\n",
       "      <td>90</td>\n",
       "      <td>99</td>\n",
       "      <td>15</td>\n",
       "      <td>12</td>\n",
       "      <td>65</td>\n",
       "      <td>0.1500</td>\n",
       "      <td>0.8125</td>\n",
       "    </tr>\n",
       "    <tr>\n",
       "      <th>7</th>\n",
       "      <td></td>\n",
       "      <td>100</td>\n",
       "      <td>0</td>\n",
       "      <td>0</td>\n",
       "      <td>0</td>\n",
       "      <td>80</td>\n",
       "      <td>0.0000</td>\n",
       "      <td>1.0000</td>\n",
       "    </tr>\n",
       "  </tbody>\n",
       "</table>\n",
       "</div>"
      ],
      "text/plain": [
       "  interval  batas_bawah  batas_atas  frekuensi  frekuensi_lebih_dari  \\\n",
       "0  30 - 39           30          39          2                    80   \n",
       "1  40 - 49           40          49          3                    78   \n",
       "2  50 - 59           50          59          3                    75   \n",
       "3  60 - 69           60          69         11                    70   \n",
       "4  70 - 79           70          79         24                    57   \n",
       "5  80 - 89           80          89         22                    33   \n",
       "6  90 - 99           90          99         15                    12   \n",
       "7                   100           0          0                     0   \n",
       "\n",
       "   frekuensi_kurang_dari  persen_kumulatif_lebih_dari  \\\n",
       "0                      0                       1.0000   \n",
       "1                      2                       0.9750   \n",
       "2                      5                       0.9375   \n",
       "3                      8                       0.8750   \n",
       "4                     19                       0.7125   \n",
       "5                     43                       0.4125   \n",
       "6                     65                       0.1500   \n",
       "7                     80                       0.0000   \n",
       "\n",
       "   persen_kumulatif_kurang_dari  \n",
       "0                        0.0000  \n",
       "1                        0.0250  \n",
       "2                        0.0625  \n",
       "3                        0.1000  \n",
       "4                        0.2375  \n",
       "5                        0.5375  \n",
       "6                        0.8125  \n",
       "7                        1.0000  "
      ]
     },
     "execution_count": 14,
     "metadata": {},
     "output_type": "execute_result"
    }
   ],
   "source": [
    "main_df"
   ]
  },
  {
   "cell_type": "markdown",
   "id": "7bdf318f-7d43-45d0-a85c-9400024310cb",
   "metadata": {
    "execution": {
     "iopub.execute_input": "2025-09-21T09:26:44.791796Z",
     "iopub.status.busy": "2025-09-21T09:26:44.791403Z",
     "iopub.status.idle": "2025-09-21T09:26:44.795353Z",
     "shell.execute_reply": "2025-09-21T09:26:44.794573Z",
     "shell.execute_reply.started": "2025-09-21T09:26:44.791770Z"
    }
   },
   "source": [
    "# Membuat histogram"
   ]
  },
  {
   "cell_type": "code",
   "execution_count": 15,
   "id": "f7c954ea-26a2-4878-9bcb-8eb605bfc577",
   "metadata": {
    "execution": {
     "iopub.execute_input": "2025-09-21T14:36:15.520964Z",
     "iopub.status.busy": "2025-09-21T14:36:15.520242Z",
     "iopub.status.idle": "2025-09-21T14:36:18.077030Z",
     "shell.execute_reply": "2025-09-21T14:36:18.075639Z",
     "shell.execute_reply.started": "2025-09-21T14:36:15.520926Z"
    }
   },
   "outputs": [],
   "source": [
    "import matplotlib.pyplot as plt\n",
    "import seaborn as sns\n",
    "import mplcursors"
   ]
  },
  {
   "cell_type": "code",
   "execution_count": 16,
   "id": "e3c9ee7d-04dc-4131-9e84-fadccbe9079a",
   "metadata": {
    "execution": {
     "iopub.execute_input": "2025-09-21T14:36:18.079400Z",
     "iopub.status.busy": "2025-09-21T14:36:18.078503Z",
     "iopub.status.idle": "2025-09-21T14:36:18.407500Z",
     "shell.execute_reply": "2025-09-21T14:36:18.406040Z",
     "shell.execute_reply.started": "2025-09-21T14:36:18.079363Z"
    }
   },
   "outputs": [
    {
     "data": {
      "image/png": "[encoded data removed]",
      "text/plain": [
       "<Figure size 640x480 with 1 Axes>"
      ]
     },
     "metadata": {},
     "output_type": "display_data"
    }
   ],
   "source": [
    "sns.histplot(data, bins=main_df.batas_bawah.to_numpy(), kde=True, color=\"green\")\n",
    "plt.title('Histogram')\n",
    "plt.xlabel('Rentang nilai')\n",
    "plt.ylabel('Frekuensi')\n",
    "mplcursors.cursor(hover=True)\n",
    "plt.show(sns)"
   ]
  },
  {
   "cell_type": "markdown",
   "id": "24123acc-d4c3-406c-bc33-e07a88d11261",
   "metadata": {},
   "source": [
    "## Membuat OGIF Frekuensi"
   ]
  },
  {
   "cell_type": "code",
   "execution_count": 18,
   "id": "200fee27-5284-482c-8e6e-dcbe423aa856",
   "metadata": {
    "execution": {
     "iopub.execute_input": "2025-09-21T15:08:44.215385Z",
     "iopub.status.busy": "2025-09-21T15:08:44.215000Z",
     "iopub.status.idle": "2025-09-21T15:08:44.522008Z",
     "shell.execute_reply": "2025-09-21T15:08:44.520553Z",
     "shell.execute_reply.started": "2025-09-21T15:08:44.215357Z"
    }
   },
   "outputs": [
    {
     "data": {
      "image/png": "[encoded data removed]",
      "text/plain": [
       "<Figure size 640x480 with 1 Axes>"
      ]
     },
     "metadata": {},
     "output_type": "display_data"
    }
   ],
   "source": [
    "plt.title(\"OGIF Frekuensi\")\n",
    "ax = sns.lineplot(data=main_df, x=\"batas_bawah\",y=\"frekuensi_kurang_dari\",marker=\"o\", dashes=False)\n",
    "sns.lineplot(data=main_df[:-1], x=\"batas_atas\",y=\"frekuensi_lebih_dari\",marker=\"o\")\n",
    "plt.show(sns)"
   ]
  }
 ],
 "metadata": {
  "kernelspec": {
   "display_name": "Python 3 (ipykernel)",
   "language": "python",
   "name": "python3"
  },
  "language_info": {
   "codemirror_mode": {
    "name": "ipython",
    "version": 3
   },
   "file_extension": ".py",
   "mimetype": "text/x-python",
   "name": "python",
   "nbconvert_exporter": "python",
   "pygments_lexer": "ipython3",
   "version": "3.13.5"
  }
 },
 "nbformat": 4,
 "nbformat_minor": 5
}
