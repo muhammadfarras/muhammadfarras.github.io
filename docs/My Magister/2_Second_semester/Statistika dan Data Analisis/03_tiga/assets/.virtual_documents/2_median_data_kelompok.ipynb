import pandas as pd
import numpy as np


lower_bond = np.asarray([3,8,13,18,23,28] )
upper_bond = lower_bond + 4
frekuensi = [3,6,3,4,2,5]

pd_data = pd.DataFrame({"lower_bond":lower_bond, "upper_bond":upper_bond, "frekuensi":frekuensi})
pd_data





## Membuat frekuensi kumulatifabs
frekuensi_kumulatif = [sum(pd_data.frekuensi[0:a+1]) for a,b in enumerate(pd_data.frekuensi)]


frekuensi_kumulatif


pd_data["frekuensi_kumulatif"] = frekuensi_kumulatif
pd_data


print(f'Nilai tengahan kemungkinan ada di interval = {pd_data.frekuensi_kumulatif[-1:]/2 }')





color = "lightgreen"
pd_data.style.map(lambda _: f"background-color: {color}",
                  subset=(pd_data.index[2],))





batas_bawah_kelas_median = pd_data.lower_bond[2]
n_per_2 = pd_data.frekuensi_kumulatif[-1:].iloc[0]/2
interval = (pd_data.upper_bond[2] - pd_data.lower_bond[2]) +1
frekuensi_cum_before_current_median_class = pd_data.frekuensi_kumulatif[1]
frekuens_on_current_medial_class = pd_data.frekuensi[2]

print(batas_bawah_kelas_median)
print(n_per_2)
print(interval)
print(frekuensi_cum_before_current_median_class)
print(frekuens_on_current_medial_class)





median = (batas_bawah_kelas_median-0.5) + (((n_per_2 - frekuensi_cum_before_current_median_class)/frekuens_on_current_medial_class) * interval)
median



