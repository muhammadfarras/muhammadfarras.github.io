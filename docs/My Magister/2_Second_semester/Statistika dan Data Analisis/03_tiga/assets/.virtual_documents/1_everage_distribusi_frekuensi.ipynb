import numpy as np
import pandas as pd


lower_bond = [33,26,19,12,5]
upper_bond = [39,32,25,18,11]
frekuensi = [2,8,19,20,11] 

data_frekuensi = pd.DataFrame({'lower_bond':lower_bond, 'upper_bond':upper_bond, 'frekuensi':frekuensi})
data_frekuensi





data_frekuensi['midle_value'] = np.array((data_frekuensi.lower_bond + data_frekuensi.upper_bond)/2, dtype=np.int64)
data_frekuensi





data_frekuensi['fX'] = data_frekuensi.frekuensi * data_frekuensi.midle_value
data_frekuensi





average = sum(data_frekuensi.fX) / sum (frekuensi)
average



