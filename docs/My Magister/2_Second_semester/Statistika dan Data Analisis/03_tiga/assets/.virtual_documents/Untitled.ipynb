import pandas as pd
import numpy as np


lower_bond = np.asarray([3,5,13,18,23,28] )
upper_bond = lower_bond + 4
frekuensi = [3,6,3,4,2,5]

pd_data = pd.DataFrame({"lower_bond":lower_bond, "upper_bond":upper_bond, "frekuensi":frekuensi})
pd_data





## Membuat frekuensi kumulatifabs
frekuensi_kumulatif = [sum(pd_data.frekuensi[0:a+1]) for a,b in enumerate(pd_data.frekuensi)]


frekuensi_kumulatif


pd_data["frekuensi_kumulatif"] = frekuensi_kumulatif
pd_data


print(f'Nilai tengahan kemungkinan ada di interval = {pd_data.frekuensi_kumulatif[-1:]/2 }')






meadn = 



