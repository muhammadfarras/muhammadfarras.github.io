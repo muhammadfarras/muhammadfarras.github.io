{
 "cells": [
  {
   "cell_type": "code",
   "execution_count": 1,
   "id": "099b0c6b-7a84-4433-9d3d-2cc4b6781fbe",
   "metadata": {
    "execution": {
     "iopub.execute_input": "2025-10-01T00:13:56.364232Z",
     "iopub.status.busy": "2025-10-01T00:13:56.363825Z",
     "iopub.status.idle": "2025-10-01T00:13:56.634283Z",
     "shell.execute_reply": "2025-10-01T00:13:56.633827Z",
     "shell.execute_reply.started": "2025-10-01T00:13:56.364208Z"
    }
   },
   "outputs": [],
   "source": [
    "import numpy as np\n",
    "import pandas as pd"
   ]
  },
  {
   "cell_type": "code",
   "execution_count": 2,
   "id": "8d3ecffc-788f-4bc4-9992-be8f32949777",
   "metadata": {
    "execution": {
     "iopub.execute_input": "2025-10-01T00:13:56.635232Z",
     "iopub.status.busy": "2025-10-01T00:13:56.634882Z",
     "iopub.status.idle": "2025-10-01T00:13:56.647584Z",
     "shell.execute_reply": "2025-10-01T00:13:56.646806Z",
     "shell.execute_reply.started": "2025-10-01T00:13:56.635215Z"
    }
   },
   "outputs": [
    {
     "data": {
      "text/html": [
       "<div>\n",
       "<style scoped>\n",
       "    .dataframe tbody tr th:only-of-type {\n",
       "        vertical-align: middle;\n",
       "    }\n",
       "\n",
       "    .dataframe tbody tr th {\n",
       "        vertical-align: top;\n",
       "    }\n",
       "\n",
       "    .dataframe thead th {\n",
       "        text-align: right;\n",
       "    }\n",
       "</style>\n",
       "<table border=\"1\" class=\"dataframe\">\n",
       "  <thead>\n",
       "    <tr style=\"text-align: right;\">\n",
       "      <th></th>\n",
       "      <th>lower_bond</th>\n",
       "      <th>upper_bond</th>\n",
       "      <th>frekuensi</th>\n",
       "    </tr>\n",
       "  </thead>\n",
       "  <tbody>\n",
       "    <tr>\n",
       "      <th>0</th>\n",
       "      <td>33</td>\n",
       "      <td>39</td>\n",
       "      <td>2</td>\n",
       "    </tr>\n",
       "    <tr>\n",
       "      <th>1</th>\n",
       "      <td>26</td>\n",
       "      <td>32</td>\n",
       "      <td>8</td>\n",
       "    </tr>\n",
       "    <tr>\n",
       "      <th>2</th>\n",
       "      <td>19</td>\n",
       "      <td>25</td>\n",
       "      <td>19</td>\n",
       "    </tr>\n",
       "    <tr>\n",
       "      <th>3</th>\n",
       "      <td>12</td>\n",
       "      <td>18</td>\n",
       "      <td>20</td>\n",
       "    </tr>\n",
       "    <tr>\n",
       "      <th>4</th>\n",
       "      <td>5</td>\n",
       "      <td>11</td>\n",
       "      <td>11</td>\n",
       "    </tr>\n",
       "  </tbody>\n",
       "</table>\n",
       "</div>"
      ],
      "text/plain": [
       "   lower_bond  upper_bond  frekuensi\n",
       "0          33          39          2\n",
       "1          26          32          8\n",
       "2          19          25         19\n",
       "3          12          18         20\n",
       "4           5          11         11"
      ]
     },
     "execution_count": 2,
     "metadata": {},
     "output_type": "execute_result"
    }
   ],
   "source": [
    "lower_bond = [33,26,19,12,5]\n",
    "upper_bond = [39,32,25,18,11]\n",
    "frekuensi = [2,8,19,20,11] \n",
    "\n",
    "data_frekuensi = pd.DataFrame({'lower_bond':lower_bond, 'upper_bond':upper_bond, 'frekuensi':frekuensi})\n",
    "data_frekuensi"
   ]
  },
  {
   "cell_type": "markdown",
   "id": "f5b3a1bf-9daa-4311-a6d0-4dd6215db1eb",
   "metadata": {},
   "source": [
    "## Setup midle value in class"
   ]
  },
  {
   "cell_type": "code",
   "execution_count": 3,
   "id": "fc601953-f5d5-4e04-aa6e-da2801c225b3",
   "metadata": {
    "execution": {
     "iopub.execute_input": "2025-10-01T00:13:56.648430Z",
     "iopub.status.busy": "2025-10-01T00:13:56.648209Z",
     "iopub.status.idle": "2025-10-01T00:13:56.656235Z",
     "shell.execute_reply": "2025-10-01T00:13:56.655359Z",
     "shell.execute_reply.started": "2025-10-01T00:13:56.648412Z"
    }
   },
   "outputs": [
    {
     "data": {
      "text/html": [
       "<div>\n",
       "<style scoped>\n",
       "    .dataframe tbody tr th:only-of-type {\n",
       "        vertical-align: middle;\n",
       "    }\n",
       "\n",
       "    .dataframe tbody tr th {\n",
       "        vertical-align: top;\n",
       "    }\n",
       "\n",
       "    .dataframe thead th {\n",
       "        text-align: right;\n",
       "    }\n",
       "</style>\n",
       "<table border=\"1\" class=\"dataframe\">\n",
       "  <thead>\n",
       "    <tr style=\"text-align: right;\">\n",
       "      <th></th>\n",
       "      <th>lower_bond</th>\n",
       "      <th>upper_bond</th>\n",
       "      <th>frekuensi</th>\n",
       "      <th>midle_value</th>\n",
       "    </tr>\n",
       "  </thead>\n",
       "  <tbody>\n",
       "    <tr>\n",
       "      <th>0</th>\n",
       "      <td>33</td>\n",
       "      <td>39</td>\n",
       "      <td>2</td>\n",
       "      <td>36</td>\n",
       "    </tr>\n",
       "    <tr>\n",
       "      <th>1</th>\n",
       "      <td>26</td>\n",
       "      <td>32</td>\n",
       "      <td>8</td>\n",
       "      <td>29</td>\n",
       "    </tr>\n",
       "    <tr>\n",
       "      <th>2</th>\n",
       "      <td>19</td>\n",
       "      <td>25</td>\n",
       "      <td>19</td>\n",
       "      <td>22</td>\n",
       "    </tr>\n",
       "    <tr>\n",
       "      <th>3</th>\n",
       "      <td>12</td>\n",
       "      <td>18</td>\n",
       "      <td>20</td>\n",
       "      <td>15</td>\n",
       "    </tr>\n",
       "    <tr>\n",
       "      <th>4</th>\n",
       "      <td>5</td>\n",
       "      <td>11</td>\n",
       "      <td>11</td>\n",
       "      <td>8</td>\n",
       "    </tr>\n",
       "  </tbody>\n",
       "</table>\n",
       "</div>"
      ],
      "text/plain": [
       "   lower_bond  upper_bond  frekuensi  midle_value\n",
       "0          33          39          2           36\n",
       "1          26          32          8           29\n",
       "2          19          25         19           22\n",
       "3          12          18         20           15\n",
       "4           5          11         11            8"
      ]
     },
     "execution_count": 3,
     "metadata": {},
     "output_type": "execute_result"
    }
   ],
   "source": [
    "data_frekuensi['midle_value'] = np.array((data_frekuensi.lower_bond + data_frekuensi.upper_bond)/2, dtype=np.int64)\n",
    "data_frekuensi"
   ]
  },
  {
   "cell_type": "markdown",
   "id": "9aa7077b-4db3-460c-a193-45620cc01226",
   "metadata": {},
   "source": [
    "\n",
    "## Setup f . X"
   ]
  },
  {
   "cell_type": "code",
   "execution_count": 4,
   "id": "ed2d4a3e-318c-4a58-bb03-876ce3639836",
   "metadata": {
    "execution": {
     "iopub.execute_input": "2025-10-01T00:13:56.657969Z",
     "iopub.status.busy": "2025-10-01T00:13:56.657459Z",
     "iopub.status.idle": "2025-10-01T00:13:56.665163Z",
     "shell.execute_reply": "2025-10-01T00:13:56.664390Z",
     "shell.execute_reply.started": "2025-10-01T00:13:56.657948Z"
    }
   },
   "outputs": [
    {
     "data": {
      "text/html": [
       "<div>\n",
       "<style scoped>\n",
       "    .dataframe tbody tr th:only-of-type {\n",
       "        vertical-align: middle;\n",
       "    }\n",
       "\n",
       "    .dataframe tbody tr th {\n",
       "        vertical-align: top;\n",
       "    }\n",
       "\n",
       "    .dataframe thead th {\n",
       "        text-align: right;\n",
       "    }\n",
       "</style>\n",
       "<table border=\"1\" class=\"dataframe\">\n",
       "  <thead>\n",
       "    <tr style=\"text-align: right;\">\n",
       "      <th></th>\n",
       "      <th>lower_bond</th>\n",
       "      <th>upper_bond</th>\n",
       "      <th>frekuensi</th>\n",
       "      <th>midle_value</th>\n",
       "      <th>fX</th>\n",
       "    </tr>\n",
       "  </thead>\n",
       "  <tbody>\n",
       "    <tr>\n",
       "      <th>0</th>\n",
       "      <td>33</td>\n",
       "      <td>39</td>\n",
       "      <td>2</td>\n",
       "      <td>36</td>\n",
       "      <td>72</td>\n",
       "    </tr>\n",
       "    <tr>\n",
       "      <th>1</th>\n",
       "      <td>26</td>\n",
       "      <td>32</td>\n",
       "      <td>8</td>\n",
       "      <td>29</td>\n",
       "      <td>232</td>\n",
       "    </tr>\n",
       "    <tr>\n",
       "      <th>2</th>\n",
       "      <td>19</td>\n",
       "      <td>25</td>\n",
       "      <td>19</td>\n",
       "      <td>22</td>\n",
       "      <td>418</td>\n",
       "    </tr>\n",
       "    <tr>\n",
       "      <th>3</th>\n",
       "      <td>12</td>\n",
       "      <td>18</td>\n",
       "      <td>20</td>\n",
       "      <td>15</td>\n",
       "      <td>300</td>\n",
       "    </tr>\n",
       "    <tr>\n",
       "      <th>4</th>\n",
       "      <td>5</td>\n",
       "      <td>11</td>\n",
       "      <td>11</td>\n",
       "      <td>8</td>\n",
       "      <td>88</td>\n",
       "    </tr>\n",
       "  </tbody>\n",
       "</table>\n",
       "</div>"
      ],
      "text/plain": [
       "   lower_bond  upper_bond  frekuensi  midle_value   fX\n",
       "0          33          39          2           36   72\n",
       "1          26          32          8           29  232\n",
       "2          19          25         19           22  418\n",
       "3          12          18         20           15  300\n",
       "4           5          11         11            8   88"
      ]
     },
     "execution_count": 4,
     "metadata": {},
     "output_type": "execute_result"
    }
   ],
   "source": [
    "data_frekuensi['fX'] = data_frekuensi.frekuensi * data_frekuensi.midle_value\n",
    "data_frekuensi"
   ]
  },
  {
   "cell_type": "markdown",
   "id": "582225b6-c921-4db3-95c6-bb3260a559d4",
   "metadata": {
    "execution": {
     "iopub.execute_input": "2025-10-01T00:11:08.137516Z",
     "iopub.status.busy": "2025-10-01T00:11:08.137175Z",
     "iopub.status.idle": "2025-10-01T00:11:08.142185Z",
     "shell.execute_reply": "2025-10-01T00:11:08.141318Z",
     "shell.execute_reply.started": "2025-10-01T00:11:08.137491Z"
    }
   },
   "source": [
    "## Masukan ke rumus mean untuk data table frekuensi"
   ]
  },
  {
   "cell_type": "code",
   "execution_count": 5,
   "id": "208cf17b-35b7-42b6-999e-a24d4fa61dc3",
   "metadata": {
    "execution": {
     "iopub.execute_input": "2025-10-01T00:13:56.667028Z",
     "iopub.status.busy": "2025-10-01T00:13:56.666511Z",
     "iopub.status.idle": "2025-10-01T00:13:56.671492Z",
     "shell.execute_reply": "2025-10-01T00:13:56.670918Z",
     "shell.execute_reply.started": "2025-10-01T00:13:56.667003Z"
    }
   },
   "outputs": [
    {
     "data": {
      "text/plain": [
       "18.5"
      ]
     },
     "execution_count": 5,
     "metadata": {},
     "output_type": "execute_result"
    }
   ],
   "source": [
    "average = sum(data_frekuensi.fX) / sum (frekuensi)\n",
    "average"
   ]
  },
  {
   "cell_type": "markdown",
   "id": "e7a1ed4c-6f95-46c0-a032-4e5bf3294790",
   "metadata": {},
   "source": [
    "Kita mendapati nilai rata-rata pada hipmunan distribusi frekuensi di atas adalah **18.5**"
   ]
  }
 ],
 "metadata": {
  "kernelspec": {
   "display_name": "Python 3 (ipykernel)",
   "language": "python",
   "name": "python3"
  },
  "language_info": {
   "codemirror_mode": {
    "name": "ipython",
    "version": 3
   },
   "file_extension": ".py",
   "mimetype": "text/x-python",
   "name": "python",
   "nbconvert_exporter": "python",
   "pygments_lexer": "ipython3",
   "version": "3.13.5"
  }
 },
 "nbformat": 4,
 "nbformat_minor": 5
}
