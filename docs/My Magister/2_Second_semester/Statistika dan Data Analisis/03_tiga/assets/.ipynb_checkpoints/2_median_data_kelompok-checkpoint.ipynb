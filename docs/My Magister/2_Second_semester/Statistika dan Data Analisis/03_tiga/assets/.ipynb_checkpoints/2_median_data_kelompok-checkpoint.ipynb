{
 "cells": [
  {
   "cell_type": "code",
   "execution_count": 1,
   "id": "a90d9b47-b759-43f1-acc5-1c634161e2ed",
   "metadata": {
    "execution": {
     "iopub.execute_input": "2025-10-04T23:29:12.970361Z",
     "iopub.status.busy": "2025-10-04T23:29:12.970054Z",
     "iopub.status.idle": "2025-10-04T23:29:13.308502Z",
     "shell.execute_reply": "2025-10-04T23:29:13.307968Z",
     "shell.execute_reply.started": "2025-10-04T23:29:12.970344Z"
    }
   },
   "outputs": [],
   "source": [
    "import pandas as pd\n",
    "import numpy as np"
   ]
  },
  {
   "cell_type": "code",
   "execution_count": 2,
   "id": "230c3dba-edd6-434c-9aab-8f1595ae9f04",
   "metadata": {
    "execution": {
     "iopub.execute_input": "2025-10-04T23:29:13.309516Z",
     "iopub.status.busy": "2025-10-04T23:29:13.309207Z",
     "iopub.status.idle": "2025-10-04T23:29:13.323961Z",
     "shell.execute_reply": "2025-10-04T23:29:13.323536Z",
     "shell.execute_reply.started": "2025-10-04T23:29:13.309484Z"
    }
   },
   "outputs": [
    {
     "data": {
      "text/html": [
       "<div>\n",
       "<style scoped>\n",
       "    .dataframe tbody tr th:only-of-type {\n",
       "        vertical-align: middle;\n",
       "    }\n",
       "\n",
       "    .dataframe tbody tr th {\n",
       "        vertical-align: top;\n",
       "    }\n",
       "\n",
       "    .dataframe thead th {\n",
       "        text-align: right;\n",
       "    }\n",
       "</style>\n",
       "<table border=\"1\" class=\"dataframe\">\n",
       "  <thead>\n",
       "    <tr style=\"text-align: right;\">\n",
       "      <th></th>\n",
       "      <th>lower_bond</th>\n",
       "      <th>upper_bond</th>\n",
       "      <th>frekuensi</th>\n",
       "    </tr>\n",
       "  </thead>\n",
       "  <tbody>\n",
       "    <tr>\n",
       "      <th>0</th>\n",
       "      <td>3</td>\n",
       "      <td>7</td>\n",
       "      <td>3</td>\n",
       "    </tr>\n",
       "    <tr>\n",
       "      <th>1</th>\n",
       "      <td>8</td>\n",
       "      <td>12</td>\n",
       "      <td>6</td>\n",
       "    </tr>\n",
       "    <tr>\n",
       "      <th>2</th>\n",
       "      <td>13</td>\n",
       "      <td>17</td>\n",
       "      <td>3</td>\n",
       "    </tr>\n",
       "    <tr>\n",
       "      <th>3</th>\n",
       "      <td>18</td>\n",
       "      <td>22</td>\n",
       "      <td>4</td>\n",
       "    </tr>\n",
       "    <tr>\n",
       "      <th>4</th>\n",
       "      <td>23</td>\n",
       "      <td>27</td>\n",
       "      <td>2</td>\n",
       "    </tr>\n",
       "    <tr>\n",
       "      <th>5</th>\n",
       "      <td>28</td>\n",
       "      <td>32</td>\n",
       "      <td>5</td>\n",
       "    </tr>\n",
       "  </tbody>\n",
       "</table>\n",
       "</div>"
      ],
      "text/plain": [
       "   lower_bond  upper_bond  frekuensi\n",
       "0           3           7          3\n",
       "1           8          12          6\n",
       "2          13          17          3\n",
       "3          18          22          4\n",
       "4          23          27          2\n",
       "5          28          32          5"
      ]
     },
     "execution_count": 2,
     "metadata": {},
     "output_type": "execute_result"
    }
   ],
   "source": [
    "lower_bond = np.asarray([3,8,13,18,23,28] )\n",
    "upper_bond = lower_bond + 4\n",
    "frekuensi = [3,6,3,4,2,5]\n",
    "\n",
    "pd_data = pd.DataFrame({\"lower_bond\":lower_bond, \"upper_bond\":upper_bond, \"frekuensi\":frekuensi})\n",
    "pd_data"
   ]
  },
  {
   "cell_type": "markdown",
   "id": "9d66119a-73f1-4c35-8c00-c098e4216622",
   "metadata": {},
   "source": [
    "Pertama kita harus mengetahui pada kelas berapa kemungkinan nila median tersebut. Kita dapat mengetahuinya dengan cara membagi 2 jumlah frekuensi lalu menetapkan inverval kemungkinan nila tengah bearada."
   ]
  },
  {
   "cell_type": "code",
   "execution_count": 3,
   "id": "f2dccb67-c37b-41ae-9c4b-9619ec732060",
   "metadata": {
    "execution": {
     "iopub.execute_input": "2025-10-04T23:29:13.324690Z",
     "iopub.status.busy": "2025-10-04T23:29:13.324474Z",
     "iopub.status.idle": "2025-10-04T23:29:13.329062Z",
     "shell.execute_reply": "2025-10-04T23:29:13.328474Z",
     "shell.execute_reply.started": "2025-10-04T23:29:13.324673Z"
    }
   },
   "outputs": [
    {
     "data": {
      "text/plain": [
       "[3, 9, 12, 16, 18, 23]"
      ]
     },
     "execution_count": 3,
     "metadata": {},
     "output_type": "execute_result"
    }
   ],
   "source": [
    "## Membuat frekuensi kumulatifabs\n",
    "frekuensi_kumulatif = [sum(pd_data.frekuensi[0:a+1]) for a,b in enumerate(pd_data.frekuensi)]\n",
    "\n",
    "\n",
    "frekuensi_kumulatif"
   ]
  },
  {
   "cell_type": "code",
   "execution_count": 4,
   "id": "9f80262b-e153-4cd5-bcf9-bd2ac1eab255",
   "metadata": {
    "execution": {
     "iopub.execute_input": "2025-10-04T23:29:13.330856Z",
     "iopub.status.busy": "2025-10-04T23:29:13.330538Z",
     "iopub.status.idle": "2025-10-04T23:29:13.336756Z",
     "shell.execute_reply": "2025-10-04T23:29:13.336121Z",
     "shell.execute_reply.started": "2025-10-04T23:29:13.330839Z"
    }
   },
   "outputs": [
    {
     "data": {
      "text/html": [
       "<div>\n",
       "<style scoped>\n",
       "    .dataframe tbody tr th:only-of-type {\n",
       "        vertical-align: middle;\n",
       "    }\n",
       "\n",
       "    .dataframe tbody tr th {\n",
       "        vertical-align: top;\n",
       "    }\n",
       "\n",
       "    .dataframe thead th {\n",
       "        text-align: right;\n",
       "    }\n",
       "</style>\n",
       "<table border=\"1\" class=\"dataframe\">\n",
       "  <thead>\n",
       "    <tr style=\"text-align: right;\">\n",
       "      <th></th>\n",
       "      <th>lower_bond</th>\n",
       "      <th>upper_bond</th>\n",
       "      <th>frekuensi</th>\n",
       "      <th>frekuensi_kumulatif</th>\n",
       "    </tr>\n",
       "  </thead>\n",
       "  <tbody>\n",
       "    <tr>\n",
       "      <th>0</th>\n",
       "      <td>3</td>\n",
       "      <td>7</td>\n",
       "      <td>3</td>\n",
       "      <td>3</td>\n",
       "    </tr>\n",
       "    <tr>\n",
       "      <th>1</th>\n",
       "      <td>8</td>\n",
       "      <td>12</td>\n",
       "      <td>6</td>\n",
       "      <td>9</td>\n",
       "    </tr>\n",
       "    <tr>\n",
       "      <th>2</th>\n",
       "      <td>13</td>\n",
       "      <td>17</td>\n",
       "      <td>3</td>\n",
       "      <td>12</td>\n",
       "    </tr>\n",
       "    <tr>\n",
       "      <th>3</th>\n",
       "      <td>18</td>\n",
       "      <td>22</td>\n",
       "      <td>4</td>\n",
       "      <td>16</td>\n",
       "    </tr>\n",
       "    <tr>\n",
       "      <th>4</th>\n",
       "      <td>23</td>\n",
       "      <td>27</td>\n",
       "      <td>2</td>\n",
       "      <td>18</td>\n",
       "    </tr>\n",
       "    <tr>\n",
       "      <th>5</th>\n",
       "      <td>28</td>\n",
       "      <td>32</td>\n",
       "      <td>5</td>\n",
       "      <td>23</td>\n",
       "    </tr>\n",
       "  </tbody>\n",
       "</table>\n",
       "</div>"
      ],
      "text/plain": [
       "   lower_bond  upper_bond  frekuensi  frekuensi_kumulatif\n",
       "0           3           7          3                    3\n",
       "1           8          12          6                    9\n",
       "2          13          17          3                   12\n",
       "3          18          22          4                   16\n",
       "4          23          27          2                   18\n",
       "5          28          32          5                   23"
      ]
     },
     "execution_count": 4,
     "metadata": {},
     "output_type": "execute_result"
    }
   ],
   "source": [
    "pd_data[\"frekuensi_kumulatif\"] = frekuensi_kumulatif\n",
    "pd_data"
   ]
  },
  {
   "cell_type": "code",
   "execution_count": 5,
   "id": "e7c8bf77-bd11-4e11-ae01-82a06cbd5dc2",
   "metadata": {
    "execution": {
     "iopub.execute_input": "2025-10-04T23:29:13.339586Z",
     "iopub.status.busy": "2025-10-04T23:29:13.338988Z",
     "iopub.status.idle": "2025-10-04T23:29:13.343077Z",
     "shell.execute_reply": "2025-10-04T23:29:13.342450Z",
     "shell.execute_reply.started": "2025-10-04T23:29:13.339568Z"
    }
   },
   "outputs": [
    {
     "name": "stdout",
     "output_type": "stream",
     "text": [
      "Nilai tengahan kemungkinan ada di interval = 5    11.5\n",
      "Name: frekuensi_kumulatif, dtype: float64\n"
     ]
    }
   ],
   "source": [
    "print(f'Nilai tengahan kemungkinan ada di interval = {pd_data.frekuensi_kumulatif[-1:]/2 }')"
   ]
  },
  {
   "cell_type": "markdown",
   "id": "e504e5d4-956c-4d21-9fa1-4cd0da4b2eaf",
   "metadata": {},
   "source": [
    "Kita dapati bahwa nilai tengah berada pata 11.5, jika merujuk pada table distrbusi frekuensi nilai tersebut terletaj pada rentang nilai `13-17`. Atau pada data frame pada index ke **2**"
   ]
  },
  {
   "cell_type": "code",
   "execution_count": 6,
   "id": "f615dcf5-03f6-4ec6-b511-9866ea30c84d",
   "metadata": {
    "execution": {
     "iopub.execute_input": "2025-10-04T23:29:13.344056Z",
     "iopub.status.busy": "2025-10-04T23:29:13.343755Z",
     "iopub.status.idle": "2025-10-04T23:29:13.751119Z",
     "shell.execute_reply": "2025-10-04T23:29:13.750640Z",
     "shell.execute_reply.started": "2025-10-04T23:29:13.344041Z"
    }
   },
   "outputs": [
    {
     "data": {
      "text/html": [
       "<style type=\"text/css\">\n",
       "#T_a6ea3_row2_col0, #T_a6ea3_row2_col1, #T_a6ea3_row2_col2, #T_a6ea3_row2_col3 {\n",
       "  background-color: lightgreen;\n",
       "}\n",
       "</style>\n",
       "<table id=\"T_a6ea3\">\n",
       "  <thead>\n",
       "    <tr>\n",
       "      <th class=\"blank level0\" >&nbsp;</th>\n",
       "      <th id=\"T_a6ea3_level0_col0\" class=\"col_heading level0 col0\" >lower_bond</th>\n",
       "      <th id=\"T_a6ea3_level0_col1\" class=\"col_heading level0 col1\" >upper_bond</th>\n",
       "      <th id=\"T_a6ea3_level0_col2\" class=\"col_heading level0 col2\" >frekuensi</th>\n",
       "      <th id=\"T_a6ea3_level0_col3\" class=\"col_heading level0 col3\" >frekuensi_kumulatif</th>\n",
       "    </tr>\n",
       "  </thead>\n",
       "  <tbody>\n",
       "    <tr>\n",
       "      <th id=\"T_a6ea3_level0_row0\" class=\"row_heading level0 row0\" >0</th>\n",
       "      <td id=\"T_a6ea3_row0_col0\" class=\"data row0 col0\" >3</td>\n",
       "      <td id=\"T_a6ea3_row0_col1\" class=\"data row0 col1\" >7</td>\n",
       "      <td id=\"T_a6ea3_row0_col2\" class=\"data row0 col2\" >3</td>\n",
       "      <td id=\"T_a6ea3_row0_col3\" class=\"data row0 col3\" >3</td>\n",
       "    </tr>\n",
       "    <tr>\n",
       "      <th id=\"T_a6ea3_level0_row1\" class=\"row_heading level0 row1\" >1</th>\n",
       "      <td id=\"T_a6ea3_row1_col0\" class=\"data row1 col0\" >8</td>\n",
       "      <td id=\"T_a6ea3_row1_col1\" class=\"data row1 col1\" >12</td>\n",
       "      <td id=\"T_a6ea3_row1_col2\" class=\"data row1 col2\" >6</td>\n",
       "      <td id=\"T_a6ea3_row1_col3\" class=\"data row1 col3\" >9</td>\n",
       "    </tr>\n",
       "    <tr>\n",
       "      <th id=\"T_a6ea3_level0_row2\" class=\"row_heading level0 row2\" >2</th>\n",
       "      <td id=\"T_a6ea3_row2_col0\" class=\"data row2 col0\" >13</td>\n",
       "      <td id=\"T_a6ea3_row2_col1\" class=\"data row2 col1\" >17</td>\n",
       "      <td id=\"T_a6ea3_row2_col2\" class=\"data row2 col2\" >3</td>\n",
       "      <td id=\"T_a6ea3_row2_col3\" class=\"data row2 col3\" >12</td>\n",
       "    </tr>\n",
       "    <tr>\n",
       "      <th id=\"T_a6ea3_level0_row3\" class=\"row_heading level0 row3\" >3</th>\n",
       "      <td id=\"T_a6ea3_row3_col0\" class=\"data row3 col0\" >18</td>\n",
       "      <td id=\"T_a6ea3_row3_col1\" class=\"data row3 col1\" >22</td>\n",
       "      <td id=\"T_a6ea3_row3_col2\" class=\"data row3 col2\" >4</td>\n",
       "      <td id=\"T_a6ea3_row3_col3\" class=\"data row3 col3\" >16</td>\n",
       "    </tr>\n",
       "    <tr>\n",
       "      <th id=\"T_a6ea3_level0_row4\" class=\"row_heading level0 row4\" >4</th>\n",
       "      <td id=\"T_a6ea3_row4_col0\" class=\"data row4 col0\" >23</td>\n",
       "      <td id=\"T_a6ea3_row4_col1\" class=\"data row4 col1\" >27</td>\n",
       "      <td id=\"T_a6ea3_row4_col2\" class=\"data row4 col2\" >2</td>\n",
       "      <td id=\"T_a6ea3_row4_col3\" class=\"data row4 col3\" >18</td>\n",
       "    </tr>\n",
       "    <tr>\n",
       "      <th id=\"T_a6ea3_level0_row5\" class=\"row_heading level0 row5\" >5</th>\n",
       "      <td id=\"T_a6ea3_row5_col0\" class=\"data row5 col0\" >28</td>\n",
       "      <td id=\"T_a6ea3_row5_col1\" class=\"data row5 col1\" >32</td>\n",
       "      <td id=\"T_a6ea3_row5_col2\" class=\"data row5 col2\" >5</td>\n",
       "      <td id=\"T_a6ea3_row5_col3\" class=\"data row5 col3\" >23</td>\n",
       "    </tr>\n",
       "  </tbody>\n",
       "</table>\n"
      ],
      "text/plain": [
       "<pandas.io.formats.style.Styler at 0x259718c3b60>"
      ]
     },
     "execution_count": 6,
     "metadata": {},
     "output_type": "execute_result"
    }
   ],
   "source": [
    "color = \"lightgreen\"\n",
    "pd_data.style.map(lambda _: f\"background-color: {color}\",\n",
    "                  subset=(pd_data.index[2],))"
   ]
  },
  {
   "cell_type": "markdown",
   "id": "4f924827-58ee-496b-88ab-3cfcd9ab0a8a",
   "metadata": {},
   "source": [
    "## Memasukan nilai-nilai kedalam fungsi median\n",
    "\n",
    "$$\n",
    "Median = B_{b} + (\\frac{\\frac{N}{2} - fk_{b}}{f_{d}}) \\times i\n",
    "$$\n"
   ]
  },
  {
   "cell_type": "code",
   "execution_count": 7,
   "id": "c11e08b7-fa0e-47c9-9bfa-370ca6eaf766",
   "metadata": {
    "execution": {
     "iopub.execute_input": "2025-10-04T23:29:13.752220Z",
     "iopub.status.busy": "2025-10-04T23:29:13.751722Z",
     "iopub.status.idle": "2025-10-04T23:29:13.756074Z",
     "shell.execute_reply": "2025-10-04T23:29:13.755543Z",
     "shell.execute_reply.started": "2025-10-04T23:29:13.752205Z"
    }
   },
   "outputs": [
    {
     "name": "stdout",
     "output_type": "stream",
     "text": [
      "13\n",
      "11.5\n",
      "5\n",
      "9\n",
      "3\n"
     ]
    }
   ],
   "source": [
    "batas_bawah_kelas_median = pd_data.lower_bond[2]\n",
    "n_per_2 = pd_data.frekuensi_kumulatif[-1:].iloc[0]/2\n",
    "interval = (pd_data.upper_bond[2] - pd_data.lower_bond[2]) +1\n",
    "frekuensi_cum_before_current_median_class = pd_data.frekuensi_kumulatif[1]\n",
    "frekuens_on_current_medial_class = pd_data.frekuensi[2]\n",
    "\n",
    "print(batas_bawah_kelas_median)\n",
    "print(n_per_2)\n",
    "print(interval)\n",
    "print(frekuensi_cum_before_current_median_class)\n",
    "print(frekuens_on_current_medial_class)"
   ]
  },
  {
   "cell_type": "markdown",
   "id": "afeb805c-3177-4a41-8831-67058463288d",
   "metadata": {},
   "source": [
    "$$\n",
    "Median = 12.5 + (\\frac{\\frac{23}{2} - 9}{3}) \\times 5\n",
    "$$"
   ]
  },
  {
   "cell_type": "code",
   "execution_count": 8,
   "id": "101d2c84-9ece-4afd-a036-bc46f13534a5",
   "metadata": {
    "execution": {
     "iopub.execute_input": "2025-10-04T23:29:13.757294Z",
     "iopub.status.busy": "2025-10-04T23:29:13.756713Z",
     "iopub.status.idle": "2025-10-04T23:29:13.763067Z",
     "shell.execute_reply": "2025-10-04T23:29:13.762582Z",
     "shell.execute_reply.started": "2025-10-04T23:29:13.757278Z"
    }
   },
   "outputs": [
    {
     "data": {
      "text/plain": [
       "np.float64(16.666666666666668)"
      ]
     },
     "execution_count": 8,
     "metadata": {},
     "output_type": "execute_result"
    }
   ],
   "source": [
    "median = (batas_bawah_kelas_median-0.5) + (((n_per_2 - frekuensi_cum_before_current_median_class)/frekuens_on_current_medial_class) * interval)\n",
    "median"
   ]
  },
  {
   "cell_type": "markdown",
   "id": "f6c7bd25-b3ec-4ba4-8688-2f491b83628a",
   "metadata": {
    "execution": {
     "iopub.execute_input": "2025-10-04T23:22:40.604630Z",
     "iopub.status.busy": "2025-10-04T23:22:40.604434Z",
     "iopub.status.idle": "2025-10-04T23:22:40.608361Z",
     "shell.execute_reply": "2025-10-04T23:22:40.607727Z",
     "shell.execute_reply.started": "2025-10-04T23:22:40.604616Z"
    }
   },
   "source": [
    "Kita mendapati bahwa nilai tengah berada pada pada kelas `13-17` dengan titik yg lebih tepat pada `16.67`"
   ]
  }
 ],
 "metadata": {
  "kernelspec": {
   "display_name": "Python 3 (ipykernel)",
   "language": "python",
   "name": "python3"
  },
  "language_info": {
   "codemirror_mode": {
    "name": "ipython",
    "version": 3
   },
   "file_extension": ".py",
   "mimetype": "text/x-python",
   "name": "python",
   "nbconvert_exporter": "python",
   "pygments_lexer": "ipython3",
   "version": "3.13.5"
  }
 },
 "nbformat": 4,
 "nbformat_minor": 5
}
